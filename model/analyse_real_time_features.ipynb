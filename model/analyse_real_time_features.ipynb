{
 "cells": [
  {
   "cell_type": "markdown",
   "id": "f20f490f",
   "metadata": {},
   "source": [
    "# Analyse real time features extracted from a debugging session"
   ]
  },
  {
   "cell_type": "code",
   "execution_count": 4,
   "id": "c787209b",
   "metadata": {},
   "outputs": [],
   "source": [
    "import numpy as np\n",
    "import matplotlib.pyplot as plt\n",
    "import keras\n",
    "import librosa\n",
    "import librosa.display\n",
    "import pickle"
   ]
  },
  {
   "cell_type": "markdown",
   "id": "b0005506",
   "metadata": {},
   "source": [
    "## Global settings\n",
    "__Important:__ These settings have to match the ones in the STM32 application."
   ]
  },
  {
   "cell_type": "code",
   "execution_count": 12,
   "id": "9d57f99c",
   "metadata": {},
   "outputs": [],
   "source": [
    "# Sampling\n",
    "sampling_freq = 48000 # kHz \n",
    "n_stft_columns = 32 # How many columns for the short time fourier transformation\n",
    "frame_size = 512*n_stft_columns + 512 # For one spectrogram column 1024 samples are needed\n",
    "n_frames = 100 # How many frames were recorded\n",
    "\n",
    "# Realtime audio preprocessing\n",
    "n_mels = 30 # Resolution (bins) of one stft column\n",
    "n_fft = 1024 # Size for one fft\n",
    "hop_length = 512 # Jumps between fft windows\n",
    "fmin = 4000 # Lowest bin for the columns\n",
    "top_db = 80"
   ]
  },
  {
   "cell_type": "markdown",
   "id": "f4d94009",
   "metadata": {},
   "source": [
    "## Import features\n",
    "Load real-time spectrograms i.e the features for the neural network"
   ]
  },
  {
   "cell_type": "code",
   "execution_count": 6,
   "id": "72441963",
   "metadata": {
    "scrolled": false
   },
   "outputs": [],
   "source": [
    "features = np.loadtxt('real_time_features.txt', delimiter=',')\n",
    "features = features.reshape(30, 32)"
   ]
  },
  {
   "cell_type": "markdown",
   "id": "12686a06",
   "metadata": {},
   "source": [
    "## Normalize features\n",
    "This is needed if features are extracted before the normalization of the STM32 application."
   ]
  },
  {
   "cell_type": "code",
   "execution_count": 8,
   "id": "e35a2da1",
   "metadata": {
    "scrolled": false
   },
   "outputs": [],
   "source": [
    "normalize_dir = './normalize/'\n",
    "scaler = pickle.load(open(normalize_dir + 'scaler.pkl', 'rb'))\n",
    "features = features.reshape(1, n_mels*n_stft_columns)\n",
    "features = scaler.transform(features)\n",
    "features = features.reshape(n_mels, n_stft_columns)"
   ]
  },
  {
   "cell_type": "markdown",
   "id": "bf00f6bc",
   "metadata": {},
   "source": [
    "## Plot spectrogram"
   ]
  },
  {
   "cell_type": "code",
   "execution_count": 13,
   "id": "2571ad66",
   "metadata": {},
   "outputs": [
    {
     "data": {
      "image/png": "[encoded data removed]",
      "text/plain": [
       "<Figure size 720x288 with 2 Axes>"
      ]
     },
     "metadata": {
      "needs_background": "light"
     },
     "output_type": "display_data"
    }
   ],
   "source": [
    "# Plot log mel spectrogram\n",
    "plt.figure(figsize=(10, 4))\n",
    "librosa.display.specshow(features, sr=sampling_freq, y_axis='mel',fmin=fmin,  fmax=24000,\n",
    "                         x_axis='time', cmap='viridis', vmin=-top_db)\n",
    "plt.colorbar(format='%+2.0f dB')\n",
    "plt.title('LogMel spectrogram real time sample')\n",
    "plt.show()"
   ]
  },
  {
   "cell_type": "markdown",
   "id": "a00db4aa",
   "metadata": {},
   "source": [
    "## Load model and make a prediction"
   ]
  },
  {
   "cell_type": "code",
   "execution_count": 14,
   "id": "b06b212d",
   "metadata": {
    "scrolled": true
   },
   "outputs": [],
   "source": [
    "# Load model\n",
    "model = keras.models.load_model('wmc.h5', compile = True)"
   ]
  },
  {
   "cell_type": "code",
   "execution_count": 17,
   "id": "929ee24c",
   "metadata": {
    "scrolled": false
   },
   "outputs": [
    {
     "name": "stdout",
     "output_type": "stream",
     "text": [
      "[[1.0000000e+00 5.6685483e-13 1.8722276e-22]]\n"
     ]
    }
   ],
   "source": [
    "# Make the prediction\n",
    "features_r = features.reshape(1, n_mels, n_stft_columns, 1)\n",
    "prediction = model.predict(features_r)\n",
    "\n",
    "print(prediction)"
   ]
  }
 ],
 "metadata": {
  "kernelspec": {
   "display_name": "Python 3",
   "language": "python",
   "name": "python3"
  },
  "language_info": {
   "codemirror_mode": {
    "name": "ipython",
    "version": 3
   },
   "file_extension": ".py",
   "mimetype": "text/x-python",
   "name": "python",
   "nbconvert_exporter": "python",
   "pygments_lexer": "ipython3",
   "version": "3.7.10"
  }
 },
 "nbformat": 4,
 "nbformat_minor": 5
}
