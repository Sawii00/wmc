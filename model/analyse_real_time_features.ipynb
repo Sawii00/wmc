{
 "cells": [
  {
   "cell_type": "markdown",
   "id": "f20f490f",
   "metadata": {},
   "source": [
    "# Analyse real time features extracted from a debugging session"
   ]
  },
  {
   "cell_type": "code",
   "execution_count": 3,
   "id": "c787209b",
   "metadata": {},
   "outputs": [],
   "source": [
    "import numpy as np\n",
    "import matplotlib.pyplot as plt\n",
    "import keras\n",
    "import librosa\n",
    "import librosa.display\n",
    "import pickle"
   ]
  },
  {
   "cell_type": "markdown",
   "id": "b0005506",
   "metadata": {},
   "source": [
    "## Global settings\n",
    "__Important:__ These settings have to match the ones in the STM32 application."
   ]
  },
  {
   "cell_type": "code",
   "execution_count": 4,
   "id": "9d57f99c",
   "metadata": {},
   "outputs": [],
   "source": [
    "AUDIO_SAMPLING_FREQUENCY = 48000 # kHz \n",
    "NB_FFTS = 32 # How many columns for the short time fourier transformation\n",
    "NB_BINS = 30 # Resolution (bins) of one STFT column\n",
    "HOP_LENGTH = 512 # Jumps between FFT windows\n",
    "FRAME_SIZE = HOP_LENGTH*NB_FFTS + HOP_LENGTH # For one spectrogram column 1024 samples are needed\n",
    "NB_FRAMES = 100 # Total number of frames recorded in one WAV file\n",
    "FFT_SIZE = 1024 # Size for one FFT\n",
    "FREQ_MIN = 5000 # Lowest bin for the columns\n",
    "TOP_DB = 80 # Cut off of DBs"
   ]
  },
  {
   "cell_type": "markdown",
   "id": "f4d94009",
   "metadata": {},
   "source": [
    "## Import features\n",
    "Load real-time spectrograms i.e the features for the neural network"
   ]
  },
  {
   "cell_type": "code",
   "execution_count": 7,
   "id": "72441963",
   "metadata": {
    "scrolled": false
   },
   "outputs": [],
   "source": [
    "features = np.loadtxt('real_time_features.txt', delimiter=',')\n",
    "features = features.reshape(NB_BINS, NB_FFTS)"
   ]
  },
  {
   "cell_type": "markdown",
   "id": "12686a06",
   "metadata": {},
   "source": [
    "## Normalize features\n",
    "This is needed if features are extracted before the normalization of the STM32 application."
   ]
  },
  {
   "cell_type": "code",
   "execution_count": 8,
   "id": "e35a2da1",
   "metadata": {
    "scrolled": false
   },
   "outputs": [],
   "source": [
    "normalize_dir = './normalize/'\n",
    "scaler = pickle.load(open(normalize_dir + 'scaler.pkl', 'rb'))\n",
    "features = features.reshape(1, NB_BINS*NB_FFTS)\n",
    "features = scaler.transform(features)\n",
    "features = features.reshape(NB_BINS, NB_FFTS)"
   ]
  },
  {
   "cell_type": "markdown",
   "id": "bf00f6bc",
   "metadata": {},
   "source": [
    "## Plot spectrogram"
   ]
  },
  {
   "cell_type": "code",
   "execution_count": 12,
   "id": "2571ad66",
   "metadata": {},
   "outputs": [
    {
     "name": "stderr",
     "output_type": "stream",
     "text": [
      "/opt/miniconda3/lib/python3.7/site-packages/ipykernel_launcher.py:6: MatplotlibDeprecationWarning: shading='flat' when X and Y have the same dimensions as C is deprecated since 3.3.  Either specify the corners of the quadrilaterals with X and Y, or pass shading='auto', 'nearest' or 'gouraud', or set rcParams['pcolor.shading'].  This will become an error two minor releases later.\n",
      "  \n"
     ]
    },
    {
     "data": {
      "image/png": "[encoded data removed]",
      "text/plain": [
       "<Figure size 432x288 with 1 Axes>"
      ]
     },
     "metadata": {
      "needs_background": "light"
     },
     "output_type": "display_data"
    }
   ],
   "source": [
    "# Plot STFT spectrogram\n",
    "z = features.transpose()\n",
    "grid_x, grid_y = np.mgrid[:32, :30]\n",
    "\n",
    "plt.title('STFT spectrogram real time sample')\n",
    "plt.pcolormesh(grid_x, grid_y, z)\n",
    "plt.show()"
   ]
  },
  {
   "cell_type": "markdown",
   "id": "a00db4aa",
   "metadata": {},
   "source": [
    "## Load model and make a prediction"
   ]
  },
  {
   "cell_type": "code",
   "execution_count": 13,
   "id": "b06b212d",
   "metadata": {
    "scrolled": true
   },
   "outputs": [],
   "source": [
    "# Load model\n",
    "model = keras.models.load_model('wmc.h5', compile = True)"
   ]
  },
  {
   "cell_type": "code",
   "execution_count": 15,
   "id": "929ee24c",
   "metadata": {
    "scrolled": false
   },
   "outputs": [
    {
     "name": "stdout",
     "output_type": "stream",
     "text": [
      "[[0.01445446 0.968246   0.01729961]]\n"
     ]
    }
   ],
   "source": [
    "# Make the prediction\n",
    "features_r = features.reshape(1, NB_BINS, NB_FFTS, 1)\n",
    "prediction = model.predict(features_r)\n",
    "\n",
    "print(prediction)"
   ]
  },
  {
   "cell_type": "code",
   "execution_count": null,
   "id": "11bacb96",
   "metadata": {},
   "outputs": [],
   "source": []
  }
 ],
 "metadata": {
  "kernelspec": {
   "display_name": "Python 3",
   "language": "python",
   "name": "python3"
  },
  "language_info": {
   "codemirror_mode": {
    "name": "ipython",
    "version": 3
   },
   "file_extension": ".py",
   "mimetype": "text/x-python",
   "name": "python",
   "nbconvert_exporter": "python",
   "pygments_lexer": "ipython3",
   "version": "3.7.10"
  }
 },
 "nbformat": 4,
 "nbformat_minor": 5
}
