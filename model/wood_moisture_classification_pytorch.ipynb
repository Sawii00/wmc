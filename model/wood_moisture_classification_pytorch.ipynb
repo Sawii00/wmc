{
 "cells": [
  {
   "cell_type": "markdown",
   "metadata": {},
   "source": [
    "# Wood moisture classification (wmc) model creation pipeline"
   ]
  },
  {
   "cell_type": "markdown",
   "metadata": {},
   "source": [
    "The following code is adapted from the FP-AI-SENSING1 application of ST microelectronics"
   ]
  },
  {
   "cell_type": "code",
   "execution_count": 1,
   "metadata": {
    "executionInfo": {
     "elapsed": 4406,
     "status": "ok",
     "timestamp": 1622629793582,
     "user": {
      "displayName": "Moritz Waldleben",
      "photoUrl": "",
      "userId": "09098551526927023625"
     },
     "user_tz": -120
    },
    "id": "swA6t4wgSpNa"
   },
   "outputs": [
    {
     "name": "stderr",
     "output_type": "stream",
     "text": [
      "/home/saverio/.local/lib/python3.9/site-packages/tqdm/auto.py:22: TqdmWarning: IProgress not found. Please update jupyter and ipywidgets. See https://ipywidgets.readthedocs.io/en/stable/user_install.html\n",
      "  from .autonotebook import tqdm as notebook_tqdm\n"
     ]
    }
   ],
   "source": [
    "import numpy as np\n",
    "import os\n",
    "from tqdm import tqdm\n",
    "import librosa\n",
    "import librosa.display\n",
    "import librosa.util\n",
    "#from IPython.display import Audio\n",
    "import matplotlib.pyplot as plt\n",
    "from sklearn import preprocessing\n",
    "from sklearn.metrics import confusion_matrix\n",
    "from sklearn.metrics import accuracy_score\n",
    "from sklearn.model_selection import train_test_split\n",
    "#import tensorflow as tf\n",
    "#import keras.utils\n",
    "#from keras import layers\n",
    "#from keras import models\n",
    "#from keras import optimizers\n",
    "from pickle import dump\n",
    "import random\n",
    "\n",
    "\n",
    "import torch\n",
    "import torch.utils"
   ]
  },
  {
   "cell_type": "code",
   "execution_count": 2,
   "metadata": {
    "colab": {
     "base_uri": "https://localhost:8080/"
    },
    "executionInfo": {
     "elapsed": 295,
     "status": "ok",
     "timestamp": 1622629798189,
     "user": {
      "displayName": "Moritz Waldleben",
      "photoUrl": "",
      "userId": "09098551526927023625"
     },
     "user_tz": -120
    },
    "id": "hJV-tuxQSpNd",
    "outputId": "21734d6b-14ca-46dc-fac1-2fe806b72d1f",
    "scrolled": true
   },
   "outputs": [
    {
     "name": "stdout",
     "output_type": "stream",
     "text": [
      "TensorFlow: 2.4.1\n",
      "Keras: 2.4.3\n",
      "Librosa: 0.8.1\n"
     ]
    }
   ],
   "source": [
    "# Current version (for reproduction)\n",
    "print(\"TensorFlow:\", tf.__version__)\n",
    "print(\"Keras:\", keras.__version__)\n",
    "print(\"Librosa:\", librosa.__version__)"
   ]
  },
  {
   "cell_type": "markdown",
   "metadata": {},
   "source": [
    "## Global settings\n",
    "__Important:__ These settings have to match the ones in the STM32 application."
   ]
  },
  {
   "cell_type": "code",
   "execution_count": 2,
   "metadata": {},
   "outputs": [],
   "source": [
    "AUDIO_SAMPLING_FREQUENCY = 48000 # kHz \n",
    "NB_FRAMES = 32 # How many columns for the short time fourier transformation\n",
    "NB_BINS = 30 # Resolution (bins) of one STFT column\n",
    "HOP_LENGTH = 512 # Jumps between FFT frames\n",
    "WINDOW_SIZE = HOP_LENGTH*NB_FRAMES + HOP_LENGTH # For one spectrogram column 1024 samples are needed\n",
    "NB_WINDOWS = 100 # Total number of windwo recorded in one WAV file\n",
    "FRAME_SIZE = 1024 # Size for one FFT\n",
    "FREQ_MIN = 5000 # Lowest bin for the columns\n",
    "TOP_DB = 80 # Cut off of DBs"
   ]
  },
  {
   "cell_type": "markdown",
   "metadata": {
    "id": "NbcriJ54SpNe"
   },
   "source": [
    "## 1. Import and convert the data\n",
    "Load the files from the data directory. The labels for the files are specified in model/dataset/labels.txt."
   ]
  },
  {
   "cell_type": "code",
   "execution_count": 3,
   "metadata": {
    "colab": {
     "base_uri": "https://localhost:8080/"
    },
    "executionInfo": {
     "elapsed": 8263,
     "status": "ok",
     "timestamp": 1622629865632,
     "user": {
      "displayName": "Moritz Waldleben",
      "photoUrl": "",
      "userId": "09098551526927023625"
     },
     "user_tz": -120
    },
    "id": "MavxVlcfSpNf",
    "outputId": "e41d3511-2053-4e9c-bec1-5dd0dc2b2263",
    "scrolled": true
   },
   "outputs": [
    {
     "name": "stderr",
     "output_type": "stream",
     "text": [
      "100%|██████████| 18/18 [00:00<00:00, 28.22it/s]\n"
     ]
    }
   ],
   "source": [
    "dataset_dir = './dataset'\n",
    "fileset_path = path = os.path.join(dataset_dir, 'labels.txt')\n",
    "fileset = np.loadtxt(fileset_path, dtype=str)\n",
    "\n",
    "# 3 classes : 0 dry, 1 semiwet, 2 wet\n",
    "class_names = ['dry', 'semiwet', 'wet']\n",
    "labels = {\n",
    "    'dry' : 0,\n",
    "    'semiwet' : 1,\n",
    "    'wet' : 2,\n",
    "}\n",
    "\n",
    "\n",
    "# x is a list of the recordings and y is a list of the respective labels (targets)\n",
    "x = []\n",
    "y = []\n",
    "\n",
    "# Iteratate over all recordings defined in labels.txt\n",
    "for file in tqdm(fileset):\n",
    "    file_path, file_label = file\n",
    "    file_path = os.path.join(dataset_dir, file_path)\n",
    "    \n",
    "    signal, _ = librosa.load(file_path, sr=AUDIO_SAMPLING_FREQUENCY, mono=True, dtype=np.float32)   \n",
    "    # Cut off total samples because recording takes a bit more samples\n",
    "    signal = signal[0:NB_WINDOWS*WINDOW_SIZE]\n",
    "    \n",
    "    label = labels[file_label]\n",
    "    \n",
    "    x.append(signal)\n",
    "    y.append(label)"
   ]
  },
  {
   "cell_type": "code",
   "execution_count": 4,
   "metadata": {
    "colab": {
     "base_uri": "https://localhost:8080/",
     "height": 244
    },
    "executionInfo": {
     "elapsed": 24,
     "status": "ok",
     "timestamp": 1622629865634,
     "user": {
      "displayName": "Moritz Waldleben",
      "photoUrl": "",
      "userId": "09098551526927023625"
     },
     "user_tz": -120
    },
    "id": "hFdOVcrrSpNg",
    "outputId": "c9c54745-a65d-4f8c-e36b-7348866fcfd1"
   },
   "outputs": [
    {
     "ename": "AttributeError",
     "evalue": "module 'librosa.display' has no attribute 'waveplot'",
     "output_type": "error",
     "traceback": [
      "\u001b[0;31m---------------------------------------------------------------------------\u001b[0m",
      "\u001b[0;31mAttributeError\u001b[0m                            Traceback (most recent call last)",
      "Cell \u001b[0;32mIn [4], line 8\u001b[0m\n\u001b[1;32m      6\u001b[0m plt\u001b[38;5;241m.\u001b[39mfigure(figsize\u001b[38;5;241m=\u001b[39m(\u001b[38;5;241m12\u001b[39m, \u001b[38;5;241m2\u001b[39m))\n\u001b[1;32m      7\u001b[0m plt\u001b[38;5;241m.\u001b[39mtitle(class_names[y[\u001b[38;5;241m1\u001b[39m]])\n\u001b[0;32m----> 8\u001b[0m \u001b[43mlibrosa\u001b[49m\u001b[38;5;241;43m.\u001b[39;49m\u001b[43mdisplay\u001b[49m\u001b[38;5;241;43m.\u001b[39;49m\u001b[43mwaveplot\u001b[49m(window, sr\u001b[38;5;241m=\u001b[39mAUDIO_SAMPLING_FREQUENCY)\n\u001b[1;32m      9\u001b[0m Audio(window, rate\u001b[38;5;241m=\u001b[39mAUDIO_SAMPLING_FREQUENCY)\n",
      "\u001b[0;31mAttributeError\u001b[0m: module 'librosa.display' has no attribute 'waveplot'"
     ]
    },
    {
     "data": {
      "image/png": "[encoded data removed]",
      "text/plain": [
       "<Figure size 1200x200 with 1 Axes>"
      ]
     },
     "metadata": {},
     "output_type": "display_data"
    }
   ],
   "source": [
    "# Check a random sample of first recording\n",
    "rand = random.randint(0, NB_FRAMES)\n",
    "recording1 = x[1]\n",
    "window = recording1[WINDOW_SIZE*rand:WINDOW_SIZE*(rand+1)]\n",
    "\n",
    "plt.figure(figsize=(12, 2))\n",
    "plt.title(class_names[y[1]])\n",
    "librosa.display.waveplot(window, sr=AUDIO_SAMPLING_FREQUENCY)\n",
    "Audio(window, rate=AUDIO_SAMPLING_FREQUENCY)"
   ]
  },
  {
   "cell_type": "markdown",
   "metadata": {
    "id": "zDf566vISpNi"
   },
   "source": [
    "## 2. Prepare the data"
   ]
  },
  {
   "cell_type": "markdown",
   "metadata": {
    "id": "aNYSxUQmSpNj"
   },
   "source": [
    "### 2.1 Slice data into windows\n",
    "Each audio recording (WAV file) contains the specified number of windows (NB_WINDOWS).\n",
    "\n",
    "Each window will contain 16,896 samples (32 * 512 + 512) to create a 32 column spectrogram with FRAME_SIZE=1024 and HOP_LENGTH=512."
   ]
  },
  {
   "cell_type": "code",
   "execution_count": 5,
   "metadata": {
    "colab": {
     "base_uri": "https://localhost:8080/"
    },
    "executionInfo": {
     "elapsed": 433,
     "status": "ok",
     "timestamp": 1622629866056,
     "user": {
      "displayName": "Moritz Waldleben",
      "photoUrl": "",
      "userId": "09098551526927023625"
     },
     "user_tz": -120
    },
    "id": "S6P_OY1_SpNj",
    "outputId": "e64ca577-9a3a-4181-edaf-b6399fd1a521"
   },
   "outputs": [
    {
     "name": "stdout",
     "output_type": "stream",
     "text": [
      "x_windows shape:  (1800, 16896)\n",
      "y_windows shape:  (1800,)\n"
     ]
    }
   ],
   "source": [
    "# Each window will now be an entry in the list\n",
    "x_windows = []\n",
    "y_windows = []\n",
    "\n",
    "# Iteratate over all recordings and create windows\n",
    "for i in range(len(x)):\n",
    "    x_tmp = np.asarray(x[i])    \n",
    "    for k  in range(NB_WINDOWS):\n",
    "        window = x_tmp[k*WINDOW_SIZE:(k+1)*WINDOW_SIZE]\n",
    "        x_windows.append(np.transpose(window)) \n",
    "    y_windows.append(np.full(NB_WINDOWS, y[i]))\n",
    "    \n",
    "# Convert into numpy arrays\n",
    "x_windows = np.asarray(x_windows)\n",
    "y_windows = np.asarray(y_windows)\n",
    "\n",
    "# Reshape labels \n",
    "y_windows = y_windows.reshape(y_windows.shape[0]*y_windows.shape[1], )\n",
    "\n",
    "print(\"x_windows shape: \", x_windows.shape) # Each window of 16,896 samples can be used to create a spectrogram \n",
    "print(\"y_windows shape: \", y_windows.shape) # Corresponding label for each window\n"
   ]
  },
  {
   "cell_type": "markdown",
   "metadata": {
    "id": "97HnRxBwSpNl"
   },
   "source": [
    "### 2.2 Preprocess the data into STFT spectrograms\n",
    "Windows are transformed into the spectrograms of size NB_BINS*NB_FRAMES. A filter bank is created for the FFT columns. The filter bank has to match the one used in the microcontroller."
   ]
  },
  {
   "cell_type": "code",
   "execution_count": 6,
   "metadata": {},
   "outputs": [
    {
     "name": "stdout",
     "output_type": "stream",
     "text": [
      "[107, 120, 133, 146, 158, 171, 184, 197, 210, 222, 235, 248, 261, 274, 286, 299, 312, 325, 338, 350, 363, 376, 389, 402, 414, 427, 440, 453, 466, 478]\n",
      "[120, 133, 146, 158, 171, 184, 197, 210, 222, 235, 248, 261, 274, 286, 299, 312, 325, 338, 350, 363, 376, 389, 402, 414, 427, 440, 453, 466, 478, 491]\n"
     ]
    }
   ],
   "source": [
    "# Initalize FilterBank for the linear FFT bins\n",
    "FilterStartIndices = []\n",
    "FilterStopIndices = []\n",
    "\n",
    "def FilterBankInit():\n",
    "    start_idx = 107;\n",
    "    \n",
    "    for i in range(NB_BINS):\n",
    "        FilterStartIndices.append(start_idx);\n",
    "     \n",
    "        freq_bin = 5300 + i * 600;\n",
    "\n",
    "        for j in range(start_idx,int(FRAME_SIZE/2+1)):\n",
    "            fft_freq = 48000 / 1024 * j;\n",
    "\n",
    "            if (abs(freq_bin-fft_freq) > 300):\n",
    "                start_idx = j;\n",
    "                FilterStopIndices.append(j)\n",
    "                break;\n",
    "\n",
    "FilterBankInit()\n",
    "print(FilterStartIndices)\n",
    "print(FilterStopIndices)\n",
    "\n",
    "def FilterBank(STFT):\n",
    "    S = np.zeros((NB_BINS, 32))\n",
    "    for i in range(NB_BINS):\n",
    "        start_idx = FilterStartIndices[i]\n",
    "        stop_idx = FilterStopIndices[i]\n",
    "\n",
    "        for k in range(32):\n",
    "            sum = 0\n",
    "            for j in range(start_idx, stop_idx):\n",
    "                sum += STFT[j,k];\n",
    "\n",
    "            S[i, k] = sum;\n",
    "    return S"
   ]
  },
  {
   "cell_type": "code",
   "execution_count": 7,
   "metadata": {
    "colab": {
     "base_uri": "https://localhost:8080/"
    },
    "executionInfo": {
     "elapsed": 52162,
     "status": "ok",
     "timestamp": 1622629918204,
     "user": {
      "displayName": "Moritz Waldleben",
      "photoUrl": "",
      "userId": "09098551526927023625"
     },
     "user_tz": -120
    },
    "id": "tbUYwmTBSpNm",
    "outputId": "1bf6c8b3-3ac8-4916-8e42-5291899da0ae"
   },
   "outputs": [
    {
     "name": "stderr",
     "output_type": "stream",
     "text": [
      "100%|██████████| 1800/1800 [00:14<00:00, 120.07it/s]"
     ]
    },
    {
     "name": "stdout",
     "output_type": "stream",
     "text": [
      "x_features shape:  (1800, 30, 32)\n"
     ]
    },
    {
     "name": "stderr",
     "output_type": "stream",
     "text": [
      "\n"
     ]
    }
   ],
   "source": [
    "# Spectograms of windows which will be the feautures for the neural network\n",
    "x_features = []\n",
    "y_features = y_windows\n",
    "\n",
    "for frame in tqdm(x_windows):\n",
    "    # Create a STFT spectrogram\n",
    "    STFT = np.abs(librosa.stft(y=frame, n_fft=FRAME_SIZE, hop_length=HOP_LENGTH, window='hann', center=False, dtype=None))\n",
    "    S = FilterBank(STFT) # Why 513 values????\n",
    "\n",
    "    \n",
    "    # Scale according to reference power\n",
    "    S = S / S.max()\n",
    "    # Convert to dB\n",
    "    S_log = librosa.power_to_db(S, top_db=TOP_DB)\n",
    "    x_features.append(S_log)\n",
    "\n",
    "\n",
    "# Convert into numpy array\n",
    "x_features = np.asarray(x_features)\n",
    "\n",
    "print(\"x_features shape: \", x_features.shape)"
   ]
  },
  {
   "cell_type": "code",
   "execution_count": 8,
   "metadata": {
    "colab": {
     "base_uri": "https://localhost:8080/",
     "height": 585
    },
    "executionInfo": {
     "elapsed": 707,
     "status": "ok",
     "timestamp": 1622629918903,
     "user": {
      "displayName": "Moritz Waldleben",
      "photoUrl": "",
      "userId": "09098551526927023625"
     },
     "user_tz": -120
    },
    "id": "WwARqhRRSpNs",
    "outputId": "46ad240f-38b2-4afc-f068-a79dd19bb82d"
   },
   "outputs": [
    {
     "data": {
      "image/png": "[encoded data removed]",
      "text/plain": [
       "<Figure size 1000x1000 with 3 Axes>"
      ]
     },
     "metadata": {},
     "output_type": "display_data"
    }
   ],
   "source": [
    "# Plot spectrogram generated for each feature class\n",
    "\n",
    "# Create grid\n",
    "grid_x, grid_y = np.mgrid[:32, :30]\n",
    "\n",
    "plt.figure(figsize=(10, 10))\n",
    "\n",
    "plt.subplot(311)\n",
    "first_index = np.argmax(y_windows == 0)\n",
    "z = x_features[first_index, :, :]\n",
    "z = z.transpose()\n",
    "plt.pcolormesh(grid_x, grid_y, z)\n",
    "plt.title('STFT spectrogram for a ' + class_names[y_features[first_index]] + ' sample')\n",
    "\n",
    "plt.subplot(312)\n",
    "second_index = np.argmax(y_windows == 1)\n",
    "z = x_features[first_index, :, :]\n",
    "z = z.transpose()\n",
    "plt.pcolormesh(grid_x, grid_y, z)\n",
    "plt.title('STFT spectrogram for a ' + class_names[y_features[second_index]] + ' sample')\n",
    "\n",
    "plt.subplot(313)\n",
    "third_index = np.argmax(y_windows == 2)\n",
    "z = x_features[first_index, :, :]\n",
    "z = z.transpose()\n",
    "plt.pcolormesh(grid_x, grid_y, z)\n",
    "plt.title('STFT spectrogram for a ' + class_names[y_features[third_index]] + ' sample')\n",
    "\n",
    "plt.tight_layout()\n",
    "plt.show()"
   ]
  },
  {
   "cell_type": "markdown",
   "metadata": {
    "id": "BIltb4zKSpNt"
   },
   "source": [
    "### 2.3 Standardize features\n",
    "Standardize features by removing the mean and scaling to unit variance. Save the feature scalers to model/standardize."
   ]
  },
  {
   "cell_type": "code",
   "execution_count": 9,
   "metadata": {
    "colab": {
     "base_uri": "https://localhost:8080/"
    },
    "executionInfo": {
     "elapsed": 335,
     "status": "ok",
     "timestamp": 1622629919232,
     "user": {
      "displayName": "Moritz Waldleben",
      "photoUrl": "",
      "userId": "09098551526927023625"
     },
     "user_tz": -120
    },
    "id": "6ErZd1-9SpNu",
    "outputId": "6f9f92a8-b462-4145-9663-584396bb74f9"
   },
   "outputs": [
    {
     "name": "stdout",
     "output_type": "stream",
     "text": [
      "x_features_s shape:  (1800, 960)\n"
     ]
    }
   ],
   "source": [
    "# Flatten features for scaling\n",
    "x_features_r = np.reshape(x_features, (len(x_features), NB_BINS * NB_FRAMES))\n",
    "\n",
    "# Create a feature scaler\n",
    "scaler = preprocessing.StandardScaler().fit(x_features_r)\n",
    "mean = scaler.mean_\n",
    "std = scaler.scale_\n",
    "\n",
    "#  Save feature scaler\n",
    "standardize_dir = './standardize/'\n",
    "np.savetxt(standardize_dir + 'mean.csv', mean.reshape(240, 4),  fmt='%.10e', delimiter=\",\", newline=\",\\n\")\n",
    "np.savetxt(standardize_dir + 'std.csv', std.reshape(240, 4),  fmt='%.10e', delimiter=\",\", newline=\",\\n\")\n",
    "dump(scaler, open(standardize_dir + 'scaler.pkl', 'wb'))\n",
    "\n",
    "# Apply the feature scaler \n",
    "x_features_s = scaler.transform(x_features_r)\n",
    "\n",
    "print(\"x_features_s shape: \", x_features_s.shape)"
   ]
  },
  {
   "cell_type": "markdown",
   "metadata": {
    "id": "EmknsxPHSpNu"
   },
   "source": [
    "### 2.4 One hot encoding of labels\n",
    "Keras requires one hot encoded labels."
   ]
  },
  {
   "cell_type": "code",
   "execution_count": 10,
   "metadata": {},
   "outputs": [],
   "source": [
    "def to_categorical(x, n_classes):\n",
    "    return np.eye(n_classes, dtype='uint8')[x] "
   ]
  },
  {
   "cell_type": "code",
   "execution_count": 11,
   "metadata": {
    "colab": {
     "base_uri": "https://localhost:8080/"
    },
    "executionInfo": {
     "elapsed": 15,
     "status": "ok",
     "timestamp": 1622629919233,
     "user": {
      "displayName": "Moritz Waldleben",
      "photoUrl": "",
      "userId": "09098551526927023625"
     },
     "user_tz": -120
    },
    "id": "kKRdZqVkSpNv",
    "outputId": "974a2d8b-4087-49c3-8de8-5cf4b0a84c57"
   },
   "outputs": [
    {
     "name": "stdout",
     "output_type": "stream",
     "text": [
      "The shape of the one-hot encoded labels np array is:  (1800, 3)\n"
     ]
    }
   ],
   "source": [
    "# Convert labels to categorical one-hot encoding\n",
    "y_features_hot = to_categorical(y_features, n_classes=len(class_names))\n",
    "\n",
    "print('The shape of the one-hot encoded labels np array is: ' , y_features_hot.shape)"
   ]
  },
  {
   "cell_type": "markdown",
   "metadata": {},
   "source": [
    "### 2.5 Split data into training, validation and test\n",
    "Use 25% for testing. The remaining 75% of the features are split in 25% for validation and 75% for training."
   ]
  },
  {
   "cell_type": "code",
   "execution_count": 12,
   "metadata": {
    "colab": {
     "base_uri": "https://localhost:8080/"
    },
    "executionInfo": {
     "elapsed": 12,
     "status": "ok",
     "timestamp": 1622629919234,
     "user": {
      "displayName": "Moritz Waldleben",
      "photoUrl": "",
      "userId": "09098551526927023625"
     },
     "user_tz": -120
    },
    "id": "PAMVbvRQSpNw",
    "outputId": "b145e5de-845c-4807-c8c0-bcfb6763fdce"
   },
   "outputs": [
    {
     "name": "stdout",
     "output_type": "stream",
     "text": [
      "Training samples: (1012, 960)\n",
      "Validation samples: (338, 960)\n",
      "Test samples: (450, 960)\n"
     ]
    }
   ],
   "source": [
    "#x_train, x_test, y_train, y_test = torch.utils.data.random_split(full_dataset, [train_size, test_size])\n",
    "x_train, x_test, y_train, y_test = train_test_split(x_features_s,\n",
    "                                                    y_features_hot,\n",
    "                                                    test_size=0.25,\n",
    "                                                    random_state=1)\n",
    "x_train, x_val, y_train, y_val = train_test_split(x_train,\n",
    "                                                  y_train,\n",
    "                                                  test_size=0.25,\n",
    "                                                  random_state=1)\n",
    "\n",
    "print('Training samples:', x_train.shape)\n",
    "print('Validation samples:', x_val.shape)\n",
    "print('Test samples:', x_test.shape)"
   ]
  },
  {
   "cell_type": "markdown",
   "metadata": {
    "id": "nnT3zHH5SpNw"
   },
   "source": [
    "### 2.6 (Optional) Save the features\n",
    "Save the features to a csv file in a format X-CUBE-AI can understand, that is, for each tensor, the values are in a flattened vector."
   ]
  },
  {
   "cell_type": "code",
   "execution_count": 19,
   "metadata": {
    "colab": {
     "base_uri": "https://localhost:8080/",
     "height": 389
    },
    "executionInfo": {
     "elapsed": 208,
     "status": "error",
     "timestamp": 1622584291876,
     "user": {
      "displayName": "Moritz Waldleben",
      "photoUrl": "",
      "userId": "09098551526927023625"
     },
     "user_tz": -120
    },
    "id": "K6u0gusVSpNx",
    "outputId": "153eb835-a2e9-49bd-9b0d-33369a50d905"
   },
   "outputs": [],
   "source": [
    "#val_dir = './validation/'\n",
    "#np.savetxt(val_dir + 'x_train.csv', x_train.reshape(len(x_train), n_mels*n_stft_columns), delimiter=\",\")\n",
    "#np.savetxt(val_dir + 'y_train.csv', y_train, delimiter=\",\")\n",
    "#np.savetxt(val_dir + 'x_val.csv', x_val.reshape(len(x_val), n_mels*n_stft_columns), delimiter=\",\")\n",
    "#np.savetxt(val_dir + 'y_val.csv', y_val, delimiter=\",\")\n",
    "#np.savetxt(val_dir + 'x_test.csv', x_test.reshape(len(x_test), n_mels*n_stft_columns), delimiter=\",\")\n",
    "#np.savetxt(val_dir + 'y_test.csv', y_test, delimiter=\",\")"
   ]
  },
  {
   "cell_type": "markdown",
   "metadata": {
    "id": "1JXA_9ioSpNx"
   },
   "source": [
    "## 3 Model"
   ]
  },
  {
   "cell_type": "markdown",
   "metadata": {},
   "source": [
    "### 3.1 Create and compile model\n",
    "Build a sequential convolutional network classifier model"
   ]
  },
  {
   "cell_type": "code",
   "execution_count": 81,
   "metadata": {
    "colab": {
     "base_uri": "https://localhost:8080/"
    },
    "executionInfo": {
     "elapsed": 230,
     "status": "ok",
     "timestamp": 1622584300588,
     "user": {
      "displayName": "Moritz Waldleben",
      "photoUrl": "",
      "userId": "09098551526927023625"
     },
     "user_tz": -120
    },
    "id": "QTrT-JYcSpNy",
    "outputId": "95c4395a-4b2a-46fe-d99b-0b17569df70c"
   },
   "outputs": [
    {
     "data": {
      "text/plain": [
       "Sequential(\n",
       "  (0): Conv2d(1, 16, kernel_size=(3, 3), stride=(1, 1))\n",
       "  (1): ReLU()\n",
       "  (2): MaxPool2d(kernel_size=(2, 2), stride=(2, 2), padding=0, dilation=1, ceil_mode=False)\n",
       "  (3): Conv2d(16, 16, kernel_size=(3, 3), stride=(1, 1))\n",
       "  (4): ReLU()\n",
       "  (5): MaxPool2d(kernel_size=(2, 2), stride=(2, 2), padding=0, dilation=1, ceil_mode=False)\n",
       "  (6): Flatten(start_dim=1, end_dim=-1)\n",
       "  (7): Linear(in_features=576, out_features=9, bias=True)\n",
       "  (8): ReLU()\n",
       "  (9): Linear(in_features=9, out_features=3, bias=True)\n",
       "  (10): LogSoftmax(dim=-1)\n",
       ")"
      ]
     },
     "execution_count": 81,
     "metadata": {},
     "output_type": "execute_result"
    }
   ],
   "source": [
    "model = torch.nn.Sequential() #30x32x1\n",
    "model.append(torch.nn.Conv2d(in_channels = 1, out_channels = 16, kernel_size = (3, 3))) #28x30x16\n",
    "model.append(torch.nn.ReLU()) \n",
    "model.append(torch.nn.MaxPool2d((2, 2))) #14x15x16\n",
    "model.append(torch.nn.Conv2d(in_channels = 16, out_channels=16, kernel_size=(3, 3))) #12x13x16\n",
    "model.append(torch.nn.ReLU())\n",
    "model.append(torch.nn.MaxPool2d((2, 2))) #6x6x16\n",
    "model.append(torch.nn.Flatten())\n",
    "model.append(torch.nn.Linear(in_features = 6*6*16,out_features = 9))\n",
    "model.append(torch.nn.ReLU())\n",
    "model.append(torch.nn.Linear(in_features = 9, out_features = 3))\n",
    "model.append(torch.nn.Softmax(-1))\n",
    "\n",
    "# Print model summary\n",
    "#model.summary()"
   ]
  },
  {
   "cell_type": "code",
   "execution_count": 77,
   "metadata": {
    "colab": {
     "base_uri": "https://localhost:8080/"
    },
    "executionInfo": {
     "elapsed": 191,
     "status": "ok",
     "timestamp": 1622584303019,
     "user": {
      "displayName": "Moritz Waldleben",
      "photoUrl": "",
      "userId": "09098551526927023625"
     },
     "user_tz": -120
    },
    "id": "bcAEaGEZSpNz",
    "outputId": "0c002540-5bbc-46c1-9adb-837433b46573"
   },
   "outputs": [],
   "source": [
    "# Compile model with choosing a loss and an omptimizer\n",
    "opt = torch.optim.Adam(params=model.parameters(), lr=0.01)\n",
    "# TODO: this is technically not the same as keras's categorical cross entropy loss\n",
    "criterion = torch.nn.CrossEntropyLoss()"
   ]
  },
  {
   "cell_type": "markdown",
   "metadata": {
    "id": "utFml4PCSpN0"
   },
   "source": [
    "###  3.2 Train the model"
   ]
  },
  {
   "cell_type": "code",
   "execution_count": 78,
   "metadata": {
    "executionInfo": {
     "elapsed": 298,
     "status": "ok",
     "timestamp": 1622629970642,
     "user": {
      "displayName": "Moritz Waldleben",
      "photoUrl": "",
      "userId": "09098551526927023625"
     },
     "user_tz": -120
    },
    "id": "6SKCOk-sSpN0"
   },
   "outputs": [],
   "source": [
    "# Reshape features to include channel\n",
    "#x_train_r = x_train.reshape(x_train.shape[0], 30, 32, 1)\n",
    "#x_val_r = x_val.reshape(x_val.shape[0], 30, 32, 1)\n",
    "#x_test_r = x_test.reshape(x_test.shape[0], 30, 32, 1)\n",
    "\n",
    "# NOTE: pytorch expects channel as second dimension\n",
    "x_train_r = x_train.reshape(x_train.shape[0], 1, 30, 32)\n",
    "x_val_r = x_val.reshape(x_val.shape[0], 1, 30, 32)\n",
    "x_test_r = x_test.reshape(x_test.shape[0], 1, 30, 32)"
   ]
  },
  {
   "cell_type": "code",
   "execution_count": 79,
   "metadata": {},
   "outputs": [],
   "source": [
    "def validate(model, criterion, val_input, val_target, device=\"cpu\"):\n",
    "    output = model(val_input.float().to(device))\n",
    "    loss = criterion(output, val_target.float().to(device))\n",
    "    return loss.item()\n",
    "\n",
    "\n",
    "def train(model, criterion, optimizer, train_input, train_target, val_input, val_target, num_epochs, mini_batch_size, device=\"cpu\"):\n",
    "    train_input, train_target = train_input.float().to(device), train_target.float().to(device)\n",
    "    loss_history = {\"train_loss\":[], \"val_loss\":[]}\n",
    "    for e in range(num_epochs):\n",
    "        print(f\"Epoch: {e}\")\n",
    "        avg_loss = 0\n",
    "        for b in range(0, train_input.size(0), mini_batch_size):\n",
    "            output = model(train_input.narrow(0, b, mini_batch_size).float().to(device))\n",
    "            loss = criterion(output, train_target.narrow(0, b, mini_batch_size).float().to(device))\n",
    "            avg_loss += loss.item()\n",
    "            optimizer.zero_grad()\n",
    "            loss.backward()\n",
    "            optimizer.step()\n",
    "        with torch.no_grad():\n",
    "            validate_loss = validate(model, criterion, val_input, val_target)\n",
    "        avg_loss /= (train_input.size(0) // mini_batch_size)\n",
    "        loss_history[\"train_loss\"].append(avg_loss)\n",
    "        loss_history[\"val_loss\"].append(validate_loss)\n",
    "        #loss_history[\"train_loss\"].append((e, avg_loss))\n",
    "        #loss_history[\"val_loss\"].append((e, validate_loss))\n",
    "        print(\"Train Loss:\", avg_loss)\n",
    "        print(\"Val Loss:\", validate_loss)\n",
    "    return loss_history"
   ]
  },
  {
   "cell_type": "code",
   "execution_count": 82,
   "metadata": {
    "colab": {
     "base_uri": "https://localhost:8080/"
    },
    "executionInfo": {
     "elapsed": 156425,
     "status": "ok",
     "timestamp": 1622564163167,
     "user": {
      "displayName": "Moritz Waldleben",
      "photoUrl": "",
      "userId": "09098551526927023625"
     },
     "user_tz": -120
    },
    "id": "ByUY6HpjSpN1",
    "outputId": "7d838b62-fc25-43ec-b18d-b2c675185fae",
    "scrolled": true
   },
   "outputs": [
    {
     "name": "stdout",
     "output_type": "stream",
     "text": [
      "Epoch: 0\n"
     ]
    },
    {
     "ename": "RuntimeError",
     "evalue": "0D or 1D target tensor expected, multi-target not supported",
     "output_type": "error",
     "traceback": [
      "\u001b[0;31m---------------------------------------------------------------------------\u001b[0m",
      "\u001b[0;31mRuntimeError\u001b[0m                              Traceback (most recent call last)",
      "Cell \u001b[0;32mIn [82], line 5\u001b[0m\n\u001b[1;32m      1\u001b[0m \u001b[38;5;66;03m# Train the model\u001b[39;00m\n\u001b[1;32m      2\u001b[0m \u001b[38;5;66;03m#history = model.fit(x_train_r, y_train, validation_data=(x_val_r, y_val),\u001b[39;00m\n\u001b[1;32m      3\u001b[0m                     \u001b[38;5;66;03m#batch_size=500, epochs=30, verbose=2)\u001b[39;00m\n\u001b[0;32m----> 5\u001b[0m history \u001b[38;5;241m=\u001b[39m \u001b[43mtrain\u001b[49m\u001b[43m(\u001b[49m\u001b[43mmodel\u001b[49m\u001b[43m,\u001b[49m\u001b[43m \u001b[49m\u001b[43mcriterion\u001b[49m\u001b[43m,\u001b[49m\u001b[43m \u001b[49m\u001b[43mopt\u001b[49m\u001b[43m,\u001b[49m\u001b[43m \u001b[49m\u001b[43mtorch\u001b[49m\u001b[38;5;241;43m.\u001b[39;49m\u001b[43mTensor\u001b[49m\u001b[43m(\u001b[49m\u001b[43mx_train_r\u001b[49m\u001b[43m)\u001b[49m\u001b[43m,\u001b[49m\u001b[43m \u001b[49m\u001b[43mtorch\u001b[49m\u001b[38;5;241;43m.\u001b[39;49m\u001b[43mTensor\u001b[49m\u001b[43m(\u001b[49m\u001b[43my_train\u001b[49m\u001b[43m)\u001b[49m\u001b[43m,\u001b[49m\u001b[43m \u001b[49m\u001b[43mtorch\u001b[49m\u001b[38;5;241;43m.\u001b[39;49m\u001b[43mTensor\u001b[49m\u001b[43m(\u001b[49m\u001b[43mx_val_r\u001b[49m\u001b[43m)\u001b[49m\u001b[43m,\u001b[49m\u001b[43m \u001b[49m\u001b[43mtorch\u001b[49m\u001b[38;5;241;43m.\u001b[39;49m\u001b[43mTensor\u001b[49m\u001b[43m(\u001b[49m\u001b[43my_val\u001b[49m\u001b[43m)\u001b[49m\u001b[43m,\u001b[49m\u001b[43m \u001b[49m\u001b[43mnum_epochs\u001b[49m\u001b[38;5;241;43m=\u001b[39;49m\u001b[38;5;241;43m30\u001b[39;49m\u001b[43m,\u001b[49m\u001b[43m \u001b[49m\u001b[43mmini_batch_size\u001b[49m\u001b[38;5;241;43m=\u001b[39;49m\u001b[43mx_train_r\u001b[49m\u001b[38;5;241;43m.\u001b[39;49m\u001b[43mshape\u001b[49m\u001b[43m[\u001b[49m\u001b[38;5;241;43m0\u001b[39;49m\u001b[43m]\u001b[49m\u001b[43m \u001b[49m\u001b[38;5;241;43m/\u001b[39;49m\u001b[38;5;241;43m/\u001b[39;49m\u001b[43m \u001b[49m\u001b[38;5;241;43m4\u001b[39;49m\u001b[43m)\u001b[49m\n",
      "Cell \u001b[0;32mIn [79], line 15\u001b[0m, in \u001b[0;36mtrain\u001b[0;34m(model, criterion, optimizer, train_input, train_target, val_input, val_target, num_epochs, mini_batch_size, device)\u001b[0m\n\u001b[1;32m     13\u001b[0m \u001b[38;5;28;01mfor\u001b[39;00m b \u001b[38;5;129;01min\u001b[39;00m \u001b[38;5;28mrange\u001b[39m(\u001b[38;5;241m0\u001b[39m, train_input\u001b[38;5;241m.\u001b[39msize(\u001b[38;5;241m0\u001b[39m), mini_batch_size):\n\u001b[1;32m     14\u001b[0m     output \u001b[38;5;241m=\u001b[39m model(train_input\u001b[38;5;241m.\u001b[39mnarrow(\u001b[38;5;241m0\u001b[39m, b, mini_batch_size)\u001b[38;5;241m.\u001b[39mfloat()\u001b[38;5;241m.\u001b[39mto(device))\n\u001b[0;32m---> 15\u001b[0m     loss \u001b[38;5;241m=\u001b[39m \u001b[43mcriterion\u001b[49m\u001b[43m(\u001b[49m\u001b[43moutput\u001b[49m\u001b[43m,\u001b[49m\u001b[43m \u001b[49m\u001b[43mtrain_target\u001b[49m\u001b[38;5;241;43m.\u001b[39;49m\u001b[43mnarrow\u001b[49m\u001b[43m(\u001b[49m\u001b[38;5;241;43m0\u001b[39;49m\u001b[43m,\u001b[49m\u001b[43m \u001b[49m\u001b[43mb\u001b[49m\u001b[43m,\u001b[49m\u001b[43m \u001b[49m\u001b[43mmini_batch_size\u001b[49m\u001b[43m)\u001b[49m\u001b[38;5;241;43m.\u001b[39;49m\u001b[43mfloat\u001b[49m\u001b[43m(\u001b[49m\u001b[43m)\u001b[49m\u001b[38;5;241;43m.\u001b[39;49m\u001b[43mto\u001b[49m\u001b[43m(\u001b[49m\u001b[43mdevice\u001b[49m\u001b[43m)\u001b[49m\u001b[43m)\u001b[49m\n\u001b[1;32m     16\u001b[0m     avg_loss \u001b[38;5;241m+\u001b[39m\u001b[38;5;241m=\u001b[39m loss\u001b[38;5;241m.\u001b[39mitem()\n\u001b[1;32m     17\u001b[0m     optimizer\u001b[38;5;241m.\u001b[39mzero_grad()\n",
      "File \u001b[0;32m~/.local/lib/python3.9/site-packages/torch/nn/modules/module.py:1130\u001b[0m, in \u001b[0;36mModule._call_impl\u001b[0;34m(self, *input, **kwargs)\u001b[0m\n\u001b[1;32m   1126\u001b[0m \u001b[39m# If we don't have any hooks, we want to skip the rest of the logic in\u001b[39;00m\n\u001b[1;32m   1127\u001b[0m \u001b[39m# this function, and just call forward.\u001b[39;00m\n\u001b[1;32m   1128\u001b[0m \u001b[39mif\u001b[39;00m \u001b[39mnot\u001b[39;00m (\u001b[39mself\u001b[39m\u001b[39m.\u001b[39m_backward_hooks \u001b[39mor\u001b[39;00m \u001b[39mself\u001b[39m\u001b[39m.\u001b[39m_forward_hooks \u001b[39mor\u001b[39;00m \u001b[39mself\u001b[39m\u001b[39m.\u001b[39m_forward_pre_hooks \u001b[39mor\u001b[39;00m _global_backward_hooks\n\u001b[1;32m   1129\u001b[0m         \u001b[39mor\u001b[39;00m _global_forward_hooks \u001b[39mor\u001b[39;00m _global_forward_pre_hooks):\n\u001b[0;32m-> 1130\u001b[0m     \u001b[39mreturn\u001b[39;00m forward_call(\u001b[39m*\u001b[39;49m\u001b[39minput\u001b[39;49m, \u001b[39m*\u001b[39;49m\u001b[39m*\u001b[39;49mkwargs)\n\u001b[1;32m   1131\u001b[0m \u001b[39m# Do not call functions when jit is used\u001b[39;00m\n\u001b[1;32m   1132\u001b[0m full_backward_hooks, non_full_backward_hooks \u001b[39m=\u001b[39m [], []\n",
      "File \u001b[0;32m~/.local/lib/python3.9/site-packages/torch/nn/modules/loss.py:211\u001b[0m, in \u001b[0;36mNLLLoss.forward\u001b[0;34m(self, input, target)\u001b[0m\n\u001b[1;32m    210\u001b[0m \u001b[39mdef\u001b[39;00m \u001b[39mforward\u001b[39m(\u001b[39mself\u001b[39m, \u001b[39minput\u001b[39m: Tensor, target: Tensor) \u001b[39m-\u001b[39m\u001b[39m>\u001b[39m Tensor:\n\u001b[0;32m--> 211\u001b[0m     \u001b[39mreturn\u001b[39;00m F\u001b[39m.\u001b[39;49mnll_loss(\u001b[39minput\u001b[39;49m, target, weight\u001b[39m=\u001b[39;49m\u001b[39mself\u001b[39;49m\u001b[39m.\u001b[39;49mweight, ignore_index\u001b[39m=\u001b[39;49m\u001b[39mself\u001b[39;49m\u001b[39m.\u001b[39;49mignore_index, reduction\u001b[39m=\u001b[39;49m\u001b[39mself\u001b[39;49m\u001b[39m.\u001b[39;49mreduction)\n",
      "File \u001b[0;32m~/.local/lib/python3.9/site-packages/torch/nn/functional.py:2689\u001b[0m, in \u001b[0;36mnll_loss\u001b[0;34m(input, target, weight, size_average, ignore_index, reduce, reduction)\u001b[0m\n\u001b[1;32m   2687\u001b[0m \u001b[39mif\u001b[39;00m size_average \u001b[39mis\u001b[39;00m \u001b[39mnot\u001b[39;00m \u001b[39mNone\u001b[39;00m \u001b[39mor\u001b[39;00m reduce \u001b[39mis\u001b[39;00m \u001b[39mnot\u001b[39;00m \u001b[39mNone\u001b[39;00m:\n\u001b[1;32m   2688\u001b[0m     reduction \u001b[39m=\u001b[39m _Reduction\u001b[39m.\u001b[39mlegacy_get_string(size_average, reduce)\n\u001b[0;32m-> 2689\u001b[0m \u001b[39mreturn\u001b[39;00m torch\u001b[39m.\u001b[39;49m_C\u001b[39m.\u001b[39;49m_nn\u001b[39m.\u001b[39;49mnll_loss_nd(\u001b[39minput\u001b[39;49m, target, weight, _Reduction\u001b[39m.\u001b[39;49mget_enum(reduction), ignore_index)\n",
      "\u001b[0;31mRuntimeError\u001b[0m: 0D or 1D target tensor expected, multi-target not supported"
     ]
    }
   ],
   "source": [
    "# Train the model\n",
    "#history = model.fit(x_train_r, y_train, validation_data=(x_val_r, y_val),\n",
    "                    #batch_size=500, epochs=30, verbose=2)\n",
    "\n",
    "history = train(model, criterion, opt, torch.Tensor(x_train_r), torch.Tensor(y_train), torch.Tensor(x_val_r), torch.Tensor(y_val), num_epochs=30, mini_batch_size=x_train_r.shape[0] // 4)\n"
   ]
  },
  {
   "cell_type": "code",
   "execution_count": 74,
   "metadata": {
    "colab": {
     "base_uri": "https://localhost:8080/",
     "height": 296
    },
    "executionInfo": {
     "elapsed": 358,
     "status": "ok",
     "timestamp": 1622564183139,
     "user": {
      "displayName": "Moritz Waldleben",
      "photoUrl": "",
      "userId": "09098551526927023625"
     },
     "user_tz": -120
    },
    "id": "WynuMF65SpN2",
    "outputId": "22f6c405-ded0-4072-f1d9-d2fae18967fa"
   },
   "outputs": [
    {
     "data": {
      "text/plain": [
       "<matplotlib.legend.Legend at 0x7f176d315040>"
      ]
     },
     "execution_count": 74,
     "metadata": {},
     "output_type": "execute_result"
    },
    {
     "data": {
      "image/png": "[encoded data removed]",
      "text/plain": [
       "<Figure size 640x480 with 1 Axes>"
      ]
     },
     "metadata": {},
     "output_type": "display_data"
    }
   ],
   "source": [
    "# Plot losses\n",
    "train_loss = history['train_loss']\n",
    "val_loss = history['val_loss']\n",
    "\n",
    "plt.figure()\n",
    "plt.clf()\n",
    "plt.xlabel('Epochs')\n",
    "plt.ylabel('Loss')\n",
    "plt.plot(np.arange(0, len(train_loss)), train_loss, color='r', label='training loss')\n",
    "plt.plot(np.arange(0, len(val_loss)), val_loss, color='g', label='validation loss')\n",
    "plt.legend()"
   ]
  },
  {
   "cell_type": "markdown",
   "metadata": {
    "id": "S4aIH6cDSpN3"
   },
   "source": [
    "### 3.3 Evaluate Accuracy\n",
    "Compare how the model performs on the test dataset:"
   ]
  },
  {
   "cell_type": "code",
   "execution_count": null,
   "metadata": {},
   "outputs": [],
   "source": [
    "# Evaluate the model\n",
    "def evaluate(model, x_test, y_test):\n",
    "    predictions, targets = list(), list()# loop over all batches in test setfor i, (inputs, targets) in enumerate(test_dl):\n",
    "    y_pred = model(x_test).detach().numpy()\n",
    "    res = np.argmax(y_pred, axis = 1) \n",
    "    \n",
    "    # actual output\n",
    "    targets = targets.numpy().reshape(len(targets, 1))\n",
    "    \n",
    "    # store the values in respective lists\n",
    "    predictions.append(list(res))\n",
    "    actuals.append(list(targets))\n",
    "        \n",
    "    actuals = [val for sublist in np.vstack(list(np.chain(*actuals))) for val in sublist]\n",
    "    predictions = [val for sublist in np.vstack(list(np.chain(*predictions))) for val in sublist]\n",
    "\n",
    "\n"
   ]
  },
  {
   "cell_type": "code",
   "execution_count": 75,
   "metadata": {
    "colab": {
     "base_uri": "https://localhost:8080/"
    },
    "executionInfo": {
     "elapsed": 2257,
     "status": "ok",
     "timestamp": 1622564195573,
     "user": {
      "displayName": "Moritz Waldleben",
      "photoUrl": "",
      "userId": "09098551526927023625"
     },
     "user_tz": -120
    },
    "id": "WXofm6U9SpN4",
    "outputId": "35b0cb35-0715-48fa-8933-f366f46837de"
   },
   "outputs": [
    {
     "name": "stdout",
     "output_type": "stream",
     "text": [
      "Evaluate model:\n",
      "0.643123984336853\n"
     ]
    },
    {
     "ename": "TypeError",
     "evalue": "'float' object is not subscriptable",
     "output_type": "error",
     "traceback": [
      "\u001b[0;31m---------------------------------------------------------------------------\u001b[0m",
      "\u001b[0;31mTypeError\u001b[0m                                 Traceback (most recent call last)",
      "Cell \u001b[0;32mIn [75], line 5\u001b[0m\n\u001b[1;32m      3\u001b[0m results \u001b[38;5;241m=\u001b[39m validate(model, criterion, torch\u001b[38;5;241m.\u001b[39mTensor(x_test_r), torch\u001b[38;5;241m.\u001b[39mTensor(y_test))\n\u001b[1;32m      4\u001b[0m \u001b[38;5;28mprint\u001b[39m(results)\n\u001b[0;32m----> 5\u001b[0m \u001b[38;5;28mprint\u001b[39m(\u001b[38;5;124m'\u001b[39m\u001b[38;5;124mTest loss: \u001b[39m\u001b[38;5;132;01m{:f}\u001b[39;00m\u001b[38;5;124m'\u001b[39m\u001b[38;5;241m.\u001b[39mformat(\u001b[43mresults\u001b[49m\u001b[43m[\u001b[49m\u001b[38;5;241;43m0\u001b[39;49m\u001b[43m]\u001b[49m))\n\u001b[1;32m      6\u001b[0m \u001b[38;5;28mprint\u001b[39m(\u001b[38;5;124m'\u001b[39m\u001b[38;5;124mTest accuracy: \u001b[39m\u001b[38;5;132;01m{:.2f}\u001b[39;00m\u001b[38;5;124m%\u001b[39m\u001b[38;5;124m'\u001b[39m\u001b[38;5;241m.\u001b[39mformat(results[\u001b[38;5;241m1\u001b[39m] \u001b[38;5;241m*\u001b[39m \u001b[38;5;241m100\u001b[39m))\n",
      "\u001b[0;31mTypeError\u001b[0m: 'float' object is not subscriptable"
     ]
    }
   ],
   "source": [
    "print('Evaluate model:')\n",
    "#results = model.evaluate(x_test_r, y_test)\n",
    "results = evaluate(model, criterion, torch.Tensor(x_test_r), torch.Tensor(y_test))\n",
    "print(results)\n",
    "print('Test loss: {:f}'.format(results[0]))\n",
    "print('Test accuracy: {:.2f}%'.format(results[1] * 100))"
   ]
  },
  {
   "cell_type": "code",
   "execution_count": 26,
   "metadata": {
    "colab": {
     "base_uri": "https://localhost:8080/",
     "height": 303
    },
    "executionInfo": {
     "elapsed": 1858,
     "status": "ok",
     "timestamp": 1622564203469,
     "user": {
      "displayName": "Moritz Waldleben",
      "photoUrl": "",
      "userId": "09098551526927023625"
     },
     "user_tz": -120
    },
    "id": "Joyq3LJmSpN5",
    "outputId": "571c9e34-a7bd-4ce3-cde4-b837282ba9dd"
   },
   "outputs": [
    {
     "name": "stdout",
     "output_type": "stream",
     "text": [
      "Accuracy = 68.00%\n"
     ]
    },
    {
     "data": {
      "text/plain": [
       "<matplotlib.image.AxesImage at 0x7f09f070aee0>"
      ]
     },
     "execution_count": 26,
     "metadata": {},
     "output_type": "execute_result"
    },
    {
     "data": {
      "image/png": "[encoded data removed]",
      "text/plain": [
       "<Figure size 432x288 with 1 Axes>"
      ]
     },
     "metadata": {
      "needs_background": "light"
     },
     "output_type": "display_data"
    }
   ],
   "source": [
    "# Plot a confusion matrix\n",
    "y_pred = model.predict(x_test_r)\n",
    "\n",
    "y_pred_class_n = np.argmax(y_pred, axis=1)\n",
    "y_true_class_n = np.argmax(y_test, axis=1)\n",
    "\n",
    "accuracy = accuracy_score(y_true_class_n, y_pred_class_n)\n",
    "np.set_printoptions(precision=2)\n",
    "print(\"Accuracy = {:.2f}%\".format(accuracy * 100))\n",
    "\n",
    "cm = confusion_matrix(y_true_class_n, y_pred_class_n, labels=[0,1,2])\n",
    "\n",
    "# Loop over data dimensions and create text annotations.\n",
    "thresh = cm.max() / 2.\n",
    "for i in range(cm.shape[0]):\n",
    "    for j in range(cm.shape[1]):\n",
    "        plt.text(j, i, format(cm[i, j], 'd'),\n",
    "                ha=\"center\", va=\"center\",\n",
    "                color=\"white\" if cm[i, j] > thresh else \"black\")\n",
    "\n",
    "plt.imshow(cm, cmap=plt.cm.Blues)"
   ]
  },
  {
   "cell_type": "markdown",
   "metadata": {
    "id": "zLO4GMgiSpN6"
   },
   "source": [
    "### 3.4 Save the model\n",
    "When saving the model in a `.h5` file format, the X-CUBE-AI tool can import the pre-trained model and generate an equivalent C model optmized for STM32 devices."
   ]
  },
  {
   "cell_type": "code",
   "execution_count": null,
   "metadata": {
    "id": "4yXQZ3m7SpN7"
   },
   "outputs": [],
   "source": [
    "# Save the model into an HDF5 file ‘model.h5’\n",
    "model.save('wmc.h5')"
   ]
  }
 ],
 "metadata": {
  "colab": {
   "name": "acoustic_scene_classification512.ipynb",
   "provenance": [],
   "toc_visible": true
  },
  "file_extension": ".py",
  "kernelspec": {
   "display_name": "Python 3.9.2 64-bit",
   "language": "python",
   "name": "python3"
  },
  "language_info": {
   "codemirror_mode": {
    "name": "ipython",
    "version": 3
   },
   "file_extension": ".py",
   "mimetype": "text/x-python",
   "name": "python",
   "nbconvert_exporter": "python",
   "pygments_lexer": "ipython3",
   "version": "3.9.2"
  },
  "mimetype": "text/x-python",
  "name": "python",
  "npconvert_exporter": "python",
  "pygments_lexer": "ipython3",
  "version": 3,
  "vscode": {
   "interpreter": {
    "hash": "e7370f93d1d0cde622a1f8e1c04877d8463912d04d973331ad4851f04de6915a"
   }
  }
 },
 "nbformat": 4,
 "nbformat_minor": 1
}
