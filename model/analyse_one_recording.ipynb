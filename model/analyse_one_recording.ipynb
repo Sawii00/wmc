{
 "cells": [
  {
   "cell_type": "markdown",
   "metadata": {},
   "source": [
    "# Analyse one recording "
   ]
  },
  {
   "cell_type": "code",
   "execution_count": 7,
   "metadata": {
    "executionInfo": {
     "elapsed": 4406,
     "status": "ok",
     "timestamp": 1622629793582,
     "user": {
      "displayName": "Moritz Waldleben",
      "photoUrl": "",
      "userId": "09098551526927023625"
     },
     "user_tz": -120
    },
    "id": "swA6t4wgSpNa"
   },
   "outputs": [],
   "source": [
    "import numpy as np\n",
    "from tqdm import tqdm\n",
    "import librosa\n",
    "import librosa.display\n",
    "import librosa.util\n",
    "import matplotlib.pyplot as plt"
   ]
  },
  {
   "cell_type": "markdown",
   "metadata": {},
   "source": [
    "## Global settings\n",
    "__Important:__ These settings have to match the ones in the STM32 application."
   ]
  },
  {
   "cell_type": "code",
   "execution_count": 8,
   "metadata": {},
   "outputs": [],
   "source": [
    "# Sampling\n",
    "sampling_freq = 48000 # kHz \n",
    "n_stft_columns = 32 # How many columns for the short time fourier transformation\n",
    "frame_size = 512*n_stft_columns + 512 # For one spectrogram column 1024 samples are needed\n",
    "n_frames = 30 # How many frames were recorded\n",
    "\n",
    "# Realtime audio preprocessing\n",
    "n_mels = 30 # Resolution (bins) of one stft column\n",
    "n_fft = 1024 # Size for one fft\n",
    "hop_length = 512 # Jumps between fft windows\n",
    "fmin = 4000 # Lowest bin for the columns\n",
    "top_db = 80"
   ]
  },
  {
   "cell_type": "markdown",
   "metadata": {
    "id": "NbcriJ54SpNe"
   },
   "source": [
    "## Import and convert the data"
   ]
  },
  {
   "cell_type": "code",
   "execution_count": 9,
   "metadata": {
    "colab": {
     "base_uri": "https://localhost:8080/"
    },
    "executionInfo": {
     "elapsed": 8263,
     "status": "ok",
     "timestamp": 1622629865632,
     "user": {
      "displayName": "Moritz Waldleben",
      "photoUrl": "",
      "userId": "09098551526927023625"
     },
     "user_tz": -120
    },
    "id": "MavxVlcfSpNf",
    "outputId": "e41d3511-2053-4e9c-bec1-5dd0dc2b2263",
    "scrolled": true
   },
   "outputs": [
    {
     "name": "stdout",
     "output_type": "stream",
     "text": [
      "signal length:  506880\n"
     ]
    }
   ],
   "source": [
    "signal, _ = librosa.load('recording.WAV', sr=sampling_freq, mono=True, dtype=np.float32)\n",
    "\n",
    "print(\"signal length: \", len(signal))"
   ]
  },
  {
   "cell_type": "markdown",
   "metadata": {
    "id": "zDf566vISpNi"
   },
   "source": [
    "## Slice the data"
   ]
  },
  {
   "cell_type": "code",
   "execution_count": 10,
   "metadata": {
    "colab": {
     "base_uri": "https://localhost:8080/"
    },
    "executionInfo": {
     "elapsed": 433,
     "status": "ok",
     "timestamp": 1622629866056,
     "user": {
      "displayName": "Moritz Waldleben",
      "photoUrl": "",
      "userId": "09098551526927023625"
     },
     "user_tz": -120
    },
    "id": "S6P_OY1_SpNj",
    "outputId": "e64ca577-9a3a-4181-edaf-b6399fd1a521"
   },
   "outputs": [
    {
     "name": "stdout",
     "output_type": "stream",
     "text": [
      "signal_framed shape:  (30, 16896)\n"
     ]
    }
   ],
   "source": [
    "signal_framed = []\n",
    "\n",
    "# Iteratate over recording and create frames\n",
    "for k  in range(n_frames):\n",
    "    frame = signal[k*frame_size:(k+1)*frame_size]\n",
    "    signal_framed.append(np.transpose(frame))\n",
    "    \n",
    "# Convert into numpy array\n",
    "signal_framed = np.asarray(signal_framed)\n",
    "\n",
    "print(\"signal_framed shape: \", signal_framed.shape)"
   ]
  },
  {
   "cell_type": "markdown",
   "metadata": {},
   "source": [
    "## Preprocess the data into LogMel spectrograms"
   ]
  },
  {
   "cell_type": "code",
   "execution_count": 11,
   "metadata": {
    "colab": {
     "base_uri": "https://localhost:8080/"
    },
    "executionInfo": {
     "elapsed": 52162,
     "status": "ok",
     "timestamp": 1622629918204,
     "user": {
      "displayName": "Moritz Waldleben",
      "photoUrl": "",
      "userId": "09098551526927023625"
     },
     "user_tz": -120
    },
    "id": "tbUYwmTBSpNm",
    "outputId": "1bf6c8b3-3ac8-4916-8e42-5291899da0ae"
   },
   "outputs": [
    {
     "name": "stderr",
     "output_type": "stream",
     "text": [
      "100%|██████████| 30/30 [00:00<00:00, 238.80it/s]"
     ]
    },
    {
     "name": "stdout",
     "output_type": "stream",
     "text": [
      "signal_features shape:  (30, 30, 32)\n"
     ]
    },
    {
     "name": "stderr",
     "output_type": "stream",
     "text": [
      "\n"
     ]
    }
   ],
   "source": [
    "# Spectograms of frames which will be the feautures for the neural network\n",
    "signal_features = []\n",
    "\n",
    "for frame in tqdm(signal_framed):\n",
    "    # Create a mel-scaled spectrogram\n",
    "    S_mel = librosa.feature.melspectrogram(y=frame, sr=sampling_freq, n_mels=n_mels, n_fft=n_fft, hop_length=hop_length, center=False, fmin=fmin)\n",
    "    # Scale according to reference power\n",
    "    S_mel = S_mel / S_mel.max()\n",
    "    # Convert to dB\n",
    "    S_log_mel = librosa.power_to_db(S_mel, top_db=top_db)\n",
    "    signal_features.append(S_log_mel)\n",
    "\n",
    "# Convert into numpy array\n",
    "signal_features = np.asarray(signal_features)\n",
    "\n",
    "print(\"signal_features shape: \", signal_features.shape)"
   ]
  },
  {
   "cell_type": "markdown",
   "metadata": {},
   "source": [
    "## Plot a LogMel spectrogram of a frame"
   ]
  },
  {
   "cell_type": "code",
   "execution_count": 15,
   "metadata": {},
   "outputs": [
    {
     "data": {
      "image/png": "[encoded data removed]",
      "text/plain": [
       "<Figure size 1296x720 with 2 Axes>"
      ]
     },
     "metadata": {
      "needs_background": "light"
     },
     "output_type": "display_data"
    }
   ],
   "source": [
    "# Choose a frame to plot\n",
    "frame_number = 18\n",
    "\n",
    "plt.figure(figsize=(18, 10))\n",
    "librosa.display.specshow(signal_features[frame_number,:, :], sr=sampling_freq, y_axis='mel',fmin=fmin,  fmax=24000,\n",
    "                         x_axis='time', cmap='viridis', vmin=-top_db)\n",
    "plt.colorbar(format='%+2.0f dB')\n",
    "plt.title('LogMel spectrogram real time sample')\n",
    "plt.show()"
   ]
  },
  {
   "cell_type": "code",
   "execution_count": null,
   "metadata": {
    "scrolled": true
   },
   "outputs": [],
   "source": []
  }
 ],
 "metadata": {
  "colab": {
   "name": "acoustic_scene_classification512.ipynb",
   "provenance": [],
   "toc_visible": true
  },
  "file_extension": ".py",
  "kernelspec": {
   "display_name": "Python 3",
   "language": "python",
   "name": "python3"
  },
  "language_info": {
   "codemirror_mode": {
    "name": "ipython",
    "version": 3
   },
   "file_extension": ".py",
   "mimetype": "text/x-python",
   "name": "python",
   "nbconvert_exporter": "python",
   "pygments_lexer": "ipython3",
   "version": "3.7.10"
  },
  "mimetype": "text/x-python",
  "name": "python",
  "npconvert_exporter": "python",
  "pygments_lexer": "ipython3",
  "version": 3
 },
 "nbformat": 4,
 "nbformat_minor": 1
}
