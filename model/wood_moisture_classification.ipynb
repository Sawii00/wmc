{
 "cells": [
  {
   "cell_type": "markdown",
   "metadata": {},
   "source": [
    "# Wood moisture classification (wmc) model creation pipeline"
   ]
  },
  {
   "cell_type": "markdown",
   "metadata": {},
   "source": [
    "The following code is adapted from the X-SENSING1 application of ST microelectronics"
   ]
  },
  {
   "cell_type": "code",
   "execution_count": 133,
   "metadata": {
    "executionInfo": {
     "elapsed": 4406,
     "status": "ok",
     "timestamp": 1622629793582,
     "user": {
      "displayName": "Moritz Waldleben",
      "photoUrl": "",
      "userId": "09098551526927023625"
     },
     "user_tz": -120
    },
    "id": "swA6t4wgSpNa"
   },
   "outputs": [],
   "source": [
    "import numpy as np\n",
    "import os\n",
    "from tqdm import tqdm\n",
    "import librosa\n",
    "import librosa.display\n",
    "import librosa.util\n",
    "from IPython.display import Audio\n",
    "import matplotlib.pyplot as plt\n",
    "from sklearn import preprocessing\n",
    "from sklearn.metrics import confusion_matrix\n",
    "from sklearn.metrics import accuracy_score\n",
    "from sklearn.model_selection import train_test_split\n",
    "import keras.utils\n",
    "from keras import layers\n",
    "from keras import models\n",
    "from keras import optimizers\n",
    "import tensorflow as tf\n",
    "from pickle import dump\n",
    "import random"
   ]
  },
  {
   "cell_type": "code",
   "execution_count": 134,
   "metadata": {
    "colab": {
     "base_uri": "https://localhost:8080/"
    },
    "executionInfo": {
     "elapsed": 295,
     "status": "ok",
     "timestamp": 1622629798189,
     "user": {
      "displayName": "Moritz Waldleben",
      "photoUrl": "",
      "userId": "09098551526927023625"
     },
     "user_tz": -120
    },
    "id": "hJV-tuxQSpNd",
    "outputId": "21734d6b-14ca-46dc-fac1-2fe806b72d1f",
    "scrolled": true
   },
   "outputs": [
    {
     "name": "stdout",
     "output_type": "stream",
     "text": [
      "Keras: 2.4.3\n",
      "TensorFlow: 2.4.1\n",
      "librosa: 2.4.3\n"
     ]
    }
   ],
   "source": [
    "# Current version (for reproduction)\n",
    "print(\"Keras:\", keras.__version__)\n",
    "print(\"TensorFlow:\",tf.__version__)\n",
    "print(\"librosa:\", keras.__version__)"
   ]
  },
  {
   "cell_type": "markdown",
   "metadata": {},
   "source": [
    "## Overview of the pipeline\n",
    "    1. Import and convert audio data\n",
    "    2. Prepare data\n",
    "        2.1 Slice data into random frames\n",
    "        2.2 Preprocess the data into LogMel spectrograms\n",
    "        2.3 Normalize features\n",
    "        2.4 One-hote encoding for labels\n",
    "        2.5 Split data into training, validation and testing\n",
    "        2.6 (Optional) Save the features\n",
    "\n",
    "    3. Model\n",
    "        3.1 Create and compile model\n",
    "        3.2 Train the model\n",
    "        3.3 Evaluate accuracy\n",
    "        3.4 Save the model\n",
    "\n",
    "The next steps have to be done with the STM32CubeIDE and the [X-Cube-AI](https://www.st.com/en/embedded-software/x-cube-ai.html) extension pack:\n",
    "\n",
    "    4. Create a new project for the SensorTile.box named \"wmc\"\n",
    "    5. Load the keras model and transform it to a 8 bit integer version\n",
    "    6. Generate the code\n",
    "    7. Copy wmc_data.c and wmc_data.h and replace the corresponding files in the STM32 application\n",
    "    8. In wmc_featurescaler.c replace the arrays for the normalization from the ones saved in model/normalization/"
   ]
  },
  {
   "cell_type": "markdown",
   "metadata": {},
   "source": [
    "## Global settings\n",
    "__Important:__ These settings have to match the ones in the STM32 application."
   ]
  },
  {
   "cell_type": "code",
   "execution_count": 135,
   "metadata": {},
   "outputs": [],
   "source": [
    "# Sampling\n",
    "sampling_freq = 48000 # kHz \n",
    "n_stft_columns = 32 # How many columns for the short time fourier transformation\n",
    "frame_size = 512*n_stft_columns + 512 # For one spectrogram column 1024 samples are needed\n",
    "n_frames = 100 # How many frames were recorded\n",
    "\n",
    "# Realtime audio preprocessing\n",
    "n_mels = 30 # Resolution (bins) of one stft column\n",
    "n_fft = 1024 # Size for one fft\n",
    "hop_length = 512 # Jumps between fft windows\n",
    "fmin = 4000 # Lowest bin for the columns\n",
    "top_db = 80"
   ]
  },
  {
   "cell_type": "markdown",
   "metadata": {
    "id": "NbcriJ54SpNe"
   },
   "source": [
    "## 1. Import and convert the data\n",
    "Load the files from the data directory. The labels for the files are specified in model/dataset/labels.txt."
   ]
  },
  {
   "cell_type": "code",
   "execution_count": 136,
   "metadata": {
    "colab": {
     "base_uri": "https://localhost:8080/"
    },
    "executionInfo": {
     "elapsed": 8263,
     "status": "ok",
     "timestamp": 1622629865632,
     "user": {
      "displayName": "Moritz Waldleben",
      "photoUrl": "",
      "userId": "09098551526927023625"
     },
     "user_tz": -120
    },
    "id": "MavxVlcfSpNf",
    "outputId": "e41d3511-2053-4e9c-bec1-5dd0dc2b2263",
    "scrolled": true
   },
   "outputs": [
    {
     "name": "stderr",
     "output_type": "stream",
     "text": [
      "100%|██████████| 18/18 [00:00<00:00, 142.33it/s]\n"
     ]
    }
   ],
   "source": [
    "dataset_dir = './dataset'\n",
    "fileset_path = path = os.path.join(dataset_dir, 'labels.txt')\n",
    "fileset = np.loadtxt(fileset_path, dtype=str)\n",
    "\n",
    "# 3 classes : 0 dry, 1 semiwet, 2 wet\n",
    "class_names = ['dry', 'semiwet', 'wet']\n",
    "labels = {\n",
    "    'dry' : 0,\n",
    "    'semiwet' : 1,\n",
    "    'wet' : 2,\n",
    "}\n",
    "\n",
    "\n",
    "# x is a list of the recordings and y is a list of the respective labels (targets)\n",
    "x = []\n",
    "y = []\n",
    "\n",
    "# Iteratate over all recordings defined in labels.txt\n",
    "for file in tqdm(fileset):\n",
    "    file_path, file_label = file\n",
    "    file_path = os.path.join(dataset_dir, file_path)\n",
    "    \n",
    "    signal, _ = librosa.load(file_path, sr=sampling_freq, mono=True, dtype=np.float32)   \n",
    "    # Cut off total samples because recording takes a bit more samples\n",
    "    signal = signal[0:n_frames*frame_size]\n",
    "    \n",
    "    label = labels[file_label]\n",
    "    \n",
    "    x.append(signal)\n",
    "    y.append(label)"
   ]
  },
  {
   "cell_type": "code",
   "execution_count": 137,
   "metadata": {
    "colab": {
     "base_uri": "https://localhost:8080/",
     "height": 244
    },
    "executionInfo": {
     "elapsed": 24,
     "status": "ok",
     "timestamp": 1622629865634,
     "user": {
      "displayName": "Moritz Waldleben",
      "photoUrl": "",
      "userId": "09098551526927023625"
     },
     "user_tz": -120
    },
    "id": "hFdOVcrrSpNg",
    "outputId": "c9c54745-a65d-4f8c-e36b-7348866fcfd1"
   },
   "outputs": [
    {
     "data": {
      "text/html": [
       "\n",
       "                <audio  controls=\"controls\" >\n",
       "                    <source src=\"data:audio/wav;base64,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\" type=\"audio/wav\" />\n",
       "                    Your browser does not support the audio element.\n",
       "                </audio>\n",
       "              "
      ],
      "text/plain": [
       "<IPython.lib.display.Audio object>"
      ]
     },
     "execution_count": 137,
     "metadata": {},
     "output_type": "execute_result"
    },
    {
     "data": {
      "image/png": "[encoded data removed]",
      "text/plain": [
       "<Figure size 864x144 with 1 Axes>"
      ]
     },
     "metadata": {
      "needs_background": "light"
     },
     "output_type": "display_data"
    }
   ],
   "source": [
    "# Check a random sample of first recording\n",
    "rand = random.randint(0, n_frames)\n",
    "recording1 = x[1]\n",
    "frame = recording1[frame_size*rand:frame_size*(rand+1)]\n",
    "\n",
    "plt.figure(figsize=(12, 2))\n",
    "plt.title(class_names[y[1]])\n",
    "librosa.display.waveplot(frame, sr=sampling_freq)\n",
    "Audio(frame, rate=sampling_freq)"
   ]
  },
  {
   "cell_type": "markdown",
   "metadata": {
    "id": "zDf566vISpNi"
   },
   "source": [
    "## 2. Prepare the data"
   ]
  },
  {
   "cell_type": "markdown",
   "metadata": {
    "id": "aNYSxUQmSpNj"
   },
   "source": [
    "### 2.1 Slice data into random frames\n",
    "Each audio recording contains the specified number of frames (n_frames). To generalize the model a number of random positioned frames will be selected from the recording.\n",
    "\n",
    "__Important:__ The number of random frames is larger than the actual number of frames recorded!\n",
    "\n",
    "Each frame rhen will contain 16,896 samples (32 * 512 + 512) to create a 32 column spectrogram with n_fft=1024 and hop_length=512"
   ]
  },
  {
   "cell_type": "code",
   "execution_count": 139,
   "metadata": {
    "colab": {
     "base_uri": "https://localhost:8080/"
    },
    "executionInfo": {
     "elapsed": 433,
     "status": "ok",
     "timestamp": 1622629866056,
     "user": {
      "displayName": "Moritz Waldleben",
      "photoUrl": "",
      "userId": "09098551526927023625"
     },
     "user_tz": -120
    },
    "id": "S6P_OY1_SpNj",
    "outputId": "e64ca577-9a3a-4181-edaf-b6399fd1a521"
   },
   "outputs": [
    {
     "name": "stdout",
     "output_type": "stream",
     "text": [
      "x_framed shape:  (18000, 16896)\n",
      "y_framed shape:  (18000,)\n"
     ]
    }
   ],
   "source": [
    "# Each frame will now be an entry in the list\n",
    "x_framed = []\n",
    "y_framed = []\n",
    "\n",
    "# Number of randomly selected frames\n",
    "n_frames_sel = 1000\n",
    "\n",
    "# Fixed random seed\n",
    "random.seed(10)\n",
    "\n",
    "# Iteratate over all recordings and create random frames\n",
    "for i in range(len(x)):\n",
    "    x_tmp = np.asarray(x[i])\n",
    "    for k in range(n_frames_sel):\n",
    "        rand = random.randint(0, (n_frames-1)*frame_size)\n",
    "        frame = x_tmp[rand:rand + frame_size]\n",
    "        x_framed.append(np.transpose(frame))\n",
    "    y_framed.append(np.full(n_frames_sel, y[i]))\n",
    "    \n",
    "# Convert into numpy arrays\n",
    "x_framed = np.asarray(x_framed)\n",
    "y_framed = np.asarray(y_framed)\n",
    "\n",
    "# Reshape labels \n",
    "y_framed = y_framed.reshape(y_framed.shape[0]*y_framed.shape[1], )\n",
    "\n",
    "print(\"x_framed shape: \", x_framed.shape) # Each frame of 16,896 samples can be used to create a spectrogram \n",
    "print(\"y_framed shape: \", y_framed.shape) # Corresponding label for each frame\n"
   ]
  },
  {
   "cell_type": "markdown",
   "metadata": {
    "id": "97HnRxBwSpNl"
   },
   "source": [
    "### 2.2 Preprocess the data into LogMel spectrograms\n",
    "Frames are transformed into the spectrograms of size n_mels*n_stft_columns"
   ]
  },
  {
   "cell_type": "code",
   "execution_count": 140,
   "metadata": {
    "colab": {
     "base_uri": "https://localhost:8080/"
    },
    "executionInfo": {
     "elapsed": 52162,
     "status": "ok",
     "timestamp": 1622629918204,
     "user": {
      "displayName": "Moritz Waldleben",
      "photoUrl": "",
      "userId": "09098551526927023625"
     },
     "user_tz": -120
    },
    "id": "tbUYwmTBSpNm",
    "outputId": "1bf6c8b3-3ac8-4916-8e42-5291899da0ae"
   },
   "outputs": [
    {
     "name": "stderr",
     "output_type": "stream",
     "text": [
      "100%|██████████| 18000/18000 [00:33<00:00, 544.36it/s]\n"
     ]
    },
    {
     "name": "stdout",
     "output_type": "stream",
     "text": [
      "There are 18000 features in the set and each feature represented 30x32 spectograms.\n",
      "\n",
      "The shape of the feature numpy array is: (18000, 30, 32)\n"
     ]
    }
   ],
   "source": [
    "# Spectograms of frames which will be the feautures for the neural network\n",
    "x_features = []\n",
    "y_features = y_framed\n",
    "\n",
    "for frame in tqdm(x_framed):\n",
    "    # Create a mel-scaled spectrogram\n",
    "    S_mel = librosa.feature.melspectrogram(y=frame, sr=sampling_freq, n_mels=n_mels, n_fft=n_fft, hop_length=hop_length, center=False, fmin=fmin)\n",
    "    # Scale according to reference power\n",
    "    S_mel = S_mel / S_mel.max()\n",
    "    # Convert to dB\n",
    "    S_log_mel = librosa.power_to_db(S_mel, top_db=top_db)\n",
    "    x_features.append(S_log_mel)\n",
    "\n",
    "# Convert into numpy array\n",
    "x_features = np.asarray(x_features)\n",
    "\n",
    "\n",
    "# Stats of the features\n",
    "n_features = n_frames_sel*len(x)\n",
    "\n",
    "print('There are ' + str(n_features) + ' features in the set and each feature represented ' + str(n_mels) + 'x' + str(n_stft_columns) + ' spectograms.')\n",
    "print('')\n",
    "print('The shape of the feature numpy array is: ' + str(x_features.shape))"
   ]
  },
  {
   "cell_type": "code",
   "execution_count": 141,
   "metadata": {
    "colab": {
     "base_uri": "https://localhost:8080/",
     "height": 585
    },
    "executionInfo": {
     "elapsed": 707,
     "status": "ok",
     "timestamp": 1622629918903,
     "user": {
      "displayName": "Moritz Waldleben",
      "photoUrl": "",
      "userId": "09098551526927023625"
     },
     "user_tz": -120
    },
    "id": "WwARqhRRSpNs",
    "outputId": "46ad240f-38b2-4afc-f068-a79dd19bb82d"
   },
   "outputs": [
    {
     "data": {
      "image/png": "[encoded data removed]",
      "text/plain": [
       "<Figure size 720x576 with 6 Axes>"
      ]
     },
     "metadata": {
      "needs_background": "light"
     },
     "output_type": "display_data"
    }
   ],
   "source": [
    "# Plot the first random positioned spectrogram generated for each feature class\n",
    "plt.figure(figsize=(10, 8))\n",
    "plt.subplot(311)\n",
    "\n",
    "\n",
    "first_index = np.argmax(y_framed == 0)\n",
    "librosa.display.specshow(x_features[first_index], sr=sampling_freq, y_axis='mel', fmin=fmin, fmax=sampling_freq/2,\n",
    "                         x_axis='time', cmap='viridis', vmin=-top_db)\n",
    "plt.colorbar(format='%+2.0f dB')\n",
    "plt.title('LogMel spectrogram for a ' + class_names[y_features[first_index]] + ' sample')\n",
    "\n",
    "\n",
    "plt.subplot(312)\n",
    "second_index = np.argmax(y_framed == 1)\n",
    "librosa.display.specshow(x_features[second_index], sr=sampling_freq, y_axis='mel', fmin=fmin, fmax=sampling_freq/2,\n",
    "                         x_axis='time', cmap='viridis', vmin=-top_db)\n",
    "plt.colorbar(format='%+2.0f dB')\n",
    "plt.title('LogMel spectrogram for  a ' + class_names[y_features[second_index]] + ' sample')\n",
    "\n",
    "\n",
    "plt.subplot(313)\n",
    "third_index = np.argmax(y_framed == 2)\n",
    "librosa.display.specshow(x_features[second_index], sr=sampling_freq, y_axis='mel', fmin=fmin, fmax=sampling_freq/2,\n",
    "                         x_axis='time', cmap='viridis', vmin=-top_db)\n",
    "plt.colorbar(format='%+2.0f dB')\n",
    "plt.title('LogMel spectrogram for  a ' + class_names[y_features[third_index]] + ' sample')\n",
    "\n",
    "\n",
    "plt.tight_layout()\n",
    "plt.show()\n",
    "\n",
    "# Save figures if needed\n",
    "#plt.savefig('spectograms.jpg', dpi = 300, bbox_inches='tight')"
   ]
  },
  {
   "cell_type": "markdown",
   "metadata": {
    "id": "BIltb4zKSpNt"
   },
   "source": [
    "### 2.3 Normalize features\n",
    "Normalize features by removing the mean and scaling to unit variance. Save the feature scalers to model/normalize."
   ]
  },
  {
   "cell_type": "code",
   "execution_count": 142,
   "metadata": {
    "colab": {
     "base_uri": "https://localhost:8080/"
    },
    "executionInfo": {
     "elapsed": 335,
     "status": "ok",
     "timestamp": 1622629919232,
     "user": {
      "displayName": "Moritz Waldleben",
      "photoUrl": "",
      "userId": "09098551526927023625"
     },
     "user_tz": -120
    },
    "id": "6ErZd1-9SpNu",
    "outputId": "6f9f92a8-b462-4145-9663-584396bb74f9"
   },
   "outputs": [],
   "source": [
    "# Flatten features for scaling\n",
    "x_features_r = np.reshape(x_features, (len(x_features), n_mels * n_stft_columns))\n",
    "\n",
    "# Create a feature scaler\n",
    "scaler = preprocessing.StandardScaler().fit(x_features_r)\n",
    "mean = scaler.mean_\n",
    "std = scaler.scale_\n",
    "\n",
    "#  Save feature scaler\n",
    "normalize_dir = './normalize/'\n",
    "np.savetxt(normalize_dir + 'mean.csv', mean.reshape(240, 4),  fmt='%.10e', delimiter=\",\", newline=\",\\n\")\n",
    "np.savetxt( normalize_dir + 'std.csv', std.reshape(240, 4),  fmt='%.10e', delimiter=\",\", newline=\",\\n\")\n",
    "dump(scaler, open(normalize_dir + 'scaler.pkl', 'wb'))\n",
    "\n",
    "# Apply the feature scaler \n",
    "x_features_s = scaler.transform(x_features_r)"
   ]
  },
  {
   "cell_type": "markdown",
   "metadata": {
    "id": "EmknsxPHSpNu"
   },
   "source": [
    "### 2.4 One hot encoding of labels\n",
    "Keras requires one hot encoded labels."
   ]
  },
  {
   "cell_type": "code",
   "execution_count": 143,
   "metadata": {
    "colab": {
     "base_uri": "https://localhost:8080/"
    },
    "executionInfo": {
     "elapsed": 15,
     "status": "ok",
     "timestamp": 1622629919233,
     "user": {
      "displayName": "Moritz Waldleben",
      "photoUrl": "",
      "userId": "09098551526927023625"
     },
     "user_tz": -120
    },
    "id": "kKRdZqVkSpNv",
    "outputId": "974a2d8b-4087-49c3-8de8-5cf4b0a84c57"
   },
   "outputs": [
    {
     "name": "stdout",
     "output_type": "stream",
     "text": [
      "The shape of the one-hot encoded labels np array is:  (18000, 3)\n"
     ]
    }
   ],
   "source": [
    "# Convert labels to categorical one-hot encoding\n",
    "y_features_hot = tf.keras.utils.to_categorical(y_features, num_classes=len(class_names))\n",
    "\n",
    "print('The shape of the one-hot encoded labels np array is: ' , y_features_hot.shape)"
   ]
  },
  {
   "cell_type": "markdown",
   "metadata": {},
   "source": [
    "### 2.5 Split data into training, validation and test\n",
    "Use 25% for testing. The remaining 75% of the features are split in 25% for validation and 75% for training."
   ]
  },
  {
   "cell_type": "code",
   "execution_count": 147,
   "metadata": {
    "colab": {
     "base_uri": "https://localhost:8080/"
    },
    "executionInfo": {
     "elapsed": 12,
     "status": "ok",
     "timestamp": 1622629919234,
     "user": {
      "displayName": "Moritz Waldleben",
      "photoUrl": "",
      "userId": "09098551526927023625"
     },
     "user_tz": -120
    },
    "id": "PAMVbvRQSpNw",
    "outputId": "b145e5de-845c-4807-c8c0-bcfb6763fdce"
   },
   "outputs": [
    {
     "name": "stdout",
     "output_type": "stream",
     "text": [
      "Training samples: (10125, 960)\n",
      "Validation samples: (3375, 960)\n",
      "Test samples: (4500, 960)\n"
     ]
    }
   ],
   "source": [
    "x_train, x_test, y_train, y_test = train_test_split(x_features_s,\n",
    "                                                    y_features_hot,\n",
    "                                                    test_size=0.25,\n",
    "                                                    random_state=1)\n",
    "x_train, x_val, y_train, y_val = train_test_split(x_train,\n",
    "                                                  y_train,\n",
    "                                                  test_size=0.25,\n",
    "                                                  random_state=1)\n",
    "\n",
    "print('Training samples:', x_train.shape)\n",
    "print('Validation samples:', x_val.shape)\n",
    "print('Test samples:', x_test.shape)"
   ]
  },
  {
   "cell_type": "markdown",
   "metadata": {
    "id": "nnT3zHH5SpNw"
   },
   "source": [
    "### 2.6 (Optional) Save the features\n",
    "Save the features to a csv file in a format X-CUBE-AI can understand, that is, for each tensor, the values are in a flattened vector."
   ]
  },
  {
   "cell_type": "code",
   "execution_count": 148,
   "metadata": {
    "colab": {
     "base_uri": "https://localhost:8080/",
     "height": 389
    },
    "executionInfo": {
     "elapsed": 208,
     "status": "error",
     "timestamp": 1622584291876,
     "user": {
      "displayName": "Moritz Waldleben",
      "photoUrl": "",
      "userId": "09098551526927023625"
     },
     "user_tz": -120
    },
    "id": "K6u0gusVSpNx",
    "outputId": "153eb835-a2e9-49bd-9b0d-33369a50d905"
   },
   "outputs": [],
   "source": [
    "#val_dir = './validation/'\n",
    "#np.savetxt(val_dir + 'x_train.csv', x_train.reshape(len(x_train), n_mels*n_stft_columns), delimiter=\",\")\n",
    "#np.savetxt(val_dir + 'y_train.csv', y_train, delimiter=\",\")\n",
    "#np.savetxt(val_dir + 'x_val.csv', x_val.reshape(len(x_val), n_mels*n_stft_columns), delimiter=\",\")\n",
    "#np.savetxt(val_dir + 'y_val.csv', y_val, delimiter=\",\")\n",
    "#np.savetxt(val_dir + 'x_test.csv', x_test.reshape(len(x_test), n_mels*n_stft_columns), delimiter=\",\")\n",
    "#np.savetxt(val_dir + 'y_test.csv', y_test, delimiter=\",\")"
   ]
  },
  {
   "cell_type": "markdown",
   "metadata": {
    "id": "1JXA_9ioSpNx"
   },
   "source": [
    "## 3 Model"
   ]
  },
  {
   "cell_type": "markdown",
   "metadata": {},
   "source": [
    "### 3.1 Create and compile model\n",
    "Build a sequential convolutional network classifier model"
   ]
  },
  {
   "cell_type": "code",
   "execution_count": 149,
   "metadata": {
    "colab": {
     "base_uri": "https://localhost:8080/"
    },
    "executionInfo": {
     "elapsed": 230,
     "status": "ok",
     "timestamp": 1622584300588,
     "user": {
      "displayName": "Moritz Waldleben",
      "photoUrl": "",
      "userId": "09098551526927023625"
     },
     "user_tz": -120
    },
    "id": "QTrT-JYcSpNy",
    "outputId": "95c4395a-4b2a-46fe-d99b-0b17569df70c"
   },
   "outputs": [
    {
     "name": "stdout",
     "output_type": "stream",
     "text": [
      "Model: \"sequential_4\"\n",
      "_________________________________________________________________\n",
      "Layer (type)                 Output Shape              Param #   \n",
      "=================================================================\n",
      "conv2d_8 (Conv2D)            (None, 28, 30, 16)        160       \n",
      "_________________________________________________________________\n",
      "max_pooling2d_8 (MaxPooling2 (None, 14, 15, 16)        0         \n",
      "_________________________________________________________________\n",
      "conv2d_9 (Conv2D)            (None, 12, 13, 16)        2320      \n",
      "_________________________________________________________________\n",
      "max_pooling2d_9 (MaxPooling2 (None, 6, 6, 16)          0         \n",
      "_________________________________________________________________\n",
      "flatten_4 (Flatten)          (None, 576)               0         \n",
      "_________________________________________________________________\n",
      "dense_8 (Dense)              (None, 9)                 5193      \n",
      "_________________________________________________________________\n",
      "dense_9 (Dense)              (None, 3)                 30        \n",
      "=================================================================\n",
      "Total params: 7,703\n",
      "Trainable params: 7,703\n",
      "Non-trainable params: 0\n",
      "_________________________________________________________________\n"
     ]
    }
   ],
   "source": [
    "model = models.Sequential()\n",
    "model.add(layers.Conv2D(16, (3, 3), activation='relu', input_shape=(30, 32, 1), data_format='channels_last'))\n",
    "model.add(layers.MaxPooling2D((2, 2)))\n",
    "model.add(layers.Conv2D(16, (3, 3), activation='relu'))\n",
    "model.add(layers.MaxPooling2D((2, 2)))\n",
    "model.add(layers.Flatten())\n",
    "model.add(layers.Dense(9, activation='relu'))\n",
    "model.add(layers.Dense(3, activation='softmax'))\n",
    "\n",
    "# Print model summary\n",
    "model.summary()"
   ]
  },
  {
   "cell_type": "code",
   "execution_count": 150,
   "metadata": {
    "colab": {
     "base_uri": "https://localhost:8080/"
    },
    "executionInfo": {
     "elapsed": 191,
     "status": "ok",
     "timestamp": 1622584303019,
     "user": {
      "displayName": "Moritz Waldleben",
      "photoUrl": "",
      "userId": "09098551526927023625"
     },
     "user_tz": -120
    },
    "id": "bcAEaGEZSpNz",
    "outputId": "0c002540-5bbc-46c1-9adb-837433b46573"
   },
   "outputs": [],
   "source": [
    "# Compile model with choosing a loss and an omptimizer\n",
    "opt = keras.optimizers.Adam(learning_rate=0.01)\n",
    "model.compile(optimizer=opt, loss='categorical_crossentropy',  metrics=['acc'])"
   ]
  },
  {
   "cell_type": "markdown",
   "metadata": {
    "id": "utFml4PCSpN0"
   },
   "source": [
    "###  3.2 Train the model"
   ]
  },
  {
   "cell_type": "code",
   "execution_count": 151,
   "metadata": {
    "executionInfo": {
     "elapsed": 298,
     "status": "ok",
     "timestamp": 1622629970642,
     "user": {
      "displayName": "Moritz Waldleben",
      "photoUrl": "",
      "userId": "09098551526927023625"
     },
     "user_tz": -120
    },
    "id": "6SKCOk-sSpN0"
   },
   "outputs": [],
   "source": [
    "# Reshape features to include channel\n",
    "x_train_r = x_train.reshape(x_train.shape[0], 30, 32, 1)\n",
    "x_val_r = x_val.reshape(x_val.shape[0], 30, 32, 1)\n",
    "x_test_r = x_test.reshape(x_test.shape[0], 30, 32, 1)"
   ]
  },
  {
   "cell_type": "code",
   "execution_count": 152,
   "metadata": {
    "colab": {
     "base_uri": "https://localhost:8080/"
    },
    "executionInfo": {
     "elapsed": 156425,
     "status": "ok",
     "timestamp": 1622564163167,
     "user": {
      "displayName": "Moritz Waldleben",
      "photoUrl": "",
      "userId": "09098551526927023625"
     },
     "user_tz": -120
    },
    "id": "ByUY6HpjSpN1",
    "outputId": "7d838b62-fc25-43ec-b18d-b2c675185fae",
    "scrolled": true
   },
   "outputs": [
    {
     "name": "stdout",
     "output_type": "stream",
     "text": [
      "Epoch 1/20\n",
      "21/21 - 3s - loss: 0.8082 - acc: 0.5575 - val_loss: 0.6544 - val_acc: 0.5813\n",
      "Epoch 2/20\n",
      "21/21 - 2s - loss: 0.6221 - acc: 0.6360 - val_loss: 0.6191 - val_acc: 0.6444\n",
      "Epoch 3/20\n",
      "21/21 - 2s - loss: 0.5885 - acc: 0.6576 - val_loss: 0.6097 - val_acc: 0.6210\n",
      "Epoch 4/20\n",
      "21/21 - 2s - loss: 0.5658 - acc: 0.6646 - val_loss: 0.5607 - val_acc: 0.6841\n",
      "Epoch 5/20\n",
      "21/21 - 2s - loss: 0.4958 - acc: 0.7021 - val_loss: 0.4627 - val_acc: 0.7132\n",
      "Epoch 6/20\n",
      "21/21 - 2s - loss: 0.4455 - acc: 0.7395 - val_loss: 0.4396 - val_acc: 0.7751\n",
      "Epoch 7/20\n",
      "21/21 - 2s - loss: 0.4074 - acc: 0.8015 - val_loss: 0.3895 - val_acc: 0.7772\n",
      "Epoch 8/20\n",
      "21/21 - 2s - loss: 0.3233 - acc: 0.8846 - val_loss: 0.2759 - val_acc: 0.9437\n",
      "Epoch 9/20\n",
      "21/21 - 2s - loss: 0.2248 - acc: 0.9419 - val_loss: 0.1744 - val_acc: 0.9570\n",
      "Epoch 10/20\n",
      "21/21 - 2s - loss: 0.1440 - acc: 0.9701 - val_loss: 0.1147 - val_acc: 0.9784\n",
      "Epoch 11/20\n",
      "21/21 - 2s - loss: 0.0944 - acc: 0.9854 - val_loss: 0.0759 - val_acc: 0.9905\n",
      "Epoch 12/20\n",
      "21/21 - 2s - loss: 0.0676 - acc: 0.9913 - val_loss: 0.0612 - val_acc: 0.9917\n",
      "Epoch 13/20\n",
      "21/21 - 2s - loss: 0.0481 - acc: 0.9953 - val_loss: 0.0450 - val_acc: 0.9947\n",
      "Epoch 14/20\n",
      "21/21 - 2s - loss: 0.0380 - acc: 0.9965 - val_loss: 0.0422 - val_acc: 0.9938\n",
      "Epoch 15/20\n",
      "21/21 - 2s - loss: 0.0299 - acc: 0.9982 - val_loss: 0.0326 - val_acc: 0.9959\n",
      "Epoch 16/20\n",
      "21/21 - 2s - loss: 0.0242 - acc: 0.9989 - val_loss: 0.0280 - val_acc: 0.9961\n",
      "Epoch 17/20\n",
      "21/21 - 2s - loss: 0.0202 - acc: 0.9992 - val_loss: 0.0247 - val_acc: 0.9973\n",
      "Epoch 18/20\n",
      "21/21 - 2s - loss: 0.0176 - acc: 0.9995 - val_loss: 0.0243 - val_acc: 0.9961\n",
      "Epoch 19/20\n",
      "21/21 - 2s - loss: 0.0156 - acc: 0.9998 - val_loss: 0.0198 - val_acc: 0.9979\n",
      "Epoch 20/20\n",
      "21/21 - 3s - loss: 0.0132 - acc: 0.9999 - val_loss: 0.0172 - val_acc: 0.9976\n"
     ]
    }
   ],
   "source": [
    "# Train the model\n",
    "history = model.fit(x_train_r, y_train, validation_data=(x_val_r, y_val),\n",
    "                    batch_size=500, epochs=20, verbose=2)"
   ]
  },
  {
   "cell_type": "code",
   "execution_count": 153,
   "metadata": {
    "colab": {
     "base_uri": "https://localhost:8080/",
     "height": 296
    },
    "executionInfo": {
     "elapsed": 358,
     "status": "ok",
     "timestamp": 1622564183139,
     "user": {
      "displayName": "Moritz Waldleben",
      "photoUrl": "",
      "userId": "09098551526927023625"
     },
     "user_tz": -120
    },
    "id": "WynuMF65SpN2",
    "outputId": "22f6c405-ded0-4072-f1d9-d2fae18967fa"
   },
   "outputs": [
    {
     "data": {
      "text/plain": [
       "<matplotlib.legend.Legend at 0x7f42cfacd250>"
      ]
     },
     "execution_count": 153,
     "metadata": {},
     "output_type": "execute_result"
    },
    {
     "data": {
      "image/png": "[encoded data removed]",
      "text/plain": [
       "<Figure size 432x288 with 1 Axes>"
      ]
     },
     "metadata": {
      "needs_background": "light"
     },
     "output_type": "display_data"
    }
   ],
   "source": [
    "# Plot losses\n",
    "train_loss = history.history['loss']\n",
    "val_loss = history.history['val_loss']\n",
    "\n",
    "plt.figure()\n",
    "plt.clf()\n",
    "plt.xlabel('Epochs')\n",
    "plt.ylabel('Loss')\n",
    "plt.plot(train_loss, color='r', label='training loss')\n",
    "plt.plot(val_loss, color='g', label='validation loss')\n",
    "plt.legend()"
   ]
  },
  {
   "cell_type": "markdown",
   "metadata": {
    "id": "S4aIH6cDSpN3"
   },
   "source": [
    "### 3.3 Evaluate Accuracy\n",
    "Compare how the model performs on the test dataset:"
   ]
  },
  {
   "cell_type": "code",
   "execution_count": 154,
   "metadata": {
    "colab": {
     "base_uri": "https://localhost:8080/"
    },
    "executionInfo": {
     "elapsed": 2257,
     "status": "ok",
     "timestamp": 1622564195573,
     "user": {
      "displayName": "Moritz Waldleben",
      "photoUrl": "",
      "userId": "09098551526927023625"
     },
     "user_tz": -120
    },
    "id": "WXofm6U9SpN4",
    "outputId": "35b0cb35-0715-48fa-8933-f366f46837de"
   },
   "outputs": [
    {
     "name": "stdout",
     "output_type": "stream",
     "text": [
      "Evaluate model:\n",
      "141/141 [==============================] - 1s 6ms/step - loss: 0.0302 - acc: 0.9971\n",
      "[0.030197445303201675, 0.9971110820770264]\n",
      "Test loss: 0.030197\n",
      "Test accuracy: 99.71%\n"
     ]
    }
   ],
   "source": [
    "print('Evaluate model:')\n",
    "results = model.evaluate(x_test_r, y_test)\n",
    "print(results)\n",
    "print('Test loss: {:f}'.format(results[0]))\n",
    "print('Test accuracy: {:.2f}%'.format(results[1] * 100))"
   ]
  },
  {
   "cell_type": "code",
   "execution_count": 155,
   "metadata": {
    "colab": {
     "base_uri": "https://localhost:8080/",
     "height": 303
    },
    "executionInfo": {
     "elapsed": 1858,
     "status": "ok",
     "timestamp": 1622564203469,
     "user": {
      "displayName": "Moritz Waldleben",
      "photoUrl": "",
      "userId": "09098551526927023625"
     },
     "user_tz": -120
    },
    "id": "Joyq3LJmSpN5",
    "outputId": "571c9e34-a7bd-4ce3-cde4-b837282ba9dd"
   },
   "outputs": [
    {
     "name": "stdout",
     "output_type": "stream",
     "text": [
      "Accuracy = 99.71%\n"
     ]
    },
    {
     "data": {
      "text/plain": [
       "<matplotlib.image.AxesImage at 0x7f42dcc39650>"
      ]
     },
     "execution_count": 155,
     "metadata": {},
     "output_type": "execute_result"
    },
    {
     "data": {
      "image/png": "[encoded data removed]",
      "text/plain": [
       "<Figure size 432x288 with 1 Axes>"
      ]
     },
     "metadata": {
      "needs_background": "light"
     },
     "output_type": "display_data"
    }
   ],
   "source": [
    "# Plot a confusion matrix\n",
    "y_pred = model.predict(x_test_r)\n",
    "\n",
    "y_pred_class_n = np.argmax(y_pred, axis=1)\n",
    "y_true_class_n = np.argmax(y_test, axis=1)\n",
    "\n",
    "accuracy = accuracy_score(y_true_class_n, y_pred_class_n)\n",
    "np.set_printoptions(precision=2)\n",
    "print(\"Accuracy = {:.2f}%\".format(accuracy * 100))\n",
    "\n",
    "cm = confusion_matrix(y_true_class_n, y_pred_class_n, labels=[0,1,2])\n",
    "\n",
    "# Loop over data dimensions and create text annotations.\n",
    "thresh = cm.max() / 2.\n",
    "for i in range(cm.shape[0]):\n",
    "    for j in range(cm.shape[1]):\n",
    "        plt.text(j, i, format(cm[i, j], 'd'),\n",
    "                ha=\"center\", va=\"center\",\n",
    "                color=\"white\" if cm[i, j] > thresh else \"black\")\n",
    "\n",
    "plt.imshow(cm, cmap=plt.cm.Blues)"
   ]
  },
  {
   "cell_type": "markdown",
   "metadata": {
    "id": "zLO4GMgiSpN6"
   },
   "source": [
    "### 3.4 Save the model\n",
    "When saving the model in a `.h5` file format, the X-CUBE-AI tool can import the pre-trained model and generate an equivalent C model optmized for STM32 devices."
   ]
  },
  {
   "cell_type": "code",
   "execution_count": 156,
   "metadata": {
    "id": "4yXQZ3m7SpN7"
   },
   "outputs": [],
   "source": [
    "# Save the model into an HDF5 file ‘model.h5’\n",
    "model.save('wmc.h5')"
   ]
  }
 ],
 "metadata": {
  "colab": {
   "name": "acoustic_scene_classification512.ipynb",
   "provenance": [],
   "toc_visible": true
  },
  "file_extension": ".py",
  "kernelspec": {
   "display_name": "Python 3",
   "language": "python",
   "name": "python3"
  },
  "language_info": {
   "codemirror_mode": {
    "name": "ipython",
    "version": 3
   },
   "file_extension": ".py",
   "mimetype": "text/x-python",
   "name": "python",
   "nbconvert_exporter": "python",
   "pygments_lexer": "ipython3",
   "version": "3.7.10"
  },
  "mimetype": "text/x-python",
  "name": "python",
  "npconvert_exporter": "python",
  "pygments_lexer": "ipython3",
  "version": 3
 },
 "nbformat": 4,
 "nbformat_minor": 1
}
