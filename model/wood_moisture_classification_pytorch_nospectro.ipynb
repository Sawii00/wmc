{
 "cells": [
  {
   "cell_type": "markdown",
   "metadata": {},
   "source": [
    "# Wood moisture classification (wmc) model creation pipeline"
   ]
  },
  {
   "cell_type": "markdown",
   "metadata": {},
   "source": [
    "The following code is adapted from the FP-AI-SENSING1 application of ST microelectronics"
   ]
  },
  {
   "cell_type": "code",
   "execution_count": 1,
   "metadata": {
    "executionInfo": {
     "elapsed": 4406,
     "status": "ok",
     "timestamp": 1622629793582,
     "user": {
      "displayName": "Moritz Waldleben",
      "photoUrl": "",
      "userId": "09098551526927023625"
     },
     "user_tz": -120
    },
    "id": "swA6t4wgSpNa"
   },
   "outputs": [],
   "source": [
    "import numpy as np\n",
    "import os\n",
    "from tqdm import tqdm\n",
    "import librosa\n",
    "import librosa.display\n",
    "import librosa.util\n",
    "#from IPython.display import Audio\n",
    "import matplotlib.pyplot as plt\n",
    "from sklearn import preprocessing\n",
    "from sklearn.metrics import confusion_matrix\n",
    "from sklearn.metrics import accuracy_score\n",
    "from sklearn.model_selection import train_test_split\n",
    "#import tensorflow as tf\n",
    "#import keras.utils\n",
    "#from keras import layers\n",
    "#from keras import models\n",
    "#from keras import optimizers\n",
    "from pickle import dump\n",
    "import random\n",
    "\n",
    "\n",
    "import torch\n",
    "import torch.utils"
   ]
  },
  {
   "cell_type": "code",
   "execution_count": 76,
   "metadata": {
    "colab": {
     "base_uri": "https://localhost:8080/"
    },
    "executionInfo": {
     "elapsed": 295,
     "status": "ok",
     "timestamp": 1622629798189,
     "user": {
      "displayName": "Moritz Waldleben",
      "photoUrl": "",
      "userId": "09098551526927023625"
     },
     "user_tz": -120
    },
    "id": "hJV-tuxQSpNd",
    "outputId": "21734d6b-14ca-46dc-fac1-2fe806b72d1f",
    "scrolled": true
   },
   "outputs": [
    {
     "name": "stdout",
     "output_type": "stream",
     "text": [
      "Librosa: 0.9.2\n"
     ]
    }
   ],
   "source": [
    "# Current version (for reproduction)\n",
    "#print(\"TensorFlow:\", tf.__version__)\n",
    "#print(\"Keras:\", keras.__version__)\n",
    "print(\"Librosa:\", librosa.__version__)"
   ]
  },
  {
   "cell_type": "markdown",
   "metadata": {},
   "source": [
    "## Global settings\n",
    "__Important:__ These settings have to match the ones in the STM32 application."
   ]
  },
  {
   "cell_type": "code",
   "execution_count": 2,
   "metadata": {},
   "outputs": [],
   "source": [
    "AUDIO_SAMPLING_FREQUENCY = 48000 # kHz \n",
    "NB_FRAMES = 32 # How many columns for the short time fourier transformation\n",
    "NB_BINS = 30 # Resolution (bins) of one STFT column\n",
    "HOP_LENGTH = 512 # Jumps between FFT frames\n",
    "WINDOW_SIZE = HOP_LENGTH*NB_FRAMES + HOP_LENGTH # For one spectrogram column 1024 samples are needed\n",
    "NB_WINDOWS = 100 # Total number of windwo recorded in one WAV file\n",
    "FRAME_SIZE = 1024 # Size for one FFT\n",
    "FREQ_MIN = 5000 # Lowest bin for the columns\n",
    "TOP_DB = 80 # Cut off of DBs"
   ]
  },
  {
   "cell_type": "markdown",
   "metadata": {
    "id": "NbcriJ54SpNe"
   },
   "source": [
    "## 1. Import and convert the data\n",
    "Load the files from the data directory. The labels for the files are specified in model/dataset/labels.txt."
   ]
  },
  {
   "cell_type": "code",
   "execution_count": 3,
   "metadata": {
    "colab": {
     "base_uri": "https://localhost:8080/"
    },
    "executionInfo": {
     "elapsed": 8263,
     "status": "ok",
     "timestamp": 1622629865632,
     "user": {
      "displayName": "Moritz Waldleben",
      "photoUrl": "",
      "userId": "09098551526927023625"
     },
     "user_tz": -120
    },
    "id": "MavxVlcfSpNf",
    "outputId": "e41d3511-2053-4e9c-bec1-5dd0dc2b2263",
    "scrolled": true
   },
   "outputs": [
    {
     "name": "stderr",
     "output_type": "stream",
     "text": [
      "100%|██████████| 18/18 [00:01<00:00, 12.70it/s]\n"
     ]
    }
   ],
   "source": [
    "dataset_dir = './dataset'\n",
    "fileset_path = path = os.path.join(dataset_dir, 'labels.txt')\n",
    "fileset = np.loadtxt(fileset_path, dtype=str)\n",
    "\n",
    "# 3 classes : 0 dry, 1 semiwet, 2 wet\n",
    "class_names = ['dry', 'semiwet', 'wet']\n",
    "labels = {\n",
    "    'dry' : 0,\n",
    "    'semiwet' : 1,\n",
    "    'wet' : 2,\n",
    "}\n",
    "\n",
    "\n",
    "# x is a list of the recordings and y is a list of the respective labels (targets)\n",
    "x = []\n",
    "y = []\n",
    "\n",
    "# Iteratate over all recordings defined in labels.txt\n",
    "for file in tqdm(fileset):\n",
    "    file_path, file_label = file\n",
    "    file_path = os.path.join(dataset_dir, file_path)\n",
    "    \n",
    "    signal, _ = librosa.load(file_path, sr=AUDIO_SAMPLING_FREQUENCY, mono=True, dtype=np.float32)   \n",
    "    # Cut off total samples because recording takes a bit more samples\n",
    "    signal = signal[0:NB_WINDOWS*WINDOW_SIZE]\n",
    "    \n",
    "    label = labels[file_label]\n",
    "    \n",
    "    x.append(signal)\n",
    "    y.append(label)"
   ]
  },
  {
   "cell_type": "code",
   "execution_count": 79,
   "metadata": {
    "colab": {
     "base_uri": "https://localhost:8080/",
     "height": 244
    },
    "executionInfo": {
     "elapsed": 24,
     "status": "ok",
     "timestamp": 1622629865634,
     "user": {
      "displayName": "Moritz Waldleben",
      "photoUrl": "",
      "userId": "09098551526927023625"
     },
     "user_tz": -120
    },
    "id": "hFdOVcrrSpNg",
    "outputId": "c9c54745-a65d-4f8c-e36b-7348866fcfd1"
   },
   "outputs": [
    {
     "ename": "AttributeError",
     "evalue": "module 'librosa.display' has no attribute 'waveplot'",
     "output_type": "error",
     "traceback": [
      "\u001b[1;31m---------------------------------------------------------------------------\u001b[0m",
      "\u001b[1;31mAttributeError\u001b[0m                            Traceback (most recent call last)",
      "\u001b[1;32md:\\EPFL\\wmc\\model\\wood_moisture_classification_pytorch.ipynb Cell 9\u001b[0m in \u001b[0;36m<cell line: 8>\u001b[1;34m()\u001b[0m\n\u001b[0;32m      <a href='vscode-notebook-cell:/d%3A/EPFL/wmc/model/wood_moisture_classification_pytorch.ipynb#ch0000008?line=5'>6</a>\u001b[0m plt\u001b[39m.\u001b[39mfigure(figsize\u001b[39m=\u001b[39m(\u001b[39m12\u001b[39m, \u001b[39m2\u001b[39m))\n\u001b[0;32m      <a href='vscode-notebook-cell:/d%3A/EPFL/wmc/model/wood_moisture_classification_pytorch.ipynb#ch0000008?line=6'>7</a>\u001b[0m plt\u001b[39m.\u001b[39mtitle(class_names[y[\u001b[39m1\u001b[39m]])\n\u001b[1;32m----> <a href='vscode-notebook-cell:/d%3A/EPFL/wmc/model/wood_moisture_classification_pytorch.ipynb#ch0000008?line=7'>8</a>\u001b[0m librosa\u001b[39m.\u001b[39;49mdisplay\u001b[39m.\u001b[39;49mwaveplot(window, sr\u001b[39m=\u001b[39mAUDIO_SAMPLING_FREQUENCY)\n\u001b[0;32m      <a href='vscode-notebook-cell:/d%3A/EPFL/wmc/model/wood_moisture_classification_pytorch.ipynb#ch0000008?line=8'>9</a>\u001b[0m Audio(window, rate\u001b[39m=\u001b[39mAUDIO_SAMPLING_FREQUENCY)\n",
      "\u001b[1;31mAttributeError\u001b[0m: module 'librosa.display' has no attribute 'waveplot'"
     ]
    },
    {
     "data": {
      "image/png": "[encoded data removed]",
      "text/plain": [
       "<Figure size 864x144 with 1 Axes>"
      ]
     },
     "metadata": {
      "needs_background": "light"
     },
     "output_type": "display_data"
    }
   ],
   "source": [
    "# Check a random sample of first recording\n",
    "rand = random.randint(0, NB_FRAMES)\n",
    "recording1 = x[1]\n",
    "window = recording1[WINDOW_SIZE*rand:WINDOW_SIZE*(rand+1)]\n",
    "\n",
    "plt.figure(figsize=(12, 2))\n",
    "plt.title(class_names[y[1]])\n",
    "librosa.display.waveplot(window, sr=AUDIO_SAMPLING_FREQUENCY)\n",
    "Audio(window, rate=AUDIO_SAMPLING_FREQUENCY)"
   ]
  },
  {
   "cell_type": "markdown",
   "metadata": {
    "id": "zDf566vISpNi"
   },
   "source": [
    "## 2. Prepare the data"
   ]
  },
  {
   "cell_type": "markdown",
   "metadata": {
    "id": "aNYSxUQmSpNj"
   },
   "source": [
    "### 2.1 Slice data into windows\n",
    "Each audio recording (WAV file) contains the specified number of windows (NB_WINDOWS).\n",
    "\n",
    "Each window will contain 16,896 samples (32 * 512 + 512) to create a 32 column spectrogram with FRAME_SIZE=1024 and HOP_LENGTH=512."
   ]
  },
  {
   "cell_type": "code",
   "execution_count": 4,
   "metadata": {
    "colab": {
     "base_uri": "https://localhost:8080/"
    },
    "executionInfo": {
     "elapsed": 433,
     "status": "ok",
     "timestamp": 1622629866056,
     "user": {
      "displayName": "Moritz Waldleben",
      "photoUrl": "",
      "userId": "09098551526927023625"
     },
     "user_tz": -120
    },
    "id": "S6P_OY1_SpNj",
    "outputId": "e64ca577-9a3a-4181-edaf-b6399fd1a521"
   },
   "outputs": [
    {
     "name": "stdout",
     "output_type": "stream",
     "text": [
      "x_windows shape:  (1800, 16896)\n",
      "y_windows shape:  (1800,)\n"
     ]
    }
   ],
   "source": [
    "# Each window will now be an entry in the list\n",
    "x_windows = []\n",
    "y_windows = []\n",
    "\n",
    "# Iteratate over all recordings and create windows\n",
    "for i in range(len(x)):\n",
    "    x_tmp = np.asarray(x[i])    \n",
    "    for k  in range(NB_WINDOWS):\n",
    "        window = x_tmp[k*WINDOW_SIZE:(k+1)*WINDOW_SIZE]\n",
    "        x_windows.append(np.transpose(window)) \n",
    "    y_windows.append(np.full(NB_WINDOWS, y[i]))\n",
    "    \n",
    "# Convert into numpy arrays\n",
    "x_windows = np.asarray(x_windows)\n",
    "y_windows = np.asarray(y_windows)\n",
    "\n",
    "# Reshape labels \n",
    "y_windows = y_windows.reshape(y_windows.shape[0]*y_windows.shape[1], )\n",
    "\n",
    "print(\"x_windows shape: \", x_windows.shape) # Each window of 16,896 samples can be used to create a spectrogram \n",
    "print(\"y_windows shape: \", y_windows.shape) # Corresponding label for each window\n"
   ]
  },
  {
   "cell_type": "code",
   "execution_count": null,
   "metadata": {},
   "outputs": [],
   "source": []
  },
  {
   "cell_type": "markdown",
   "metadata": {
    "id": "BIltb4zKSpNt"
   },
   "source": [
    "### 2.3 Standardize features\n",
    "Standardize features by removing the mean and scaling to unit variance. Save the feature scalers to model/standardize."
   ]
  },
  {
   "cell_type": "code",
   "execution_count": 5,
   "metadata": {
    "colab": {
     "base_uri": "https://localhost:8080/"
    },
    "executionInfo": {
     "elapsed": 335,
     "status": "ok",
     "timestamp": 1622629919232,
     "user": {
      "displayName": "Moritz Waldleben",
      "photoUrl": "",
      "userId": "09098551526927023625"
     },
     "user_tz": -120
    },
    "id": "6ErZd1-9SpNu",
    "outputId": "6f9f92a8-b462-4145-9663-584396bb74f9"
   },
   "outputs": [],
   "source": [
    "'''# Flatten features for scaling\n",
    "x_features_r = np.reshape(x_features, (len(x_features), NB_BINS * NB_FRAMES))\n",
    "\n",
    "# Create a feature scaler\n",
    "scaler = preprocessing.StandardScaler().fit(x_features_r)\n",
    "mean = scaler.mean_\n",
    "std = scaler.scale_\n",
    "\n",
    "#  Save feature scaler\n",
    "standardize_dir = './standardize/'\n",
    "np.savetxt(standardize_dir + 'mean.csv', mean.reshape(240, 4),  fmt='%.10e', delimiter=\",\", newline=\",\\n\")\n",
    "np.savetxt(standardize_dir + 'std.csv', std.reshape(240, 4),  fmt='%.10e', delimiter=\",\", newline=\",\\n\")\n",
    "dump(scaler, open(standardize_dir + 'scaler.pkl', 'wb'))\n",
    "\n",
    "# Apply the feature scaler \n",
    "x_features_s = scaler.transform(x_features_r)\n",
    "\n",
    "print(\"x_features_s shape: \", x_features_s.shape)\n",
    "'''\n",
    "x_features_s = x_windows\n",
    "y_features = y_windows"
   ]
  },
  {
   "cell_type": "markdown",
   "metadata": {
    "id": "EmknsxPHSpNu"
   },
   "source": [
    "### 2.4 One hot encoding of labels\n",
    "Keras requires one hot encoded labels."
   ]
  },
  {
   "cell_type": "code",
   "execution_count": 6,
   "metadata": {},
   "outputs": [],
   "source": [
    "def to_categorical(x, n_classes):\n",
    "    return np.eye(n_classes, dtype='uint8')[x] "
   ]
  },
  {
   "cell_type": "code",
   "execution_count": 7,
   "metadata": {
    "colab": {
     "base_uri": "https://localhost:8080/"
    },
    "executionInfo": {
     "elapsed": 15,
     "status": "ok",
     "timestamp": 1622629919233,
     "user": {
      "displayName": "Moritz Waldleben",
      "photoUrl": "",
      "userId": "09098551526927023625"
     },
     "user_tz": -120
    },
    "id": "kKRdZqVkSpNv",
    "outputId": "974a2d8b-4087-49c3-8de8-5cf4b0a84c57"
   },
   "outputs": [
    {
     "name": "stdout",
     "output_type": "stream",
     "text": [
      "The shape of the one-hot encoded labels np array is:  (1800, 3)\n"
     ]
    }
   ],
   "source": [
    "# Convert labels to categorical one-hot encoding\n",
    "y_features_hot = to_categorical(y_features, n_classes=len(class_names))\n",
    "\n",
    "print('The shape of the one-hot encoded labels np array is: ' , y_features_hot.shape)"
   ]
  },
  {
   "cell_type": "markdown",
   "metadata": {},
   "source": [
    "### 2.5 Split data into training, validation and test\n",
    "Use 25% for testing. The remaining 75% of the features are split in 25% for validation and 75% for training."
   ]
  },
  {
   "cell_type": "code",
   "execution_count": 8,
   "metadata": {
    "colab": {
     "base_uri": "https://localhost:8080/"
    },
    "executionInfo": {
     "elapsed": 12,
     "status": "ok",
     "timestamp": 1622629919234,
     "user": {
      "displayName": "Moritz Waldleben",
      "photoUrl": "",
      "userId": "09098551526927023625"
     },
     "user_tz": -120
    },
    "id": "PAMVbvRQSpNw",
    "outputId": "b145e5de-845c-4807-c8c0-bcfb6763fdce"
   },
   "outputs": [
    {
     "name": "stdout",
     "output_type": "stream",
     "text": [
      "Training samples: (1012, 16896)\n",
      "Validation samples: (338, 16896)\n",
      "Test samples: (450, 16896)\n"
     ]
    }
   ],
   "source": [
    "#x_train, x_test, y_train, y_test = torch.utils.data.random_split(full_dataset, [train_size, test_size])\n",
    "x_train, x_test, y_train, y_test = train_test_split(x_features_s,\n",
    "                                                    y_features_hot,\n",
    "                                                    test_size=0.25,\n",
    "                                                    random_state=1)\n",
    "x_train, x_val, y_train, y_val = train_test_split(x_train,\n",
    "                                                  y_train,\n",
    "                                                  test_size=0.25,\n",
    "                                                  random_state=1)\n",
    "\n",
    "print('Training samples:', x_train.shape)\n",
    "print('Validation samples:', x_val.shape)\n",
    "print('Test samples:', x_test.shape)"
   ]
  },
  {
   "cell_type": "markdown",
   "metadata": {
    "id": "nnT3zHH5SpNw"
   },
   "source": [
    "### 2.6 (Optional) Save the features\n",
    "Save the features to a csv file in a format X-CUBE-AI can understand, that is, for each tensor, the values are in a flattened vector."
   ]
  },
  {
   "cell_type": "code",
   "execution_count": null,
   "metadata": {
    "colab": {
     "base_uri": "https://localhost:8080/",
     "height": 389
    },
    "executionInfo": {
     "elapsed": 208,
     "status": "error",
     "timestamp": 1622584291876,
     "user": {
      "displayName": "Moritz Waldleben",
      "photoUrl": "",
      "userId": "09098551526927023625"
     },
     "user_tz": -120
    },
    "id": "K6u0gusVSpNx",
    "outputId": "153eb835-a2e9-49bd-9b0d-33369a50d905"
   },
   "outputs": [],
   "source": [
    "#val_dir = './validation/'\n",
    "#np.savetxt(val_dir + 'x_train.csv', x_train.reshape(len(x_train), n_mels*n_stft_columns), delimiter=\",\")\n",
    "#np.savetxt(val_dir + 'y_train.csv', y_train, delimiter=\",\")\n",
    "#np.savetxt(val_dir + 'x_val.csv', x_val.reshape(len(x_val), n_mels*n_stft_columns), delimiter=\",\")\n",
    "#np.savetxt(val_dir + 'y_val.csv', y_val, delimiter=\",\")\n",
    "#np.savetxt(val_dir + 'x_test.csv', x_test.reshape(len(x_test), n_mels*n_stft_columns), delimiter=\",\")\n",
    "#np.savetxt(val_dir + 'y_test.csv', y_test, delimiter=\",\")"
   ]
  },
  {
   "cell_type": "markdown",
   "metadata": {
    "id": "1JXA_9ioSpNx"
   },
   "source": [
    "## 3 Model"
   ]
  },
  {
   "cell_type": "markdown",
   "metadata": {},
   "source": [
    "### 3.1 Create and compile model\n",
    "Build a sequential convolutional network classifier model"
   ]
  },
  {
   "cell_type": "code",
   "execution_count": 83,
   "metadata": {
    "colab": {
     "base_uri": "https://localhost:8080/"
    },
    "executionInfo": {
     "elapsed": 230,
     "status": "ok",
     "timestamp": 1622584300588,
     "user": {
      "displayName": "Moritz Waldleben",
      "photoUrl": "",
      "userId": "09098551526927023625"
     },
     "user_tz": -120
    },
    "id": "QTrT-JYcSpNy",
    "outputId": "95c4395a-4b2a-46fe-d99b-0b17569df70c"
   },
   "outputs": [
    {
     "data": {
      "text/plain": [
       "Sequential(\n",
       "  (0): Conv1d(1, 12, kernel_size=(64,), stride=(32,))\n",
       "  (1): ReLU()\n",
       "  (2): AvgPool1d(kernel_size=(2,), stride=(2,), padding=(0,))\n",
       "  (3): Conv1d(12, 12, kernel_size=(32,), stride=(16,))\n",
       "  (4): ReLU()\n",
       "  (5): AvgPool1d(kernel_size=(2,), stride=(2,), padding=(0,))\n",
       "  (6): Flatten(start_dim=1, end_dim=-1)\n",
       "  (7): Linear(in_features=84, out_features=9, bias=True)\n",
       "  (8): ReLU()\n",
       "  (9): Linear(in_features=9, out_features=3, bias=True)\n",
       ")"
      ]
     },
     "execution_count": 83,
     "metadata": {},
     "output_type": "execute_result"
    }
   ],
   "source": [
    "KERNEL_SIZE = 64\n",
    "POOL_FACT = 2\n",
    "STRIDE_FACT = KERNEL_SIZE // 2\n",
    "CHANNEL_COUNT = 18\n",
    "use_avg_pool = True\n",
    "model = torch.nn.Sequential() #1x16896\n",
    "output_dim = 16896\n",
    "model.append(torch.nn.Conv1d(in_channels = 1, out_channels = CHANNEL_COUNT, kernel_size = KERNEL_SIZE, stride=STRIDE_FACT)) #16x16896 - 512 + 1 \n",
    "output_dim = (output_dim - KERNEL_SIZE) // STRIDE_FACT + 1\n",
    "model.append(torch.nn.ReLU()) \n",
    "if use_avg_pool:\n",
    "    model.append(torch.nn.AvgPool1d(POOL_FACT))\n",
    "else:\n",
    "    model.append(torch.nn.MaxPool1d(POOL_FACT)) #16x8192\n",
    "output_dim /= POOL_FACT\n",
    "model.append(torch.nn.Conv1d(in_channels = CHANNEL_COUNT, out_channels=CHANNEL_COUNT, kernel_size=KERNEL_SIZE // 2, stride=STRIDE_FACT // 2)) #16x7681\n",
    "output_dim = (output_dim - KERNEL_SIZE // 2) // (STRIDE_FACT // 2)+ 1\n",
    "model.append(torch.nn.ReLU())\n",
    "if use_avg_pool:\n",
    "    model.append(torch.nn.AvgPool1d(POOL_FACT))\n",
    "else:\n",
    "    model.append(torch.nn.MaxPool1d(POOL_FACT)) #16x8192\n",
    "output_dim /= POOL_FACT\n",
    "model.append(torch.nn.Flatten())\n",
    "model.append(torch.nn.Linear(in_features = int(output_dim) * CHANNEL_COUNT, out_features = 9))\n",
    "model.append(torch.nn.ReLU())\n",
    "model.append(torch.nn.Linear(in_features = 9, out_features = 3))\n",
    "#model.append(torch.nn.Softmax(-1))\n",
    "\n",
    "# Print model summary\n",
    "#model.summary()"
   ]
  },
  {
   "cell_type": "code",
   "execution_count": 84,
   "metadata": {
    "colab": {
     "base_uri": "https://localhost:8080/"
    },
    "executionInfo": {
     "elapsed": 191,
     "status": "ok",
     "timestamp": 1622584303019,
     "user": {
      "displayName": "Moritz Waldleben",
      "photoUrl": "",
      "userId": "09098551526927023625"
     },
     "user_tz": -120
    },
    "id": "bcAEaGEZSpNz",
    "outputId": "0c002540-5bbc-46c1-9adb-837433b46573"
   },
   "outputs": [],
   "source": [
    "# Compile model with choosing a loss and an omptimizer\n",
    "opt = torch.optim.Adam(params=model.parameters(), lr=0.01)\n",
    "criterion = torch.nn.CrossEntropyLoss()"
   ]
  },
  {
   "cell_type": "markdown",
   "metadata": {
    "id": "utFml4PCSpN0"
   },
   "source": [
    "###  3.2 Train the model"
   ]
  },
  {
   "cell_type": "code",
   "execution_count": 69,
   "metadata": {
    "executionInfo": {
     "elapsed": 298,
     "status": "ok",
     "timestamp": 1622629970642,
     "user": {
      "displayName": "Moritz Waldleben",
      "photoUrl": "",
      "userId": "09098551526927023625"
     },
     "user_tz": -120
    },
    "id": "6SKCOk-sSpN0"
   },
   "outputs": [
    {
     "name": "stdout",
     "output_type": "stream",
     "text": [
      "(1012, 1, 16896)\n",
      "(338, 1, 16896)\n",
      "(450, 1, 16896)\n"
     ]
    }
   ],
   "source": [
    "# NOTE: pytorch expects channel as second dimension\n",
    "x_train_r = x_train.reshape(x_train.shape[0], 1, -1)\n",
    "print(x_train_r.shape)\n",
    "x_val_r = x_val.reshape(x_val.shape[0], 1, -1)\n",
    "print(x_val_r.shape)\n",
    "x_test_r = x_test.reshape(x_test.shape[0], 1, -1)\n",
    "print(x_test_r.shape)"
   ]
  },
  {
   "cell_type": "code",
   "execution_count": 70,
   "metadata": {},
   "outputs": [],
   "source": [
    "def validate(model, criterion, val_input, val_target, device=\"cpu\"):\n",
    "    output = model(val_input.float().to(device))\n",
    "    loss = criterion(output, val_target.float().to(device))\n",
    "    return loss.item()\n",
    "\n",
    "\n",
    "def train(model, criterion, optimizer, train_input, train_target, val_input, val_target, num_epochs, mini_batch_size, device=\"cpu\"):\n",
    "    train_input, train_target = train_input.float().to(device), train_target.float().to(device)\n",
    "    loss_history = {\"train_loss\":[], \"val_loss\":[]}\n",
    "    for e in range(num_epochs):\n",
    "        print(f\"Epoch: {e}\")\n",
    "        avg_loss = 0\n",
    "        for b in range(0, train_input.size(0), mini_batch_size):\n",
    "            output = model(train_input.narrow(0, b, mini_batch_size).float().to(device))\n",
    "            loss = criterion(output, train_target.narrow(0, b, mini_batch_size).float().to(device))\n",
    "            avg_loss += loss.item()\n",
    "            optimizer.zero_grad()\n",
    "            loss.backward()\n",
    "            optimizer.step()\n",
    "        with torch.no_grad():\n",
    "            validate_loss = validate(model, criterion, val_input, val_target)\n",
    "        avg_loss /= (train_input.size(0) // mini_batch_size)\n",
    "        loss_history[\"train_loss\"].append(avg_loss)\n",
    "        loss_history[\"val_loss\"].append(validate_loss)\n",
    "        print(\"Train Loss:\", avg_loss)\n",
    "        print(\"Val Loss:\", validate_loss)\n",
    "    return loss_history"
   ]
  },
  {
   "cell_type": "code",
   "execution_count": 85,
   "metadata": {
    "colab": {
     "base_uri": "https://localhost:8080/"
    },
    "executionInfo": {
     "elapsed": 156425,
     "status": "ok",
     "timestamp": 1622564163167,
     "user": {
      "displayName": "Moritz Waldleben",
      "photoUrl": "",
      "userId": "09098551526927023625"
     },
     "user_tz": -120
    },
    "id": "ByUY6HpjSpN1",
    "outputId": "7d838b62-fc25-43ec-b18d-b2c675185fae",
    "scrolled": true
   },
   "outputs": [
    {
     "name": "stdout",
     "output_type": "stream",
     "text": [
      "Epoch: 0\n",
      "Train Loss: 1.100230485200882\n",
      "Val Loss: 1.0983946323394775\n",
      "Epoch: 1\n",
      "Train Loss: 1.1013393700122833\n",
      "Val Loss: 1.1032260656356812\n",
      "Epoch: 2\n",
      "Train Loss: 1.097676157951355\n",
      "Val Loss: 1.1014080047607422\n",
      "Epoch: 3\n",
      "Train Loss: 1.094332069158554\n",
      "Val Loss: 1.0944771766662598\n",
      "Epoch: 4\n",
      "Train Loss: 1.0861936211585999\n",
      "Val Loss: 1.081270694732666\n",
      "Epoch: 5\n",
      "Train Loss: 1.065844178199768\n",
      "Val Loss: 1.0488007068634033\n",
      "Epoch: 6\n",
      "Train Loss: 1.0242943465709686\n",
      "Val Loss: 0.9941376447677612\n",
      "Epoch: 7\n",
      "Train Loss: 0.9591153264045715\n",
      "Val Loss: 0.9210662841796875\n",
      "Epoch: 8\n",
      "Train Loss: 0.8839412778615952\n",
      "Val Loss: 0.8495358824729919\n",
      "Epoch: 9\n",
      "Train Loss: 0.8203835785388947\n",
      "Val Loss: 0.7940079569816589\n",
      "Epoch: 10\n",
      "Train Loss: 0.7760104089975357\n",
      "Val Loss: 0.7605364918708801\n",
      "Epoch: 11\n",
      "Train Loss: 0.7434271275997162\n",
      "Val Loss: 0.7375565767288208\n",
      "Epoch: 12\n",
      "Train Loss: 0.7195784151554108\n",
      "Val Loss: 0.7213043570518494\n",
      "Epoch: 13\n",
      "Train Loss: 0.6955586820840836\n",
      "Val Loss: 0.7057563662528992\n",
      "Epoch: 14\n",
      "Train Loss: 0.6742160618305206\n",
      "Val Loss: 0.6935861110687256\n",
      "Epoch: 15\n",
      "Train Loss: 0.6577886790037155\n",
      "Val Loss: 0.6841946840286255\n",
      "Epoch: 16\n",
      "Train Loss: 0.6435593813657761\n",
      "Val Loss: 0.674245297908783\n",
      "Epoch: 17\n",
      "Train Loss: 0.6292692124843597\n",
      "Val Loss: 0.6607536673545837\n",
      "Epoch: 18\n",
      "Train Loss: 0.6155345588922501\n",
      "Val Loss: 0.6494035720825195\n",
      "Epoch: 19\n",
      "Train Loss: 0.6054139584302902\n",
      "Val Loss: 0.6442351937294006\n",
      "Epoch: 20\n",
      "Train Loss: 0.5967476516962051\n",
      "Val Loss: 0.6429287195205688\n",
      "Epoch: 21\n",
      "Train Loss: 0.587526798248291\n",
      "Val Loss: 0.6371015310287476\n",
      "Epoch: 22\n",
      "Train Loss: 0.5783808678388596\n",
      "Val Loss: 0.6230546236038208\n",
      "Epoch: 23\n",
      "Train Loss: 0.5677483677864075\n",
      "Val Loss: 0.6150386929512024\n",
      "Epoch: 24\n",
      "Train Loss: 0.5603873431682587\n",
      "Val Loss: 0.6083715558052063\n",
      "Epoch: 25\n",
      "Train Loss: 0.5556681752204895\n",
      "Val Loss: 0.6026052236557007\n",
      "Epoch: 26\n",
      "Train Loss: 0.5529482513666153\n",
      "Val Loss: 0.5984443426132202\n",
      "Epoch: 27\n",
      "Train Loss: 0.5500421226024628\n",
      "Val Loss: 0.5974957346916199\n",
      "Epoch: 28\n",
      "Train Loss: 0.5446518808603287\n",
      "Val Loss: 0.5981950163841248\n",
      "Epoch: 29\n",
      "Train Loss: 0.5393716841936111\n",
      "Val Loss: 0.5886661410331726\n",
      "Epoch: 30\n",
      "Train Loss: 0.532686784863472\n",
      "Val Loss: 0.5792855024337769\n",
      "Epoch: 31\n",
      "Train Loss: 0.5273582488298416\n",
      "Val Loss: 0.5727424621582031\n",
      "Epoch: 32\n",
      "Train Loss: 0.5245735794305801\n",
      "Val Loss: 0.5670366287231445\n",
      "Epoch: 33\n",
      "Train Loss: 0.5259614735841751\n",
      "Val Loss: 0.5662792325019836\n",
      "Epoch: 34\n",
      "Train Loss: 0.5239443928003311\n",
      "Val Loss: 0.5740939974784851\n",
      "Epoch: 35\n",
      "Train Loss: 0.5247484445571899\n",
      "Val Loss: 0.5827354788780212\n",
      "Epoch: 36\n",
      "Train Loss: 0.5267666131258011\n",
      "Val Loss: 0.5575913190841675\n",
      "Epoch: 37\n",
      "Train Loss: 0.5091499239206314\n",
      "Val Loss: 0.5606067180633545\n",
      "Epoch: 38\n",
      "Train Loss: 0.5120422914624214\n",
      "Val Loss: 0.5549309849739075\n",
      "Epoch: 39\n",
      "Train Loss: 0.5057408064603806\n",
      "Val Loss: 0.5538227558135986\n",
      "Epoch: 40\n",
      "Train Loss: 0.5002522319555283\n",
      "Val Loss: 0.5433933734893799\n",
      "Epoch: 41\n",
      "Train Loss: 0.49263110011816025\n",
      "Val Loss: 0.5437451601028442\n",
      "Epoch: 42\n",
      "Train Loss: 0.4943707510828972\n",
      "Val Loss: 0.5388173460960388\n",
      "Epoch: 43\n",
      "Train Loss: 0.48897137492895126\n",
      "Val Loss: 0.5363259315490723\n",
      "Epoch: 44\n",
      "Train Loss: 0.48430563509464264\n",
      "Val Loss: 0.5295575261116028\n",
      "Epoch: 45\n",
      "Train Loss: 0.47603482007980347\n",
      "Val Loss: 0.5277413129806519\n",
      "Epoch: 46\n",
      "Train Loss: 0.474974550306797\n",
      "Val Loss: 0.5255780816078186\n",
      "Epoch: 47\n",
      "Train Loss: 0.47260040044784546\n",
      "Val Loss: 0.5211867690086365\n",
      "Epoch: 48\n",
      "Train Loss: 0.46623294800519943\n",
      "Val Loss: 0.5193569660186768\n",
      "Epoch: 49\n",
      "Train Loss: 0.45941562950611115\n",
      "Val Loss: 0.519536018371582\n",
      "Epoch: 50\n",
      "Train Loss: 0.4554133340716362\n",
      "Val Loss: 0.5144598484039307\n",
      "Epoch: 51\n",
      "Train Loss: 0.45095138251781464\n",
      "Val Loss: 0.5096637010574341\n",
      "Epoch: 52\n",
      "Train Loss: 0.44657856971025467\n",
      "Val Loss: 0.5073288679122925\n",
      "Epoch: 53\n",
      "Train Loss: 0.4415931925177574\n",
      "Val Loss: 0.5055590867996216\n",
      "Epoch: 54\n",
      "Train Loss: 0.4366411566734314\n",
      "Val Loss: 0.5097211599349976\n",
      "Epoch: 55\n",
      "Train Loss: 0.4324069619178772\n",
      "Val Loss: 0.5044292211532593\n",
      "Epoch: 56\n",
      "Train Loss: 0.42809467762708664\n",
      "Val Loss: 0.4996408224105835\n",
      "Epoch: 57\n",
      "Train Loss: 0.42413872480392456\n",
      "Val Loss: 0.4949776828289032\n",
      "Epoch: 58\n",
      "Train Loss: 0.42033617943525314\n",
      "Val Loss: 0.4929645359516144\n",
      "Epoch: 59\n",
      "Train Loss: 0.4147879034280777\n",
      "Val Loss: 0.5014028549194336\n",
      "Epoch: 60\n",
      "Train Loss: 0.4102016016840935\n",
      "Val Loss: 0.503445565700531\n",
      "Epoch: 61\n",
      "Train Loss: 0.407550185918808\n",
      "Val Loss: 0.49324703216552734\n",
      "Epoch: 62\n",
      "Train Loss: 0.40188948065042496\n",
      "Val Loss: 0.4923930764198303\n",
      "Epoch: 63\n",
      "Train Loss: 0.39734163135290146\n",
      "Val Loss: 0.4967120587825775\n",
      "Epoch: 64\n",
      "Train Loss: 0.3933379054069519\n",
      "Val Loss: 0.5031768083572388\n",
      "Epoch: 65\n",
      "Train Loss: 0.39198463410139084\n",
      "Val Loss: 0.49518728256225586\n",
      "Epoch: 66\n",
      "Train Loss: 0.3888726308941841\n",
      "Val Loss: 0.48479023575782776\n",
      "Epoch: 67\n",
      "Train Loss: 0.38627733290195465\n",
      "Val Loss: 0.48030272126197815\n",
      "Epoch: 68\n",
      "Train Loss: 0.3829200491309166\n",
      "Val Loss: 0.5024815797805786\n",
      "Epoch: 69\n",
      "Train Loss: 0.37687238305807114\n",
      "Val Loss: 0.5115351676940918\n",
      "Epoch: 70\n",
      "Train Loss: 0.37617088854312897\n",
      "Val Loss: 0.49550533294677734\n",
      "Epoch: 71\n",
      "Train Loss: 0.3746013566851616\n",
      "Val Loss: 0.47806671261787415\n",
      "Epoch: 72\n",
      "Train Loss: 0.3713603615760803\n",
      "Val Loss: 0.48454782366752625\n",
      "Epoch: 73\n",
      "Train Loss: 0.36684825271368027\n",
      "Val Loss: 0.5247498154640198\n",
      "Epoch: 74\n",
      "Train Loss: 0.3643125593662262\n",
      "Val Loss: 0.4997483789920807\n",
      "Epoch: 75\n",
      "Train Loss: 0.3634875938296318\n",
      "Val Loss: 0.48205286264419556\n",
      "Epoch: 76\n",
      "Train Loss: 0.36111270636320114\n",
      "Val Loss: 0.49138060212135315\n",
      "Epoch: 77\n",
      "Train Loss: 0.35813190788030624\n",
      "Val Loss: 0.5243520140647888\n",
      "Epoch: 78\n",
      "Train Loss: 0.3522619754076004\n",
      "Val Loss: 0.5037456154823303\n",
      "Epoch: 79\n",
      "Train Loss: 0.350062794983387\n",
      "Val Loss: 0.4881279766559601\n",
      "Epoch: 80\n",
      "Train Loss: 0.3472561314702034\n",
      "Val Loss: 0.5229684710502625\n",
      "Epoch: 81\n",
      "Train Loss: 0.3442257046699524\n",
      "Val Loss: 0.5186829566955566\n",
      "Epoch: 82\n",
      "Train Loss: 0.34156403690576553\n",
      "Val Loss: 0.5126209259033203\n",
      "Epoch: 83\n",
      "Train Loss: 0.3383637070655823\n",
      "Val Loss: 0.5231701731681824\n",
      "Epoch: 84\n",
      "Train Loss: 0.33602214604616165\n",
      "Val Loss: 0.5034392476081848\n",
      "Epoch: 85\n",
      "Train Loss: 0.33440718799829483\n",
      "Val Loss: 0.49389079213142395\n",
      "Epoch: 86\n",
      "Train Loss: 0.33259855955839157\n",
      "Val Loss: 0.5149209499359131\n",
      "Epoch: 87\n",
      "Train Loss: 0.3311646804213524\n",
      "Val Loss: 0.5807825326919556\n",
      "Epoch: 88\n",
      "Train Loss: 0.3335880637168884\n",
      "Val Loss: 0.5494838953018188\n",
      "Epoch: 89\n",
      "Train Loss: 0.3258842006325722\n",
      "Val Loss: 0.5231891870498657\n",
      "Epoch: 90\n",
      "Train Loss: 0.3238656520843506\n",
      "Val Loss: 0.5644171833992004\n",
      "Epoch: 91\n",
      "Train Loss: 0.32134003192186356\n",
      "Val Loss: 0.5489054322242737\n",
      "Epoch: 92\n",
      "Train Loss: 0.31895752996206284\n",
      "Val Loss: 0.5553371906280518\n",
      "Epoch: 93\n",
      "Train Loss: 0.3172924146056175\n",
      "Val Loss: 0.5673961043357849\n",
      "Epoch: 94\n",
      "Train Loss: 0.3153959885239601\n",
      "Val Loss: 0.5651528835296631\n",
      "Epoch: 95\n",
      "Train Loss: 0.31434115767478943\n",
      "Val Loss: 0.5588026642799377\n",
      "Epoch: 96\n",
      "Train Loss: 0.3130946010351181\n",
      "Val Loss: 0.5483734607696533\n",
      "Epoch: 97\n",
      "Train Loss: 0.31270068138837814\n",
      "Val Loss: 0.5686999559402466\n",
      "Epoch: 98\n",
      "Train Loss: 0.31217124313116074\n",
      "Val Loss: 0.5967994332313538\n",
      "Epoch: 99\n",
      "Train Loss: 0.3119005858898163\n",
      "Val Loss: 0.5715187788009644\n",
      "Epoch: 100\n",
      "Train Loss: 0.31029679626226425\n",
      "Val Loss: 0.5633438229560852\n",
      "Epoch: 101\n",
      "Train Loss: 0.309555284678936\n",
      "Val Loss: 0.6009575724601746\n",
      "Epoch: 102\n",
      "Train Loss: 0.310171514749527\n",
      "Val Loss: 0.5604153871536255\n",
      "Epoch: 103\n",
      "Train Loss: 0.30873557180166245\n",
      "Val Loss: 0.5819717049598694\n",
      "Epoch: 104\n",
      "Train Loss: 0.3087231442332268\n",
      "Val Loss: 0.5915396809577942\n",
      "Epoch: 105\n",
      "Train Loss: 0.3094630464911461\n",
      "Val Loss: 0.5589466691017151\n",
      "Epoch: 106\n",
      "Train Loss: 0.3074963763356209\n",
      "Val Loss: 0.6014586687088013\n",
      "Epoch: 107\n",
      "Train Loss: 0.30732568353414536\n",
      "Val Loss: 0.5926443934440613\n",
      "Epoch: 108\n",
      "Train Loss: 0.3058369532227516\n",
      "Val Loss: 0.5980050563812256\n",
      "Epoch: 109\n",
      "Train Loss: 0.3053082078695297\n",
      "Val Loss: 0.6124467253684998\n",
      "Epoch: 110\n",
      "Train Loss: 0.30534503236413\n",
      "Val Loss: 0.6129379868507385\n",
      "Epoch: 111\n",
      "Train Loss: 0.30453766137361526\n",
      "Val Loss: 0.6045343279838562\n",
      "Epoch: 112\n",
      "Train Loss: 0.3040921352803707\n",
      "Val Loss: 0.6012060046195984\n",
      "Epoch: 113\n",
      "Train Loss: 0.30382975935935974\n",
      "Val Loss: 0.6184894442558289\n",
      "Epoch: 114\n",
      "Train Loss: 0.30353977903723717\n",
      "Val Loss: 0.6134980916976929\n",
      "Epoch: 115\n",
      "Train Loss: 0.30331044271588326\n",
      "Val Loss: 0.5879009366035461\n",
      "Epoch: 116\n",
      "Train Loss: 0.3027961738407612\n",
      "Val Loss: 0.629988968372345\n",
      "Epoch: 117\n",
      "Train Loss: 0.30150263756513596\n",
      "Val Loss: 0.6083216667175293\n",
      "Epoch: 118\n",
      "Train Loss: 0.3012220039963722\n",
      "Val Loss: 0.6047205328941345\n",
      "Epoch: 119\n",
      "Train Loss: 0.30181289836764336\n",
      "Val Loss: 0.6180558204650879\n",
      "Epoch: 120\n",
      "Train Loss: 0.3012346141040325\n",
      "Val Loss: 0.6189433932304382\n",
      "Epoch: 121\n",
      "Train Loss: 0.3011743240058422\n",
      "Val Loss: 0.6303529143333435\n",
      "Epoch: 122\n",
      "Train Loss: 0.30043013021349907\n",
      "Val Loss: 0.6049753427505493\n",
      "Epoch: 123\n",
      "Train Loss: 0.3001583702862263\n",
      "Val Loss: 0.6271088123321533\n",
      "Epoch: 124\n",
      "Train Loss: 0.2995171323418617\n",
      "Val Loss: 0.5812700390815735\n",
      "Epoch: 125\n",
      "Train Loss: 0.2998838499188423\n",
      "Val Loss: 0.648734986782074\n",
      "Epoch: 126\n",
      "Train Loss: 0.2993011064827442\n",
      "Val Loss: 0.6349914073944092\n",
      "Epoch: 127\n",
      "Train Loss: 0.2990660071372986\n",
      "Val Loss: 0.6500695943832397\n",
      "Epoch: 128\n",
      "Train Loss: 0.29850277677178383\n",
      "Val Loss: 0.6106616854667664\n",
      "Epoch: 129\n",
      "Train Loss: 0.2985503450036049\n",
      "Val Loss: 0.6303790211677551\n"
     ]
    }
   ],
   "source": [
    "# Train\n",
    "history = train(model, criterion, opt, torch.Tensor(x_train_r), torch.Tensor(y_train), torch.Tensor(x_val_r), torch.Tensor(y_val), num_epochs=100, mini_batch_size=x_train_r.shape[0] // 4)"
   ]
  },
  {
   "cell_type": "code",
   "execution_count": 81,
   "metadata": {
    "colab": {
     "base_uri": "https://localhost:8080/",
     "height": 296
    },
    "executionInfo": {
     "elapsed": 358,
     "status": "ok",
     "timestamp": 1622564183139,
     "user": {
      "displayName": "Moritz Waldleben",
      "photoUrl": "",
      "userId": "09098551526927023625"
     },
     "user_tz": -120
    },
    "id": "WynuMF65SpN2",
    "outputId": "22f6c405-ded0-4072-f1d9-d2fae18967fa"
   },
   "outputs": [
    {
     "data": {
      "text/plain": [
       "<matplotlib.legend.Legend at 0x1c69a5f2fb0>"
      ]
     },
     "execution_count": 81,
     "metadata": {},
     "output_type": "execute_result"
    },
    {
     "data": {
      "image/png": "[encoded data removed]",
      "text/plain": [
       "<Figure size 432x288 with 1 Axes>"
      ]
     },
     "metadata": {
      "needs_background": "light"
     },
     "output_type": "display_data"
    }
   ],
   "source": [
    "# Plot losses\n",
    "train_loss = history['train_loss']\n",
    "val_loss = history['val_loss']\n",
    "\n",
    "plt.figure()\n",
    "plt.clf()\n",
    "plt.xlabel('Epochs')\n",
    "plt.ylabel('Loss')\n",
    "plt.plot(np.arange(0, len(train_loss)), train_loss, color='r', label='training loss')\n",
    "plt.plot(np.arange(0, len(val_loss)), val_loss, color='g', label='validation loss')\n",
    "plt.legend()"
   ]
  },
  {
   "cell_type": "markdown",
   "metadata": {
    "id": "S4aIH6cDSpN3"
   },
   "source": [
    "### 3.3 Evaluate Accuracy\n",
    "Compare how the model performs on the test dataset:"
   ]
  },
  {
   "cell_type": "code",
   "execution_count": 60,
   "metadata": {},
   "outputs": [],
   "source": [
    "# Evaluate the model\n",
    "def evaluate(model, x_test, y_test):\n",
    "    y_pred = model(x_test).detach()\n",
    "    res = np.argmax(y_pred, axis = 1) \n",
    "    \n",
    "    target = np.argmax(y_test, axis = 1)\n",
    "    train_acc = torch.sum(res == target) / x_test.size(0)\n",
    "\n",
    "    return train_acc"
   ]
  },
  {
   "cell_type": "code",
   "execution_count": 73,
   "metadata": {
    "colab": {
     "base_uri": "https://localhost:8080/"
    },
    "executionInfo": {
     "elapsed": 2257,
     "status": "ok",
     "timestamp": 1622564195573,
     "user": {
      "displayName": "Moritz Waldleben",
      "photoUrl": "",
      "userId": "09098551526927023625"
     },
     "user_tz": -120
    },
    "id": "WXofm6U9SpN4",
    "outputId": "35b0cb35-0715-48fa-8933-f366f46837de"
   },
   "outputs": [
    {
     "name": "stdout",
     "output_type": "stream",
     "text": [
      "Evaluate model:\n",
      "Test accuracy: 92.67%\n"
     ]
    }
   ],
   "source": [
    "print('Evaluate model:')\n",
    "#results = model.evaluate(x_test_r, y_test)\n",
    "accuracy = evaluate(model, torch.Tensor(x_test_r), torch.Tensor(y_test))\n",
    "#print('Test loss: {:f}'.format(results[0]))\n",
    "print('Test accuracy: {:.2f}%'.format(accuracy * 100))"
   ]
  },
  {
   "cell_type": "code",
   "execution_count": 74,
   "metadata": {
    "colab": {
     "base_uri": "https://localhost:8080/",
     "height": 303
    },
    "executionInfo": {
     "elapsed": 1858,
     "status": "ok",
     "timestamp": 1622564203469,
     "user": {
      "displayName": "Moritz Waldleben",
      "photoUrl": "",
      "userId": "09098551526927023625"
     },
     "user_tz": -120
    },
    "id": "Joyq3LJmSpN5",
    "outputId": "571c9e34-a7bd-4ce3-cde4-b837282ba9dd"
   },
   "outputs": [
    {
     "data": {
      "text/plain": [
       "<matplotlib.image.AxesImage at 0x1c69a5cca00>"
      ]
     },
     "execution_count": 74,
     "metadata": {},
     "output_type": "execute_result"
    },
    {
     "data": {
      "image/png": "[encoded data removed]",
      "text/plain": [
       "<Figure size 432x288 with 1 Axes>"
      ]
     },
     "metadata": {
      "needs_background": "light"
     },
     "output_type": "display_data"
    }
   ],
   "source": [
    "# Plot a confusion matrix\n",
    "y_pred = model(torch.Tensor(x_test_r)).detach()\n",
    "\n",
    "y_pred_class_n = np.argmax(y_pred, axis=1)\n",
    "y_true_class_n = np.argmax(y_test, axis=1)\n",
    "\n",
    "#accuracy = accuracy_score(y_true_class_n, y_pred_class_n)\n",
    "#np.set_printoptions(precision=2)\n",
    "#print(\"Accuracy = {:.2f}%\".format(accuracy * 100))\n",
    "\n",
    "cm = confusion_matrix(y_true_class_n, y_pred_class_n, labels=[0,1,2])\n",
    "\n",
    "# Loop over data dimensions and create text annotations.\n",
    "thresh = cm.max() / 2.\n",
    "for i in range(cm.shape[0]):\n",
    "    for j in range(cm.shape[1]):\n",
    "        plt.text(j, i, format(cm[i, j], 'd'),\n",
    "                ha=\"center\", va=\"center\",\n",
    "                color=\"white\" if cm[i, j] > thresh else \"black\")\n",
    "\n",
    "plt.imshow(cm, cmap=plt.cm.Blues)"
   ]
  },
  {
   "cell_type": "markdown",
   "metadata": {
    "id": "zLO4GMgiSpN6"
   },
   "source": [
    "### 3.4 Save the model"
   ]
  },
  {
   "cell_type": "code",
   "execution_count": 106,
   "metadata": {
    "id": "4yXQZ3m7SpN7"
   },
   "outputs": [],
   "source": [
    "# Save the model into an HDF5 file ‘model.h5’\n",
    "#model.save('wmc.h5')\n",
    "torch.save(model.state_dict(), 'wmc_new.pth')"
   ]
  }
 ],
 "metadata": {
  "colab": {
   "name": "acoustic_scene_classification512.ipynb",
   "provenance": [],
   "toc_visible": true
  },
  "file_extension": ".py",
  "kernelspec": {
   "display_name": "Python 3.10.4 64-bit",
   "language": "python",
   "name": "python3"
  },
  "language_info": {
   "codemirror_mode": {
    "name": "ipython",
    "version": 3
   },
   "file_extension": ".py",
   "mimetype": "text/x-python",
   "name": "python",
   "nbconvert_exporter": "python",
   "pygments_lexer": "ipython3",
   "version": "3.10.4"
  },
  "mimetype": "text/x-python",
  "name": "python",
  "npconvert_exporter": "python",
  "pygments_lexer": "ipython3",
  "version": 3,
  "vscode": {
   "interpreter": {
    "hash": "156834c5d1080ff0c02c47ca6eec2f6edc8c4c7adce294369f0a57723b7397e9"
   }
  }
 },
 "nbformat": 4,
 "nbformat_minor": 1
}
