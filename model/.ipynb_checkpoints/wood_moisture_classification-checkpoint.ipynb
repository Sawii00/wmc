{
 "cells": [
  {
   "cell_type": "code",
   "execution_count": 1,
   "metadata": {
    "executionInfo": {
     "elapsed": 276,
     "status": "ok",
     "timestamp": 1622629240560,
     "user": {
      "displayName": "Moritz Waldleben",
      "photoUrl": "",
      "userId": "09098551526927023625"
     },
     "user_tz": -120
    },
    "id": "t4kxFUmtSpNA"
   },
   "outputs": [],
   "source": [
    "#   This software component is licensed by ST under BSD 3-Clause license,\n",
    "#   the \"License\"; You may not use this file except in compliance with the\n",
    "#   License. You may obtain a copy of the License at:\n",
    "#                        https://opensource.org/licenses/BSD-3-Clause"
   ]
  },
  {
   "cell_type": "markdown",
   "metadata": {
    "id": "OQTXr3L0SpNY"
   },
   "source": [
    "# Acoustic Scene Classification\n",
    "\n",
    "Artifical Intelligence can be used to classify ambiant noise captured by the microphone on an IoT device. This notebook shows how to create a Deep Learning Convolutional Neural Network to classify a sound input into three different categories:\n",
    "- Indoor\n",
    "- Outdoor\n",
    "- In-Vehicle\n",
    "\n",
    "This step-by-step notebook uses [Keras] for the model creation and trainning and [librosa] for audio preprocessing and feature extraction that can then be ported into the FP-AI-SENSING1 application example for STM32. \n",
    "![ASC Pipeline](./asc_pipeline.png)\n",
    "\n",
    "[Keras]:https://keras.io/\n",
    "[librosa]:https://librosa.github.io/"
   ]
  },
  {
   "cell_type": "markdown",
   "metadata": {
    "id": "gSLlKL4KSpNZ"
   },
   "source": [
    "First, it is required to import a couple of libraries in order to run this notebook.\n",
    "\n",
    "If some libraries are missing they can be installed using:\n",
    "`!pip install <library-name>`\n",
    "\n",
    "and/or upgraded using: `!pip install --upgrade <library-name>`"
   ]
  },
  {
   "cell_type": "code",
   "execution_count": 2,
   "metadata": {
    "executionInfo": {
     "elapsed": 4406,
     "status": "ok",
     "timestamp": 1622629793582,
     "user": {
      "displayName": "Moritz Waldleben",
      "photoUrl": "",
      "userId": "09098551526927023625"
     },
     "user_tz": -120
    },
    "id": "swA6t4wgSpNa"
   },
   "outputs": [],
   "source": [
    "import numpy as np\n",
    "import os\n",
    "from tqdm import tqdm\n",
    "import librosa\n",
    "import librosa.display\n",
    "import librosa.util\n",
    "from IPython.display import Audio\n",
    "import matplotlib.pyplot as plt\n",
    "from sklearn import preprocessing\n",
    "from sklearn.metrics import confusion_matrix\n",
    "from sklearn.metrics import accuracy_score\n",
    "from sklearn.model_selection import train_test_split\n",
    "import keras.utils\n",
    "from keras import layers\n",
    "from keras import models\n",
    "from keras import optimizers\n",
    "import tensorflow as tf\n",
    "from pickle import dump\n",
    "import random"
   ]
  },
  {
   "cell_type": "code",
   "execution_count": 3,
   "metadata": {
    "colab": {
     "base_uri": "https://localhost:8080/"
    },
    "executionInfo": {
     "elapsed": 295,
     "status": "ok",
     "timestamp": 1622629798189,
     "user": {
      "displayName": "Moritz Waldleben",
      "photoUrl": "",
      "userId": "09098551526927023625"
     },
     "user_tz": -120
    },
    "id": "hJV-tuxQSpNd",
    "outputId": "21734d6b-14ca-46dc-fac1-2fe806b72d1f",
    "scrolled": true
   },
   "outputs": [
    {
     "name": "stdout",
     "output_type": "stream",
     "text": [
      "Keras: 2.4.3\n",
      "TensorFlow: 2.4.1\n",
      "librosa: 2.4.3\n"
     ]
    }
   ],
   "source": [
    "print(\"Keras:\", keras.__version__)\n",
    "print(\"TensorFlow:\",tf.__version__)\n",
    "print(\"librosa:\", keras.__version__)"
   ]
  },
  {
   "cell_type": "markdown",
   "metadata": {
    "id": "NbcriJ54SpNe"
   },
   "source": [
    "## Import and Convert the Data\n",
    "Only a limited subset of audio data is provided with this notebook. To build an actual application, it is recommend to use a complete dataset. For example, the [TUT Acoustic scenes 2016][1] dataset can be used. The dataset consists of recordings from various acoustic scenes, all having distinct recording locations. \n",
    "\n",
    "The dataset is expected to be located inside a folder named `Dataset` besides the Jupyter Notebook. The dataset should contain a metadata file where each line has a path to an audio file and a label separated by a space. *E.g*:\n",
    "```\n",
    "bus.wav bus\n",
    "park.wav park\n",
    "home.wav home\n",
    "```\n",
    "The original classes (bus, cafe/restaurant, car, ..) are then aggregated into more generic classes (indoor, outdoor, vehicle) for simplicity reasons.\n",
    "\n",
    "When loaded into the runtime, the data is:\n",
    "- resampled to **16kHz**\n",
    "- converted to **mono**\n",
    "\n",
    "__important:__ *Audio signal sampling rate and channel numbers settings should match the STM32 audio capture settings.* \n",
    "\n",
    "[1]: http://www.cs.tut.fi/sgn/arg/dcase2016/task-acoustic-scene-classification"
   ]
  },
  {
   "cell_type": "code",
   "execution_count": 4,
   "metadata": {
    "colab": {
     "base_uri": "https://localhost:8080/"
    },
    "executionInfo": {
     "elapsed": 8263,
     "status": "ok",
     "timestamp": 1622629865632,
     "user": {
      "displayName": "Moritz Waldleben",
      "photoUrl": "",
      "userId": "09098551526927023625"
     },
     "user_tz": -120
    },
    "id": "MavxVlcfSpNf",
    "outputId": "e41d3511-2053-4e9c-bec1-5dd0dc2b2263",
    "scrolled": true
   },
   "outputs": [
    {
     "name": "stderr",
     "output_type": "stream",
     "text": [
      "100%|██████████| 18/18 [00:00<00:00, 107.46it/s]\n"
     ]
    }
   ],
   "source": [
    "dataset_dir = './dataset'\n",
    "meta_path = path = os.path.join(dataset_dir, 'labels.txt')\n",
    "fileset = np.loadtxt(meta_path, dtype=str)\n",
    "\n",
    "# 3 classes : 0 dry, 1 halfwet, 2 wet\n",
    "class_names = ['dry', 'semiwet', 'wet']\n",
    "labels = {\n",
    "    'dry' : 0,\n",
    "    'semiwet' : 1,\n",
    "    'wet' : 2,\n",
    "}\n",
    "\n",
    "x = []\n",
    "y = []\n",
    "\n",
    "for file in tqdm(fileset):\n",
    "    file_path, file_label = file\n",
    "    file_path = os.path.join(dataset_dir, file_path)\n",
    "    # @note: resampling can take some time!\n",
    "    signal, _ = librosa.load(file_path, sr=48000, mono=True, duration=40, dtype=np.float32)\n",
    "    signal = signal[0:1689600]\n",
    "    label = labels[file_label]\n",
    "    x.append(signal)\n",
    "    y.append(label)"
   ]
  },
  {
   "cell_type": "code",
   "execution_count": 5,
   "metadata": {
    "colab": {
     "base_uri": "https://localhost:8080/",
     "height": 244
    },
    "executionInfo": {
     "elapsed": 24,
     "status": "ok",
     "timestamp": 1622629865634,
     "user": {
      "displayName": "Moritz Waldleben",
      "photoUrl": "",
      "userId": "09098551526927023625"
     },
     "user_tz": -120
    },
    "id": "hFdOVcrrSpNg",
    "outputId": "c9c54745-a65d-4f8c-e36b-7348866fcfd1"
   },
   "outputs": [
    {
     "data": {
      "text/html": [
       "\n",
       "                <audio  controls=\"controls\" >\n",
       "                    <source src=\"data:audio/wav;base64,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\" type=\"audio/wav\" />\n",
       "                    Your browser does not support the audio element.\n",
       "                </audio>\n",
       "              "
      ],
      "text/plain": [
       "<IPython.lib.display.Audio object>"
      ]
     },
     "execution_count": 5,
     "metadata": {},
     "output_type": "execute_result"
    },
    {
     "data": {
      "image/png": "[encoded data removed]",
      "text/plain": [
       "<Figure size 864x144 with 1 Axes>"
      ]
     },
     "metadata": {
      "needs_background": "light"
     },
     "output_type": "display_data"
    }
   ],
   "source": [
    "plt.figure(figsize=(12, 2))\n",
    "plt.title(class_names[y[0]])\n",
    "dry1 = x[1]\n",
    "first_frame = dry1[16896:16896*2]\n",
    "librosa.display.waveplot(first_frame, sr=48000)\n",
    "Audio(first_frame, rate=48000)"
   ]
  },
  {
   "cell_type": "markdown",
   "metadata": {
    "id": "zDf566vISpNi"
   },
   "source": [
    "## Prepare the Data\n",
    "Instead of feeding raw audio data to the neural network model, the data is first sliced into smaller subframes in order to create a set of LogMel spectrograms 'features'. Theses features will then be used for the model training, validation and testing."
   ]
  },
  {
   "cell_type": "markdown",
   "metadata": {
    "id": "aNYSxUQmSpNj"
   },
   "source": [
    "### Slice Data into frames\n",
    "Each frame will contain 16,896 samples (32 * 512 + 512) to create a 32 column spectrogram with n_fft=1024 and hop_length=512"
   ]
  },
  {
   "cell_type": "code",
   "execution_count": 6,
   "metadata": {
    "colab": {
     "base_uri": "https://localhost:8080/"
    },
    "executionInfo": {
     "elapsed": 433,
     "status": "ok",
     "timestamp": 1622629866056,
     "user": {
      "displayName": "Moritz Waldleben",
      "photoUrl": "",
      "userId": "09098551526927023625"
     },
     "user_tz": -120
    },
    "id": "S6P_OY1_SpNj",
    "outputId": "e64ca577-9a3a-4181-edaf-b6399fd1a521"
   },
   "outputs": [
    {
     "name": "stdout",
     "output_type": "stream",
     "text": [
      "x_framed shape:  (18000, 16896)\n",
      "y_framed shape:  (18000,)\n"
     ]
    }
   ],
   "source": [
    "x_framed = []\n",
    "y_framed = []\n",
    "\n",
    "nb_frames = 1000\n",
    "\n",
    "random.seed(10)\n",
    "\n",
    "for i in range(len(x)):\n",
    "    x_tmp = np.asarray(x[i])\n",
    "    for k in range(nb_frames):\n",
    "        rand = random.randint(0, 99*16896)\n",
    "        frame = x_tmp[rand:rand + 16896]\n",
    "        x_framed.append(np.transpose(frame))\n",
    "    y_framed.append(np.full(nb_frames, y[i]))\n",
    "    \n",
    "# merge sliced frames and label\n",
    "x_framed = np.asarray(x_framed)\n",
    "y_framed = np.asarray(y_framed)\n",
    "#x_framed = x_framed.reshape(x_framed.shape[0]*x_framed.shape[1], x_framed.shape[2])\n",
    "y_framed = y_framed.reshape(y_framed.shape[0]*y_framed.shape[1], )\n",
    "\n",
    "print(\"x_framed shape: \", x_framed.shape) # Each frame of 16,896 samples can be used to create spectrogram \n",
    "print(\"y_framed shape: \", y_framed.shape) # Corresponding label for each frame\n"
   ]
  },
  {
   "cell_type": "markdown",
   "metadata": {
    "id": "97HnRxBwSpNl"
   },
   "source": [
    "### Preprocess the Data into LogMel Spectrograms\n",
    "Create a feature set using log-melspectrogram feature extraction.\n",
    "\n",
    "__important:__ *preprocessing parameters should match the psrameters defined in the STM32 implementation*    "
   ]
  },
  {
   "cell_type": "code",
   "execution_count": null,
   "metadata": {
    "colab": {
     "base_uri": "https://localhost:8080/"
    },
    "executionInfo": {
     "elapsed": 52162,
     "status": "ok",
     "timestamp": 1622629918204,
     "user": {
      "displayName": "Moritz Waldleben",
      "photoUrl": "",
      "userId": "09098551526927023625"
     },
     "user_tz": -120
    },
    "id": "tbUYwmTBSpNm",
    "outputId": "1bf6c8b3-3ac8-4916-8e42-5291899da0ae"
   },
   "outputs": [
    {
     "name": "stderr",
     "output_type": "stream",
     "text": [
      " 54%|█████▍    | 9766/18000 [00:15<00:13, 611.10it/s]"
     ]
    }
   ],
   "source": [
    "x_features = []\n",
    "y_features = y_framed\n",
    "\n",
    "for frame in tqdm(x_framed):\n",
    "    # Create a mel-scaled spectrogram\n",
    "    S_mel = librosa.feature.melspectrogram(y=frame, sr=48000, n_mels=30, n_fft=1024, hop_length=512, center=False, fmin=4000)\n",
    "    # Scale according to reference power\n",
    "    S_mel = S_mel / S_mel.max()\n",
    "    # Convert to dB\n",
    "    S_log_mel = librosa.power_to_db(S_mel, top_db=80.0)\n",
    "    x_features.append(S_log_mel)\n",
    "\n",
    "# Convert into numpy array\n",
    "x_features = np.asarray(x_features)"
   ]
  },
  {
   "cell_type": "markdown",
   "metadata": {
    "id": "x4MH-IqZSpNn"
   },
   "source": [
    "We get 2,715 features in the set, with each feature represented with a 30x32 spectrogram. "
   ]
  },
  {
   "cell_type": "code",
   "execution_count": 16,
   "metadata": {
    "colab": {
     "base_uri": "https://localhost:8080/"
    },
    "executionInfo": {
     "elapsed": 325,
     "status": "ok",
     "timestamp": 1622584128566,
     "user": {
      "displayName": "Moritz Waldleben",
      "photoUrl": "",
      "userId": "09098551526927023625"
     },
     "user_tz": -120
    },
    "id": "IgpC8qxJSpNp",
    "outputId": "c209cb46-cb2d-4140-ac68-79277596c961"
   },
   "outputs": [
    {
     "name": "stdout",
     "output_type": "stream",
     "text": [
      "(18000, 30, 32)\n"
     ]
    }
   ],
   "source": [
    "print(x_features.shape)"
   ]
  },
  {
   "cell_type": "code",
   "execution_count": 17,
   "metadata": {},
   "outputs": [
    {
     "data": {
      "image/png": "[encoded data removed]",
      "text/plain": [
       "<Figure size 720x576 with 2 Axes>"
      ]
     },
     "metadata": {
      "needs_background": "light"
     },
     "output_type": "display_data"
    },
    {
     "data": {
      "text/plain": [
       "<Figure size 432x288 with 0 Axes>"
      ]
     },
     "metadata": {},
     "output_type": "display_data"
    }
   ],
   "source": [
    "# Plot the first spectrogram generated for each feature class\n",
    "\n",
    "plt.figure(figsize=(10, 8))\n",
    "plt.subplot(311)\n",
    "indoor_index = np.argmax(y_framed == 0)\n",
    "librosa.display.specshow(x_features[indoor_index], sr=48000, y_axis='mel', fmin=4000, fmax=24000,\n",
    "                         x_axis='time', cmap='viridis', vmin=-80.0)\n",
    "plt.colorbar(format='%+2.0f dB')\n",
    "\n",
    "plt.tight_layout()\n",
    "plt.show()\n",
    "plt.savefig('melspectograms.jpg', dpi = 300, bbox_inches='tight')"
   ]
  },
  {
   "cell_type": "code",
   "execution_count": 18,
   "metadata": {
    "colab": {
     "base_uri": "https://localhost:8080/",
     "height": 585
    },
    "executionInfo": {
     "elapsed": 707,
     "status": "ok",
     "timestamp": 1622629918903,
     "user": {
      "displayName": "Moritz Waldleben",
      "photoUrl": "",
      "userId": "09098551526927023625"
     },
     "user_tz": -120
    },
    "id": "WwARqhRRSpNs",
    "outputId": "46ad240f-38b2-4afc-f068-a79dd19bb82d"
   },
   "outputs": [
    {
     "data": {
      "image/png": "[encoded data removed]",
      "text/plain": [
       "<Figure size 720x576 with 6 Axes>"
      ]
     },
     "metadata": {
      "needs_background": "light"
     },
     "output_type": "display_data"
    },
    {
     "data": {
      "text/plain": [
       "<Figure size 432x288 with 0 Axes>"
      ]
     },
     "metadata": {},
     "output_type": "display_data"
    }
   ],
   "source": [
    "# Plot the first spectrogram generated for each feature class\n",
    "\n",
    "plt.figure(figsize=(10, 8))\n",
    "plt.subplot(311)\n",
    "indoor_index = np.argmax(y_framed == 0)\n",
    "librosa.display.specshow(x_features[indoor_index], sr=48000, y_axis='mel', fmin=4000, fmax=24000,\n",
    "                         x_axis='time', cmap='viridis', vmin=-80.0)\n",
    "plt.colorbar(format='%+2.0f dB')\n",
    "plt.title('LogMel spectrogram for a ' + class_names[y_features[indoor_index]] + ' sample')\n",
    "\n",
    "plt.subplot(312)\n",
    "outdoor_index = np.argmax(y_framed == 1)\n",
    "librosa.display.specshow(x_features[outdoor_index], sr=48000, y_axis='mel', fmax=24000,\n",
    "                         x_axis='time', cmap='viridis', vmin=-80.0)\n",
    "plt.colorbar(format='%+2.0f dB')\n",
    "plt.title('LogMel spectrogram for a semi-wet sample')\n",
    "\n",
    "plt.subplot(313)\n",
    "vehicle_index = np.argmax(y_framed == 2)\n",
    "librosa.display.specshow(x_features[vehicle_index], sr=16000, y_axis='mel', fmax=24000,\n",
    "                         x_axis='time', cmap='viridis', vmin=-80.0)\n",
    "plt.colorbar(format='%+2.0f dB')\n",
    "plt.title('LogMel spectrogram for  a ' + class_names[y_features[vehicle_index]] + ' sample')\n",
    "\n",
    "plt.tight_layout()\n",
    "plt.show()\n",
    "plt.savefig('melspectograms.jpg', dpi = 300, bbox_inches='tight')"
   ]
  },
  {
   "cell_type": "markdown",
   "metadata": {
    "id": "BIltb4zKSpNt"
   },
   "source": [
    "## Standardize features\n",
    "Standardize features by removing the mean and scaling to unit variance\n",
    "\n",
    "The standard score of a sample x is calculated as:\n",
    "\n",
    "z = (x - u) / s\n",
    "\n",
    "where u is the mean of the training samples, and s is the standard deviation of the training samples.\n",
    "\n",
    "Ref: https://scikit-learn.org/stable/auto_examples/preprocessing/plot_scaling_importance.html \n"
   ]
  },
  {
   "cell_type": "code",
   "execution_count": 20,
   "metadata": {
    "colab": {
     "base_uri": "https://localhost:8080/"
    },
    "executionInfo": {
     "elapsed": 335,
     "status": "ok",
     "timestamp": 1622629919232,
     "user": {
      "displayName": "Moritz Waldleben",
      "photoUrl": "",
      "userId": "09098551526927023625"
     },
     "user_tz": -120
    },
    "id": "6ErZd1-9SpNu",
    "outputId": "6f9f92a8-b462-4145-9663-584396bb74f9"
   },
   "outputs": [],
   "source": [
    "# Flatten features for scaling\n",
    "x_features_r = np.reshape(x_features, (len(x_features), 30 * 32))\n",
    "\n",
    "# Create a feature scaler\n",
    "scaler = preprocessing.StandardScaler().fit(x_features_r)\n",
    "mean = scaler.mean_\n",
    "std = scaler.scale_\n",
    "\n",
    "#  Save feature scaler\n",
    "normalize_dir = './normalize/'\n",
    "np.savetxt(normalize_dir + 'mean.csv', mean.reshape(240, 4),  fmt='%.10e', delimiter=\",\", newline=\",\\n\")\n",
    "np.savetxt( normalize_dir + 'std.csv', std.reshape(240, 4),  fmt='%.10e', delimiter=\",\", newline=\",\\n\")\n",
    "dump(scaler, open(normalize_dir + 'scaler.pkl', 'wb'))\n",
    "\n",
    "# Apply the feature scaler \n",
    "x_features_s = scaler.transform(x_features_r)"
   ]
  },
  {
   "cell_type": "markdown",
   "metadata": {
    "id": "EmknsxPHSpNu"
   },
   "source": [
    "## Prepare output data\n",
    "And each feature has a matching label, but keras requires categorical one-hot encoded target label data. So let's convert the labels to the desired encoding:"
   ]
  },
  {
   "cell_type": "code",
   "execution_count": 21,
   "metadata": {
    "colab": {
     "base_uri": "https://localhost:8080/"
    },
    "executionInfo": {
     "elapsed": 15,
     "status": "ok",
     "timestamp": 1622629919233,
     "user": {
      "displayName": "Moritz Waldleben",
      "photoUrl": "",
      "userId": "09098551526927023625"
     },
     "user_tz": -120
    },
    "id": "kKRdZqVkSpNv",
    "outputId": "974a2d8b-4087-49c3-8de8-5cf4b0a84c57"
   },
   "outputs": [
    {
     "name": "stdout",
     "output_type": "stream",
     "text": [
      "y_features_cat shape:  (18000, 3)\n"
     ]
    }
   ],
   "source": [
    "# Convert labels to categorical one-hot encoding\n",
    "y_features_cat = tf.keras.utils.to_categorical(y_features, num_classes=len(class_names))\n",
    "\n",
    "print(\"y_features_cat shape: \" ,y_features_cat.shape)"
   ]
  },
  {
   "cell_type": "markdown",
   "metadata": {
    "id": "jkJueKAiSpNv"
   },
   "source": [
    "## Split the dataset into train, validation, and test set\n",
    "When training, we want to check the accuracy of the model on data it hasn't seen before. So we wan to split the  dataset into a training and validation set to evaluate the loss and other model metrics at the end of each training epoch. The goal is to develop and tune the model using only the training and validation data. The test set will only be used for final evaluation as if it was unknown, new data.\n",
    "\n",
    "Ref: https://scikit-learn.org/stable/modules/generated/sklearn.model_selection.train_test_split.html#sklearn.model_selection.train_test_split"
   ]
  },
  {
   "cell_type": "code",
   "execution_count": 22,
   "metadata": {
    "colab": {
     "base_uri": "https://localhost:8080/"
    },
    "executionInfo": {
     "elapsed": 12,
     "status": "ok",
     "timestamp": 1622629919234,
     "user": {
      "displayName": "Moritz Waldleben",
      "photoUrl": "",
      "userId": "09098551526927023625"
     },
     "user_tz": -120
    },
    "id": "PAMVbvRQSpNw",
    "outputId": "b145e5de-845c-4807-c8c0-bcfb6763fdce"
   },
   "outputs": [
    {
     "name": "stdout",
     "output_type": "stream",
     "text": [
      "Training samples: (10125, 960)\n",
      "Validation samples: (3375, 960)\n",
      "Test samples: (4500, 960)\n"
     ]
    }
   ],
   "source": [
    "x_train, x_test, y_train, y_test = train_test_split(x_features_s,\n",
    "                                                    y_features_cat,\n",
    "                                                    test_size=0.25,\n",
    "                                                    random_state=1)\n",
    "x_train, x_val, y_train, y_val = train_test_split(x_train,\n",
    "                                                  y_train,\n",
    "                                                  test_size=0.25,\n",
    "                                                  random_state=1)\n",
    "\n",
    "print('Training samples:', x_train.shape)\n",
    "print('Validation samples:', x_val.shape)\n",
    "print('Test samples:', x_test.shape)"
   ]
  },
  {
   "cell_type": "markdown",
   "metadata": {
    "id": "nnT3zHH5SpNw"
   },
   "source": [
    "## (Optional) Save the Features\n",
    "Finally, save the features to a csv file in a format [X-CUBE-AI](https://www.st.com/en/embedded-software/x-cube-ai.html) can understand,\n",
    "that is, for each tensor, the values are in a flattened vector."
   ]
  },
  {
   "cell_type": "code",
   "execution_count": null,
   "metadata": {
    "colab": {
     "base_uri": "https://localhost:8080/",
     "height": 389
    },
    "executionInfo": {
     "elapsed": 208,
     "status": "error",
     "timestamp": 1622584291876,
     "user": {
      "displayName": "Moritz Waldleben",
      "photoUrl": "",
      "userId": "09098551526927023625"
     },
     "user_tz": -120
    },
    "id": "K6u0gusVSpNx",
    "outputId": "153eb835-a2e9-49bd-9b0d-33369a50d905"
   },
   "outputs": [],
   "source": [
    "val_dir = './validation/'\n",
    "np.savetxt(val_dir + 'x_train.csv', x_train.reshape(len(x_train), 30 * 32), delimiter=\",\")\n",
    "np.savetxt(val_dir + 'y_train.csv', y_train, delimiter=\",\")\n",
    "np.savetxt(val_dir + 'x_val.csv', x_val.reshape(len(x_val), 30 * 32), delimiter=\",\")\n",
    "np.savetxt(val_dir + 'y_val.csv', y_val, delimiter=\",\")\n",
    "np.savetxt(val_dir + 'x_test.csv', x_test.reshape(len(x_test), 30 * 32), delimiter=\",\")\n",
    "np.savetxt(val_dir + 'y_test.csv', y_test, delimiter=\",\")"
   ]
  },
  {
   "cell_type": "markdown",
   "metadata": {
    "id": "1JXA_9ioSpNx"
   },
   "source": [
    "## Build the Model\n",
    "Now, let's build a sequential convolutional network classifier model: "
   ]
  },
  {
   "cell_type": "code",
   "execution_count": 23,
   "metadata": {
    "colab": {
     "base_uri": "https://localhost:8080/"
    },
    "executionInfo": {
     "elapsed": 230,
     "status": "ok",
     "timestamp": 1622584300588,
     "user": {
      "displayName": "Moritz Waldleben",
      "photoUrl": "",
      "userId": "09098551526927023625"
     },
     "user_tz": -120
    },
    "id": "QTrT-JYcSpNy",
    "outputId": "95c4395a-4b2a-46fe-d99b-0b17569df70c"
   },
   "outputs": [
    {
     "name": "stdout",
     "output_type": "stream",
     "text": [
      "Model: \"sequential\"\n",
      "_________________________________________________________________\n",
      "Layer (type)                 Output Shape              Param #   \n",
      "=================================================================\n",
      "conv2d (Conv2D)              (None, 28, 30, 16)        160       \n",
      "_________________________________________________________________\n",
      "max_pooling2d (MaxPooling2D) (None, 14, 15, 16)        0         \n",
      "_________________________________________________________________\n",
      "conv2d_1 (Conv2D)            (None, 12, 13, 16)        2320      \n",
      "_________________________________________________________________\n",
      "max_pooling2d_1 (MaxPooling2 (None, 6, 6, 16)          0         \n",
      "_________________________________________________________________\n",
      "flatten (Flatten)            (None, 576)               0         \n",
      "_________________________________________________________________\n",
      "dense (Dense)                (None, 9)                 5193      \n",
      "_________________________________________________________________\n",
      "dense_1 (Dense)              (None, 3)                 30        \n",
      "=================================================================\n",
      "Total params: 7,703\n",
      "Trainable params: 7,703\n",
      "Non-trainable params: 0\n",
      "_________________________________________________________________\n"
     ]
    }
   ],
   "source": [
    "model = models.Sequential()\n",
    "model.add(layers.Conv2D(16, (3, 3), activation='relu', input_shape=(30, 32, 1), data_format='channels_last'))\n",
    "model.add(layers.MaxPooling2D((2, 2)))\n",
    "model.add(layers.Conv2D(16, (3, 3), activation='relu'))\n",
    "model.add(layers.MaxPooling2D((2, 2)))\n",
    "model.add(layers.Flatten())\n",
    "model.add(layers.Dense(9, activation='relu'))\n",
    "model.add(layers.Dense(3, activation='softmax'))\n",
    "\n",
    "# print model summary\n",
    "model.summary()"
   ]
  },
  {
   "cell_type": "markdown",
   "metadata": {
    "id": "S6vhDEVZSpNz"
   },
   "source": [
    "## Compile the Model"
   ]
  },
  {
   "cell_type": "code",
   "execution_count": 24,
   "metadata": {
    "colab": {
     "base_uri": "https://localhost:8080/"
    },
    "executionInfo": {
     "elapsed": 191,
     "status": "ok",
     "timestamp": 1622584303019,
     "user": {
      "displayName": "Moritz Waldleben",
      "photoUrl": "",
      "userId": "09098551526927023625"
     },
     "user_tz": -120
    },
    "id": "bcAEaGEZSpNz",
    "outputId": "0c002540-5bbc-46c1-9adb-837433b46573"
   },
   "outputs": [],
   "source": [
    "opt = keras.optimizers.Adam(learning_rate=0.01)\n",
    "model.compile(optimizer=opt, loss='categorical_crossentropy',  metrics=['acc'])"
   ]
  },
  {
   "cell_type": "markdown",
   "metadata": {
    "id": "utFml4PCSpN0"
   },
   "source": [
    "## Train the Model\n",
    "Now it's time to feed training data into our model. This is where a powerful CPU or even a GPU is recommended for this task."
   ]
  },
  {
   "cell_type": "code",
   "execution_count": 25,
   "metadata": {
    "executionInfo": {
     "elapsed": 298,
     "status": "ok",
     "timestamp": 1622629970642,
     "user": {
      "displayName": "Moritz Waldleben",
      "photoUrl": "",
      "userId": "09098551526927023625"
     },
     "user_tz": -120
    },
    "id": "6SKCOk-sSpN0"
   },
   "outputs": [],
   "source": [
    "# Reshape features to include channel\n",
    "x_train_r = x_train.reshape(x_train.shape[0], 30, 32, 1)\n",
    "x_val_r = x_val.reshape(x_val.shape[0], 30, 32, 1)\n",
    "x_test_r = x_test.reshape(x_test.shape[0], 30, 32, 1)"
   ]
  },
  {
   "cell_type": "code",
   "execution_count": 27,
   "metadata": {
    "colab": {
     "base_uri": "https://localhost:8080/"
    },
    "executionInfo": {
     "elapsed": 156425,
     "status": "ok",
     "timestamp": 1622564163167,
     "user": {
      "displayName": "Moritz Waldleben",
      "photoUrl": "",
      "userId": "09098551526927023625"
     },
     "user_tz": -120
    },
    "id": "ByUY6HpjSpN1",
    "outputId": "7d838b62-fc25-43ec-b18d-b2c675185fae",
    "scrolled": true
   },
   "outputs": [
    {
     "name": "stdout",
     "output_type": "stream",
     "text": [
      "Epoch 1/20\n",
      "21/21 - 2s - loss: 0.0010 - acc: 1.0000 - val_loss: 0.0044 - val_acc: 0.9985\n",
      "Epoch 2/20\n",
      "21/21 - 2s - loss: 8.6667e-04 - acc: 1.0000 - val_loss: 0.0042 - val_acc: 0.9985\n",
      "Epoch 3/20\n",
      "21/21 - 2s - loss: 7.5983e-04 - acc: 1.0000 - val_loss: 0.0042 - val_acc: 0.9985\n",
      "Epoch 4/20\n",
      "21/21 - 2s - loss: 6.7327e-04 - acc: 1.0000 - val_loss: 0.0040 - val_acc: 0.9985\n",
      "Epoch 5/20\n",
      "21/21 - 2s - loss: 6.7562e-04 - acc: 1.0000 - val_loss: 0.0039 - val_acc: 0.9985\n",
      "Epoch 6/20\n",
      "21/21 - 2s - loss: 7.3324e-04 - acc: 1.0000 - val_loss: 0.0041 - val_acc: 0.9985\n",
      "Epoch 7/20\n",
      "21/21 - 2s - loss: 5.9014e-04 - acc: 1.0000 - val_loss: 0.0038 - val_acc: 0.9988\n",
      "Epoch 8/20\n",
      "21/21 - 2s - loss: 4.9810e-04 - acc: 1.0000 - val_loss: 0.0040 - val_acc: 0.9985\n",
      "Epoch 9/20\n",
      "21/21 - 2s - loss: 4.2548e-04 - acc: 1.0000 - val_loss: 0.0036 - val_acc: 0.9988\n",
      "Epoch 10/20\n",
      "21/21 - 2s - loss: 4.1655e-04 - acc: 1.0000 - val_loss: 0.0039 - val_acc: 0.9988\n",
      "Epoch 11/20\n",
      "21/21 - 2s - loss: 3.8889e-04 - acc: 1.0000 - val_loss: 0.0038 - val_acc: 0.9991\n",
      "Epoch 12/20\n",
      "21/21 - 2s - loss: 3.4829e-04 - acc: 1.0000 - val_loss: 0.0035 - val_acc: 0.9988\n",
      "Epoch 13/20\n",
      "21/21 - 2s - loss: 3.5837e-04 - acc: 1.0000 - val_loss: 0.0039 - val_acc: 0.9985\n",
      "Epoch 14/20\n",
      "21/21 - 2s - loss: 3.3200e-04 - acc: 1.0000 - val_loss: 0.0037 - val_acc: 0.9988\n",
      "Epoch 15/20\n",
      "21/21 - 2s - loss: 3.0316e-04 - acc: 1.0000 - val_loss: 0.0038 - val_acc: 0.9988\n",
      "Epoch 16/20\n",
      "21/21 - 2s - loss: 2.7310e-04 - acc: 1.0000 - val_loss: 0.0038 - val_acc: 0.9991\n",
      "Epoch 17/20\n",
      "21/21 - 2s - loss: 2.6432e-04 - acc: 1.0000 - val_loss: 0.0040 - val_acc: 0.9988\n",
      "Epoch 18/20\n",
      "21/21 - 2s - loss: 2.6894e-04 - acc: 1.0000 - val_loss: 0.0036 - val_acc: 0.9988\n",
      "Epoch 19/20\n",
      "21/21 - 2s - loss: 2.4418e-04 - acc: 1.0000 - val_loss: 0.0035 - val_acc: 0.9991\n",
      "Epoch 20/20\n",
      "21/21 - 2s - loss: 2.2080e-04 - acc: 1.0000 - val_loss: 0.0035 - val_acc: 0.9991\n"
     ]
    }
   ],
   "source": [
    "# Train the model\n",
    "history = model.fit(x_train_r, y_train, validation_data=(x_val_r, y_val),\n",
    "                    batch_size=500, epochs=20, verbose=2)"
   ]
  },
  {
   "cell_type": "code",
   "execution_count": 28,
   "metadata": {
    "colab": {
     "base_uri": "https://localhost:8080/",
     "height": 296
    },
    "executionInfo": {
     "elapsed": 358,
     "status": "ok",
     "timestamp": 1622564183139,
     "user": {
      "displayName": "Moritz Waldleben",
      "photoUrl": "",
      "userId": "09098551526927023625"
     },
     "user_tz": -120
    },
    "id": "WynuMF65SpN2",
    "outputId": "22f6c405-ded0-4072-f1d9-d2fae18967fa"
   },
   "outputs": [
    {
     "data": {
      "text/plain": [
       "<matplotlib.legend.Legend at 0x7fcfc1505b10>"
      ]
     },
     "execution_count": 28,
     "metadata": {},
     "output_type": "execute_result"
    },
    {
     "data": {
      "image/png": "[encoded data removed]",
      "text/plain": [
       "<Figure size 432x288 with 1 Axes>"
      ]
     },
     "metadata": {
      "needs_background": "light"
     },
     "output_type": "display_data"
    }
   ],
   "source": [
    "train_loss = history.history['loss']\n",
    "val_loss = history.history['val_loss']\n",
    "\n",
    "plt.figure()\n",
    "plt.clf()\n",
    "plt.xlabel('Epochs')\n",
    "plt.ylabel('Loss')\n",
    "plt.plot(train_loss, color='r', label='training loss')\n",
    "plt.plot(val_loss, color='g', label='validation loss')\n",
    "plt.legend()"
   ]
  },
  {
   "cell_type": "markdown",
   "metadata": {
    "id": "S4aIH6cDSpN3"
   },
   "source": [
    "## Evaluate Accuracy\n",
    "Next, compare how the model performs on the test dataset:"
   ]
  },
  {
   "cell_type": "code",
   "execution_count": 19,
   "metadata": {
    "colab": {
     "base_uri": "https://localhost:8080/"
    },
    "executionInfo": {
     "elapsed": 2257,
     "status": "ok",
     "timestamp": 1622564195573,
     "user": {
      "displayName": "Moritz Waldleben",
      "photoUrl": "",
      "userId": "09098551526927023625"
     },
     "user_tz": -120
    },
    "id": "WXofm6U9SpN4",
    "outputId": "35b0cb35-0715-48fa-8933-f366f46837de"
   },
   "outputs": [
    {
     "name": "stdout",
     "output_type": "stream",
     "text": [
      "Evaluate model:\n",
      "141/141 [==============================] - 1s 6ms/step - loss: 0.0448 - acc: 0.9896\n",
      "[0.04481355845928192, 0.9895555377006531]\n",
      "Test loss: 0.044814\n",
      "Test accuracy: 98.96%\n"
     ]
    }
   ],
   "source": [
    "print('Evaluate model:')\n",
    "results = model.evaluate(x_test_r, y_test)\n",
    "print(results)\n",
    "print('Test loss: {:f}'.format(results[0]))\n",
    "print('Test accuracy: {:.2f}%'.format(results[1] * 100))"
   ]
  },
  {
   "cell_type": "markdown",
   "metadata": {
    "id": "xpFm5KzASpN4"
   },
   "source": [
    "Overfitting is when a machine learning model performs worse on new data than on their training data."
   ]
  },
  {
   "cell_type": "markdown",
   "metadata": {
    "id": "heEwn905SpN5"
   },
   "source": [
    "## Confusion Matrix"
   ]
  },
  {
   "cell_type": "code",
   "execution_count": 20,
   "metadata": {
    "colab": {
     "base_uri": "https://localhost:8080/",
     "height": 303
    },
    "executionInfo": {
     "elapsed": 1858,
     "status": "ok",
     "timestamp": 1622564203469,
     "user": {
      "displayName": "Moritz Waldleben",
      "photoUrl": "",
      "userId": "09098551526927023625"
     },
     "user_tz": -120
    },
    "id": "Joyq3LJmSpN5",
    "outputId": "571c9e34-a7bd-4ce3-cde4-b837282ba9dd"
   },
   "outputs": [
    {
     "name": "stdout",
     "output_type": "stream",
     "text": [
      "Accuracy = 98.96%\n"
     ]
    },
    {
     "data": {
      "text/plain": [
       "<matplotlib.image.AxesImage at 0x7f8540dab290>"
      ]
     },
     "execution_count": 20,
     "metadata": {},
     "output_type": "execute_result"
    },
    {
     "data": {
      "image/png": "[encoded data removed]",
      "text/plain": [
       "<Figure size 432x288 with 1 Axes>"
      ]
     },
     "metadata": {
      "needs_background": "light"
     },
     "output_type": "display_data"
    }
   ],
   "source": [
    "y_pred = model.predict(x_test_r)\n",
    "\n",
    "y_pred_class_nb = np.argmax(y_pred, axis=1)\n",
    "y_true_class_nb = np.argmax(y_test, axis=1)\n",
    "\n",
    "accuracy = accuracy_score(y_true_class_nb, y_pred_class_nb)\n",
    "np.set_printoptions(precision=2)\n",
    "print(\"Accuracy = {:.2f}%\".format(accuracy * 100))\n",
    "\n",
    "cm = confusion_matrix(y_true_class_nb, y_pred_class_nb, labels=[0,1,2])\n",
    "\n",
    "# (optional) normalize to get values in %\n",
    "# cm = cm.astype('float') / cm.sum(axis=1)[:, np.newaxis]\n",
    "\n",
    "# Loop over data dimensions and create text annotations.\n",
    "thresh = cm.max() / 2.\n",
    "for i in range(cm.shape[0]):\n",
    "    for j in range(cm.shape[1]):\n",
    "        plt.text(j, i, format(cm[i, j], 'd'),\n",
    "                ha=\"center\", va=\"center\",\n",
    "                color=\"white\" if cm[i, j] > thresh else \"black\")\n",
    "\n",
    "plt.imshow(cm, cmap=plt.cm.Blues)"
   ]
  },
  {
   "cell_type": "markdown",
   "metadata": {
    "id": "zLO4GMgiSpN6"
   },
   "source": [
    "## Save the model\n",
    "When saving the model in a `.h5` file format, the [X-CUBE-AI](https://www.st.com/en/embedded-software/x-cube-ai.html) tool can import the pre-training model and generate an equivalent C model optmized for STM32 devices. "
   ]
  },
  {
   "cell_type": "code",
   "execution_count": 21,
   "metadata": {
    "id": "4yXQZ3m7SpN7"
   },
   "outputs": [],
   "source": [
    "# Save the model into an HDF5 file ‘model.h5’\n",
    "model.save('wmc2.h5')"
   ]
  },
  {
   "cell_type": "markdown",
   "metadata": {
    "id": "fPWjrZkkSpN7"
   },
   "source": [
    "## (Optional) Convert Model TFlite with Quantization\n",
    "Further optimization can be achived using the TensorFlowLite converter. Model size will be reduced at the cost of accuracy. \n",
    "\n",
    "Ref:\n",
    "- https://www.tensorflow.org/versions/r1.14/api_docs/python/tf/lite/TFLiteConverter\n",
    "- https://www.tensorflow.org/lite/performance/post_training_quantization"
   ]
  },
  {
   "cell_type": "code",
   "execution_count": 22,
   "metadata": {
    "colab": {
     "base_uri": "https://localhost:8080/"
    },
    "executionInfo": {
     "elapsed": 234,
     "status": "ok",
     "timestamp": 1622569131895,
     "user": {
      "displayName": "Moritz Waldleben",
      "photoUrl": "",
      "userId": "09098551526927023625"
     },
     "user_tz": -120
    },
    "id": "7PTQumBlSpN7",
    "outputId": "174ce12d-773c-4507-e170-c69722ba8398"
   },
   "outputs": [
    {
     "data": {
      "text/plain": [
       "(10125, 30, 32, 1)"
      ]
     },
     "execution_count": 22,
     "metadata": {},
     "output_type": "execute_result"
    }
   ],
   "source": [
    "x_train_r.shape"
   ]
  },
  {
   "cell_type": "code",
   "execution_count": 23,
   "metadata": {
    "colab": {
     "base_uri": "https://localhost:8080/"
    },
    "executionInfo": {
     "elapsed": 8294,
     "status": "ok",
     "timestamp": 1622629984402,
     "user": {
      "displayName": "Moritz Waldleben",
      "photoUrl": "",
      "userId": "09098551526927023625"
     },
     "user_tz": -120
    },
    "id": "LXQabSQ_SpN8",
    "outputId": "ee3204d6-1862-4a41-b6dd-d73dc41e8f43"
   },
   "outputs": [
    {
     "name": "stderr",
     "output_type": "stream",
     "text": [
      "/opt/miniconda3/lib/python3.7/site-packages/tensorflow/python/keras/backend.py:434: UserWarning: `tf.keras.backend.set_learning_phase` is deprecated and will be removed after 2020-10-11. To update it, simply pass a True/False value to the `training` argument of the `__call__` method of your layer or model.\n",
      "  warnings.warn('`tf.keras.backend.set_learning_phase` is deprecated and '\n",
      "/opt/miniconda3/lib/python3.7/site-packages/tensorflow/lite/python/lite.py:1158: UserWarning: Property target_ops is deprecated, please use target_spec.supported_ops instead.\n",
      "  \"target_spec.supported_ops instead.\" % name)\n"
     ]
    },
    {
     "name": "stdout",
     "output_type": "stream",
     "text": [
      "INFO:tensorflow:Assets written to: /tmp/tmpjzgxrcnv/assets\n",
      "WARNING:tensorflow:From /opt/miniconda3/lib/python3.7/site-packages/tensorflow/lite/python/convert_saved_model.py:60: load (from tensorflow.python.saved_model.loader_impl) is deprecated and will be removed in a future version.\n",
      "Instructions for updating:\n",
      "This function will only be available through the v1 compatibility library as tf.compat.v1.saved_model.loader.load or tf.compat.v1.saved_model.load. There will be a new function for importing SavedModels in Tensorflow 2.0.\n",
      "INFO:tensorflow:Restoring parameters from /tmp/tmpjzgxrcnv/variables/variables\n",
      "INFO:tensorflow:The given SavedModel MetaGraphDef contains SignatureDefs with the following keys: {'__saved_model_init_op', 'serving_default'}\n",
      "INFO:tensorflow:input tensors info: \n",
      "INFO:tensorflow:Tensor's key in saved_model's tensor_map: conv2d_input\n",
      "INFO:tensorflow: tensor name: serving_default_conv2d_input:0, shape: (-1, 30, 32, 1), type: DT_FLOAT\n",
      "INFO:tensorflow:output tensors info: \n",
      "INFO:tensorflow:Tensor's key in saved_model's tensor_map: dense_1\n",
      "INFO:tensorflow: tensor name: StatefulPartitionedCall:0, shape: (-1, 3), type: DT_FLOAT\n",
      "INFO:tensorflow:Restoring parameters from /tmp/tmpjzgxrcnv/variables/variables\n",
      "WARNING:tensorflow:From /opt/miniconda3/lib/python3.7/site-packages/tensorflow/lite/python/util.py:327: convert_variables_to_constants (from tensorflow.python.framework.graph_util_impl) is deprecated and will be removed in a future version.\n",
      "Instructions for updating:\n",
      "Use `tf.compat.v1.graph_util.convert_variables_to_constants`\n",
      "WARNING:tensorflow:From /opt/miniconda3/lib/python3.7/site-packages/tensorflow/python/framework/convert_to_constants.py:856: extract_sub_graph (from tensorflow.python.framework.graph_util_impl) is deprecated and will be removed in a future version.\n",
      "Instructions for updating:\n",
      "Use `tf.compat.v1.graph_util.extract_sub_graph`\n",
      "TFlite model saved\n"
     ]
    }
   ],
   "source": [
    "def representative_dataset_gen():\n",
    "    for i in range(len(x_train_r)):\n",
    "        yield [x_train_r[i].reshape((1, ) + x_train_r[i].shape)]\n",
    "\n",
    "\n",
    "converter = tf.compat.v1.lite.TFLiteConverter.from_keras_model_file(\"wmc2.h5\" )\n",
    "converter.optimizations = [tf.lite.Optimize.DEFAULT]\n",
    "converter.representative_dataset = representative_dataset_gen\n",
    "converter.target_ops = [tf.lite.OpsSet.TFLITE_BUILTINS_INT8]\n",
    "converter.inference_input_type = tf.int8\n",
    "converter.inference_output_type = tf.int8\n",
    "\n",
    "tflite_model = converter.convert()\n",
    "\n",
    "with open('wmc2.tflite','wb') as f:\n",
    "    f.write(tflite_model)\n",
    "    print(\"TFlite model saved\")"
   ]
  },
  {
   "cell_type": "markdown",
   "metadata": {
    "id": "rPRRT7S_SpN8"
   },
   "source": [
    "## References\n",
    "- https://www.tensorflow.org/tutorials/keras/basic_classification\n",
    "- https://www.tensorflow.org/tutorials/keras/basic_text_classification\n",
    "- https://www.tensorflow.org/tutorials/sequences/audio_recognition"
   ]
  }
 ],
 "metadata": {
  "colab": {
   "name": "acoustic_scene_classification512.ipynb",
   "provenance": [],
   "toc_visible": true
  },
  "file_extension": ".py",
  "kernelspec": {
   "display_name": "Python 3",
   "language": "python",
   "name": "python3"
  },
  "language_info": {
   "codemirror_mode": {
    "name": "ipython",
    "version": 3
   },
   "file_extension": ".py",
   "mimetype": "text/x-python",
   "name": "python",
   "nbconvert_exporter": "python",
   "pygments_lexer": "ipython3",
   "version": "3.7.10"
  },
  "mimetype": "text/x-python",
  "name": "python",
  "npconvert_exporter": "python",
  "pygments_lexer": "ipython3",
  "version": 3
 },
 "nbformat": 4,
 "nbformat_minor": 1
}
