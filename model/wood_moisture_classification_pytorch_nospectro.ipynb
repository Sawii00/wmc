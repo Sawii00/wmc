{
 "cells": [
  {
   "cell_type": "markdown",
   "metadata": {},
   "source": [
    "# Wood moisture classification (wmc) model creation pipeline"
   ]
  },
  {
   "cell_type": "markdown",
   "metadata": {},
   "source": [
    "The following code is adapted from the FP-AI-SENSING1 application of ST microelectronics"
   ]
  },
  {
   "cell_type": "code",
   "execution_count": 1,
   "metadata": {
    "executionInfo": {
     "elapsed": 4406,
     "status": "ok",
     "timestamp": 1622629793582,
     "user": {
      "displayName": "Moritz Waldleben",
      "photoUrl": "",
      "userId": "09098551526927023625"
     },
     "user_tz": -120
    },
    "id": "swA6t4wgSpNa"
   },
   "outputs": [],
   "source": [
    "import numpy as np\n",
    "import os\n",
    "from tqdm import tqdm\n",
    "import librosa\n",
    "import librosa.display\n",
    "import librosa.util\n",
    "#from IPython.display import Audio\n",
    "import matplotlib.pyplot as plt\n",
    "from sklearn import preprocessing\n",
    "from sklearn.metrics import confusion_matrix\n",
    "from sklearn.metrics import accuracy_score\n",
    "from sklearn.model_selection import train_test_split\n",
    "#import tensorflow as tf\n",
    "#import keras.utils\n",
    "#from keras import layers\n",
    "#from keras import models\n",
    "#from keras import optimizers\n",
    "from pickle import dump\n",
    "import random\n",
    "\n",
    "\n",
    "import torch\n",
    "import torch.utils"
   ]
  },
  {
   "cell_type": "code",
   "execution_count": 76,
   "metadata": {
    "colab": {
     "base_uri": "https://localhost:8080/"
    },
    "executionInfo": {
     "elapsed": 295,
     "status": "ok",
     "timestamp": 1622629798189,
     "user": {
      "displayName": "Moritz Waldleben",
      "photoUrl": "",
      "userId": "09098551526927023625"
     },
     "user_tz": -120
    },
    "id": "hJV-tuxQSpNd",
    "outputId": "21734d6b-14ca-46dc-fac1-2fe806b72d1f",
    "scrolled": true
   },
   "outputs": [
    {
     "name": "stdout",
     "output_type": "stream",
     "text": [
      "Librosa: 0.9.2\n"
     ]
    }
   ],
   "source": [
    "# Current version (for reproduction)\n",
    "#print(\"TensorFlow:\", tf.__version__)\n",
    "#print(\"Keras:\", keras.__version__)\n",
    "print(\"Librosa:\", librosa.__version__)"
   ]
  },
  {
   "cell_type": "markdown",
   "metadata": {},
   "source": [
    "## Global settings\n",
    "__Important:__ These settings have to match the ones in the STM32 application."
   ]
  },
  {
   "cell_type": "code",
   "execution_count": 2,
   "metadata": {},
   "outputs": [],
   "source": [
    "AUDIO_SAMPLING_FREQUENCY = 48000 # kHz \n",
    "NB_FRAMES = 32 # How many columns for the short time fourier transformation\n",
    "NB_BINS = 30 # Resolution (bins) of one STFT column\n",
    "HOP_LENGTH = 512 # Jumps between FFT frames\n",
    "WINDOW_SIZE = HOP_LENGTH*NB_FRAMES + HOP_LENGTH # For one spectrogram column 1024 samples are needed\n",
    "NB_WINDOWS = 100 # Total number of windwo recorded in one WAV file\n",
    "FRAME_SIZE = 1024 # Size for one FFT\n",
    "FREQ_MIN = 5000 # Lowest bin for the columns\n",
    "TOP_DB = 80 # Cut off of DBs"
   ]
  },
  {
   "cell_type": "markdown",
   "metadata": {
    "id": "NbcriJ54SpNe"
   },
   "source": [
    "## 1. Import and convert the data\n",
    "Load the files from the data directory. The labels for the files are specified in model/dataset/labels.txt."
   ]
  },
  {
   "cell_type": "code",
   "execution_count": 36,
   "metadata": {
    "colab": {
     "base_uri": "https://localhost:8080/"
    },
    "executionInfo": {
     "elapsed": 8263,
     "status": "ok",
     "timestamp": 1622629865632,
     "user": {
      "displayName": "Moritz Waldleben",
      "photoUrl": "",
      "userId": "09098551526927023625"
     },
     "user_tz": -120
    },
    "id": "MavxVlcfSpNf",
    "outputId": "e41d3511-2053-4e9c-bec1-5dd0dc2b2263",
    "scrolled": true
   },
   "outputs": [
    {
     "name": "stderr",
     "output_type": "stream",
     "text": [
      "100%|██████████| 18/18 [00:01<00:00, 13.76it/s]\n"
     ]
    }
   ],
   "source": [
    "dataset_dir = './dataset'\n",
    "fileset_path = path = os.path.join(dataset_dir, 'labels.txt')\n",
    "fileset = np.loadtxt(fileset_path, dtype=str)\n",
    "\n",
    "# 3 classes : 0 dry, 1 semiwet, 2 wet\n",
    "class_names = ['dry', 'semiwet', 'wet']\n",
    "labels = {\n",
    "    'dry' : 0,\n",
    "    'semiwet' : 1,\n",
    "    'wet' : 2,\n",
    "}\n",
    "\n",
    "\n",
    "# x is a list of the recordings and y is a list of the respective labels (targets)\n",
    "x = []\n",
    "y = []\n",
    "\n",
    "# Iteratate over all recordings defined in labels.txt\n",
    "for file in tqdm(fileset):\n",
    "    file_path, file_label = file\n",
    "    file_path = os.path.join(dataset_dir, file_path)\n",
    "    \n",
    "    signal, _ = librosa.load(file_path, sr=AUDIO_SAMPLING_FREQUENCY, mono=True, dtype=np.float32)   \n",
    "    # Cut off total samples because recording takes a bit more samples\n",
    "    signal = signal[0:NB_WINDOWS*WINDOW_SIZE]\n",
    "    \n",
    "    label = labels[file_label]\n",
    "    \n",
    "    x.append(signal)\n",
    "    y.append(label)"
   ]
  },
  {
   "cell_type": "code",
   "execution_count": 79,
   "metadata": {
    "colab": {
     "base_uri": "https://localhost:8080/",
     "height": 244
    },
    "executionInfo": {
     "elapsed": 24,
     "status": "ok",
     "timestamp": 1622629865634,
     "user": {
      "displayName": "Moritz Waldleben",
      "photoUrl": "",
      "userId": "09098551526927023625"
     },
     "user_tz": -120
    },
    "id": "hFdOVcrrSpNg",
    "outputId": "c9c54745-a65d-4f8c-e36b-7348866fcfd1"
   },
   "outputs": [
    {
     "ename": "AttributeError",
     "evalue": "module 'librosa.display' has no attribute 'waveplot'",
     "output_type": "error",
     "traceback": [
      "\u001b[1;31m---------------------------------------------------------------------------\u001b[0m",
      "\u001b[1;31mAttributeError\u001b[0m                            Traceback (most recent call last)",
      "\u001b[1;32md:\\EPFL\\wmc\\model\\wood_moisture_classification_pytorch.ipynb Cell 9\u001b[0m in \u001b[0;36m<cell line: 8>\u001b[1;34m()\u001b[0m\n\u001b[0;32m      <a href='vscode-notebook-cell:/d%3A/EPFL/wmc/model/wood_moisture_classification_pytorch.ipynb#ch0000008?line=5'>6</a>\u001b[0m plt\u001b[39m.\u001b[39mfigure(figsize\u001b[39m=\u001b[39m(\u001b[39m12\u001b[39m, \u001b[39m2\u001b[39m))\n\u001b[0;32m      <a href='vscode-notebook-cell:/d%3A/EPFL/wmc/model/wood_moisture_classification_pytorch.ipynb#ch0000008?line=6'>7</a>\u001b[0m plt\u001b[39m.\u001b[39mtitle(class_names[y[\u001b[39m1\u001b[39m]])\n\u001b[1;32m----> <a href='vscode-notebook-cell:/d%3A/EPFL/wmc/model/wood_moisture_classification_pytorch.ipynb#ch0000008?line=7'>8</a>\u001b[0m librosa\u001b[39m.\u001b[39;49mdisplay\u001b[39m.\u001b[39;49mwaveplot(window, sr\u001b[39m=\u001b[39mAUDIO_SAMPLING_FREQUENCY)\n\u001b[0;32m      <a href='vscode-notebook-cell:/d%3A/EPFL/wmc/model/wood_moisture_classification_pytorch.ipynb#ch0000008?line=8'>9</a>\u001b[0m Audio(window, rate\u001b[39m=\u001b[39mAUDIO_SAMPLING_FREQUENCY)\n",
      "\u001b[1;31mAttributeError\u001b[0m: module 'librosa.display' has no attribute 'waveplot'"
     ]
    },
    {
     "data": {
      "image/png": "[encoded data removed]",
      "text/plain": [
       "<Figure size 864x144 with 1 Axes>"
      ]
     },
     "metadata": {
      "needs_background": "light"
     },
     "output_type": "display_data"
    }
   ],
   "source": [
    "# Check a random sample of first recording\n",
    "rand = random.randint(0, NB_FRAMES)\n",
    "recording1 = x[1]\n",
    "window = recording1[WINDOW_SIZE*rand:WINDOW_SIZE*(rand+1)]\n",
    "\n",
    "plt.figure(figsize=(12, 2))\n",
    "plt.title(class_names[y[1]])\n",
    "librosa.display.waveplot(window, sr=AUDIO_SAMPLING_FREQUENCY)\n",
    "Audio(window, rate=AUDIO_SAMPLING_FREQUENCY)"
   ]
  },
  {
   "cell_type": "markdown",
   "metadata": {
    "id": "zDf566vISpNi"
   },
   "source": [
    "## 2. Prepare the data"
   ]
  },
  {
   "cell_type": "markdown",
   "metadata": {
    "id": "aNYSxUQmSpNj"
   },
   "source": [
    "### 2.1 Slice data into windows\n",
    "Each audio recording (WAV file) contains the specified number of windows (NB_WINDOWS).\n",
    "\n",
    "Each window will contain 16,896 samples (32 * 512 + 512) to create a 32 column spectrogram with FRAME_SIZE=1024 and HOP_LENGTH=512."
   ]
  },
  {
   "cell_type": "code",
   "execution_count": 37,
   "metadata": {
    "colab": {
     "base_uri": "https://localhost:8080/"
    },
    "executionInfo": {
     "elapsed": 433,
     "status": "ok",
     "timestamp": 1622629866056,
     "user": {
      "displayName": "Moritz Waldleben",
      "photoUrl": "",
      "userId": "09098551526927023625"
     },
     "user_tz": -120
    },
    "id": "S6P_OY1_SpNj",
    "outputId": "e64ca577-9a3a-4181-edaf-b6399fd1a521"
   },
   "outputs": [
    {
     "name": "stdout",
     "output_type": "stream",
     "text": [
      "x_windows shape:  (1800, 16896)\n",
      "y_windows shape:  (1800,)\n"
     ]
    }
   ],
   "source": [
    "# Each window will now be an entry in the list\n",
    "x_windows = []\n",
    "y_windows = []\n",
    "\n",
    "# Iteratate over all recordings and create windows\n",
    "for i in range(len(x)):\n",
    "    x_tmp = np.asarray(x[i])    \n",
    "    for k  in range(NB_WINDOWS):\n",
    "        window = x_tmp[k*WINDOW_SIZE:(k+1)*WINDOW_SIZE]\n",
    "        x_windows.append(np.transpose(window)) \n",
    "    y_windows.append(np.full(NB_WINDOWS, y[i]))\n",
    "    \n",
    "# Convert into numpy arrays\n",
    "x_windows = np.asarray(x_windows)\n",
    "y_windows = np.asarray(y_windows)\n",
    "\n",
    "# Reshape labels \n",
    "y_windows = y_windows.reshape(y_windows.shape[0]*y_windows.shape[1], )\n",
    "\n",
    "print(\"x_windows shape: \", x_windows.shape) # Each window of 16,896 samples can be used to create a spectrogram \n",
    "print(\"y_windows shape: \", y_windows.shape) # Corresponding label for each window\n"
   ]
  },
  {
   "cell_type": "code",
   "execution_count": null,
   "metadata": {},
   "outputs": [],
   "source": []
  },
  {
   "cell_type": "markdown",
   "metadata": {
    "id": "BIltb4zKSpNt"
   },
   "source": [
    "### 2.3 Standardize features\n",
    "Standardize features by removing the mean and scaling to unit variance. Save the feature scalers to model/standardize."
   ]
  },
  {
   "cell_type": "code",
   "execution_count": 38,
   "metadata": {
    "colab": {
     "base_uri": "https://localhost:8080/"
    },
    "executionInfo": {
     "elapsed": 335,
     "status": "ok",
     "timestamp": 1622629919232,
     "user": {
      "displayName": "Moritz Waldleben",
      "photoUrl": "",
      "userId": "09098551526927023625"
     },
     "user_tz": -120
    },
    "id": "6ErZd1-9SpNu",
    "outputId": "6f9f92a8-b462-4145-9663-584396bb74f9"
   },
   "outputs": [],
   "source": [
    "'''# Flatten features for scaling\n",
    "x_features_r = np.reshape(x_features, (len(x_features), NB_BINS * NB_FRAMES))\n",
    "\n",
    "# Create a feature scaler\n",
    "scaler = preprocessing.StandardScaler().fit(x_features_r)\n",
    "mean = scaler.mean_\n",
    "std = scaler.scale_\n",
    "\n",
    "#  Save feature scaler\n",
    "standardize_dir = './standardize/'\n",
    "np.savetxt(standardize_dir + 'mean.csv', mean.reshape(240, 4),  fmt='%.10e', delimiter=\",\", newline=\",\\n\")\n",
    "np.savetxt(standardize_dir + 'std.csv', std.reshape(240, 4),  fmt='%.10e', delimiter=\",\", newline=\",\\n\")\n",
    "dump(scaler, open(standardize_dir + 'scaler.pkl', 'wb'))\n",
    "\n",
    "# Apply the feature scaler \n",
    "x_features_s = scaler.transform(x_features_r)\n",
    "\n",
    "print(\"x_features_s shape: \", x_features_s.shape)\n",
    "'''\n",
    "\n",
    "x_features_s = (x_windows - x_windows.mean()) / x_windows.std()\n",
    "\n",
    "#x_features_s = x_windows\n",
    "y_features = y_windows"
   ]
  },
  {
   "cell_type": "markdown",
   "metadata": {
    "id": "EmknsxPHSpNu"
   },
   "source": [
    "### 2.4 One hot encoding of labels\n",
    "Keras requires one hot encoded labels."
   ]
  },
  {
   "cell_type": "code",
   "execution_count": 39,
   "metadata": {},
   "outputs": [],
   "source": [
    "def to_categorical(x, n_classes):\n",
    "    return np.eye(n_classes, dtype='uint8')[x] "
   ]
  },
  {
   "cell_type": "code",
   "execution_count": 40,
   "metadata": {
    "colab": {
     "base_uri": "https://localhost:8080/"
    },
    "executionInfo": {
     "elapsed": 15,
     "status": "ok",
     "timestamp": 1622629919233,
     "user": {
      "displayName": "Moritz Waldleben",
      "photoUrl": "",
      "userId": "09098551526927023625"
     },
     "user_tz": -120
    },
    "id": "kKRdZqVkSpNv",
    "outputId": "974a2d8b-4087-49c3-8de8-5cf4b0a84c57"
   },
   "outputs": [
    {
     "name": "stdout",
     "output_type": "stream",
     "text": [
      "The shape of the one-hot encoded labels np array is:  (1800, 3)\n"
     ]
    }
   ],
   "source": [
    "# Convert labels to categorical one-hot encoding\n",
    "y_features_hot = to_categorical(y_features, n_classes=len(class_names))\n",
    "\n",
    "print('The shape of the one-hot encoded labels np array is: ' , y_features_hot.shape)"
   ]
  },
  {
   "cell_type": "markdown",
   "metadata": {},
   "source": [
    "### 2.5 Split data into training, validation and test\n",
    "Use 25% for testing. The remaining 75% of the features are split in 25% for validation and 75% for training."
   ]
  },
  {
   "cell_type": "code",
   "execution_count": 47,
   "metadata": {
    "colab": {
     "base_uri": "https://localhost:8080/"
    },
    "executionInfo": {
     "elapsed": 12,
     "status": "ok",
     "timestamp": 1622629919234,
     "user": {
      "displayName": "Moritz Waldleben",
      "photoUrl": "",
      "userId": "09098551526927023625"
     },
     "user_tz": -120
    },
    "id": "PAMVbvRQSpNw",
    "outputId": "b145e5de-845c-4807-c8c0-bcfb6763fdce"
   },
   "outputs": [
    {
     "name": "stdout",
     "output_type": "stream",
     "text": [
      "Training samples: (1012, 16896)\n",
      "Validation samples: (338, 16896)\n",
      "Test samples: (450, 16896)\n"
     ]
    }
   ],
   "source": [
    "#x_train, x_test, y_train, y_test = torch.utils.data.random_split(full_dataset, [train_size, test_size])\n",
    "x_train, x_test, y_train, y_test = train_test_split(x_features_s,\n",
    "                                                    y_features_hot,\n",
    "                                                    test_size=0.25,\n",
    "                                                    random_state=1)\n",
    "x_train, x_val, y_train, y_val = train_test_split(x_train,\n",
    "                                                  y_train,\n",
    "                                                  test_size=0.25,\n",
    "                                                  random_state=1)\n",
    "\n",
    "print('Training samples:', x_train.shape)\n",
    "print('Validation samples:', x_val.shape)\n",
    "print('Test samples:', x_test.shape)"
   ]
  },
  {
   "cell_type": "markdown",
   "metadata": {
    "id": "nnT3zHH5SpNw"
   },
   "source": [
    "### 2.6 (Optional) Save the features\n",
    "Save the features to a csv file in a format X-CUBE-AI can understand, that is, for each tensor, the values are in a flattened vector."
   ]
  },
  {
   "cell_type": "code",
   "execution_count": null,
   "metadata": {
    "colab": {
     "base_uri": "https://localhost:8080/",
     "height": 389
    },
    "executionInfo": {
     "elapsed": 208,
     "status": "error",
     "timestamp": 1622584291876,
     "user": {
      "displayName": "Moritz Waldleben",
      "photoUrl": "",
      "userId": "09098551526927023625"
     },
     "user_tz": -120
    },
    "id": "K6u0gusVSpNx",
    "outputId": "153eb835-a2e9-49bd-9b0d-33369a50d905"
   },
   "outputs": [],
   "source": [
    "#val_dir = './validation/'\n",
    "#np.savetxt(val_dir + 'x_train.csv', x_train.reshape(len(x_train), n_mels*n_stft_columns), delimiter=\",\")\n",
    "#np.savetxt(val_dir + 'y_train.csv', y_train, delimiter=\",\")\n",
    "#np.savetxt(val_dir + 'x_val.csv', x_val.reshape(len(x_val), n_mels*n_stft_columns), delimiter=\",\")\n",
    "#np.savetxt(val_dir + 'y_val.csv', y_val, delimiter=\",\")\n",
    "#np.savetxt(val_dir + 'x_test.csv', x_test.reshape(len(x_test), n_mels*n_stft_columns), delimiter=\",\")\n",
    "#np.savetxt(val_dir + 'y_test.csv', y_test, delimiter=\",\")"
   ]
  },
  {
   "cell_type": "markdown",
   "metadata": {
    "id": "1JXA_9ioSpNx"
   },
   "source": [
    "## 3 Model"
   ]
  },
  {
   "cell_type": "markdown",
   "metadata": {},
   "source": [
    "### 3.1 Create and compile model\n",
    "Build a sequential convolutional network classifier model"
   ]
  },
  {
   "cell_type": "code",
   "execution_count": 42,
   "metadata": {},
   "outputs": [],
   "source": [
    "def count_parameters(model): return sum(p.numel() for p in model.parameters() if p.requires_grad)"
   ]
  },
  {
   "cell_type": "code",
   "execution_count": 59,
   "metadata": {
    "colab": {
     "base_uri": "https://localhost:8080/"
    },
    "executionInfo": {
     "elapsed": 230,
     "status": "ok",
     "timestamp": 1622584300588,
     "user": {
      "displayName": "Moritz Waldleben",
      "photoUrl": "",
      "userId": "09098551526927023625"
     },
     "user_tz": -120
    },
    "id": "QTrT-JYcSpNy",
    "outputId": "95c4395a-4b2a-46fe-d99b-0b17569df70c"
   },
   "outputs": [
    {
     "name": "stdout",
     "output_type": "stream",
     "text": [
      "13751\n"
     ]
    }
   ],
   "source": [
    "KERNEL_SIZE = 64\n",
    "POOL_FACT = 2\n",
    "STRIDE_FACT = KERNEL_SIZE // 4\n",
    "CHANNEL_COUNT = 16\n",
    "use_avg_pool = True\n",
    "model = torch.nn.Sequential() #1x16896\n",
    "output_dim = 16896\n",
    "model.append(torch.nn.Conv1d(in_channels = 1, out_channels = CHANNEL_COUNT, kernel_size = KERNEL_SIZE, stride=STRIDE_FACT)) #16x16896 - 512 + 1 \n",
    "output_dim = (output_dim - KERNEL_SIZE) // STRIDE_FACT + 1\n",
    "model.append(torch.nn.ReLU()) \n",
    "if use_avg_pool:\n",
    "    model.append(torch.nn.AvgPool1d(POOL_FACT))\n",
    "else:\n",
    "    model.append(torch.nn.MaxPool1d(POOL_FACT)) #16x8192\n",
    "output_dim /= POOL_FACT\n",
    "model.append(torch.nn.Conv1d(in_channels = CHANNEL_COUNT, out_channels=CHANNEL_COUNT, kernel_size=KERNEL_SIZE // 2, stride=STRIDE_FACT // 2)) #16x7681\n",
    "output_dim = (output_dim - KERNEL_SIZE // 2) // (STRIDE_FACT // 2)+ 1\n",
    "model.append(torch.nn.ReLU())\n",
    "if use_avg_pool:\n",
    "    model.append(torch.nn.AvgPool1d(POOL_FACT))\n",
    "else:\n",
    "    model.append(torch.nn.MaxPool1d(POOL_FACT)) #16x8192\n",
    "output_dim /= POOL_FACT\n",
    "model.append(torch.nn.Flatten())\n",
    "model.append(torch.nn.Linear(in_features = int(output_dim) * CHANNEL_COUNT, out_features = 9))\n",
    "model.append(torch.nn.ReLU())\n",
    "model.append(torch.nn.Linear(in_features = 9, out_features = 3))\n",
    "#model.append(torch.nn.Softmax(-1))\n",
    "\n",
    "# Print model summary\n",
    "#model.summary()\n",
    "print(count_parameters(model))\n",
    "\n",
    "opt = torch.optim.Adam(params=model.parameters(), lr=0.01)\n",
    "criterion = torch.nn.CrossEntropyLoss()"
   ]
  },
  {
   "cell_type": "markdown",
   "metadata": {
    "id": "utFml4PCSpN0"
   },
   "source": [
    "###  3.2 Train the model"
   ]
  },
  {
   "cell_type": "code",
   "execution_count": 60,
   "metadata": {
    "executionInfo": {
     "elapsed": 298,
     "status": "ok",
     "timestamp": 1622629970642,
     "user": {
      "displayName": "Moritz Waldleben",
      "photoUrl": "",
      "userId": "09098551526927023625"
     },
     "user_tz": -120
    },
    "id": "6SKCOk-sSpN0"
   },
   "outputs": [
    {
     "name": "stdout",
     "output_type": "stream",
     "text": [
      "(1012, 1, 16896)\n",
      "(338, 1, 16896)\n",
      "(450, 1, 16896)\n"
     ]
    }
   ],
   "source": [
    "# NOTE: pytorch expects channel as second dimension\n",
    "x_train_r = x_train.reshape(x_train.shape[0], 1, -1)\n",
    "print(x_train_r.shape)\n",
    "x_val_r = x_val.reshape(x_val.shape[0], 1, -1)\n",
    "print(x_val_r.shape)\n",
    "x_test_r = x_test.reshape(x_test.shape[0], 1, -1)\n",
    "print(x_test_r.shape)"
   ]
  },
  {
   "cell_type": "code",
   "execution_count": 50,
   "metadata": {},
   "outputs": [],
   "source": [
    "def validate(model, criterion, val_input, val_target, device=\"cpu\"):\n",
    "    output = model(val_input.float().to(device))\n",
    "    loss = criterion(output, val_target.float().to(device))\n",
    "    return loss.item()\n",
    "\n",
    "\n",
    "def train(model, criterion, optimizer, train_input, train_target, val_input, val_target, num_epochs, mini_batch_size, device=\"cpu\"):\n",
    "    train_input, train_target = train_input.float().to(device), train_target.float().to(device)\n",
    "    loss_history = {\"train_loss\":[], \"val_loss\":[]}\n",
    "    for e in range(num_epochs):\n",
    "        print(f\"Epoch: {e}\")\n",
    "        avg_loss = 0\n",
    "        for b in range(0, train_input.size(0), mini_batch_size):\n",
    "            output = model(train_input.narrow(0, b, mini_batch_size).float().to(device))\n",
    "            loss = criterion(output, train_target.narrow(0, b, mini_batch_size).float().to(device))\n",
    "            avg_loss += loss.item()\n",
    "            optimizer.zero_grad()\n",
    "            loss.backward()\n",
    "            optimizer.step()\n",
    "        with torch.no_grad():\n",
    "            validate_loss = validate(model, criterion, val_input, val_target)\n",
    "        avg_loss /= (train_input.size(0) // mini_batch_size)\n",
    "        loss_history[\"train_loss\"].append(avg_loss)\n",
    "        loss_history[\"val_loss\"].append(validate_loss)\n",
    "        print(\"Train Loss:\", avg_loss)\n",
    "        print(\"Val Loss:\", validate_loss)\n",
    "    return loss_history"
   ]
  },
  {
   "cell_type": "code",
   "execution_count": 61,
   "metadata": {},
   "outputs": [
    {
     "data": {
      "text/plain": [
       "<All keys matched successfully>"
      ]
     },
     "execution_count": 61,
     "metadata": {},
     "output_type": "execute_result"
    }
   ],
   "source": [
    "# Load a pre-trained model\n",
    "model.load_state_dict(torch.load(\"wmc_new.pth\"))"
   ]
  },
  {
   "cell_type": "code",
   "execution_count": 54,
   "metadata": {
    "colab": {
     "base_uri": "https://localhost:8080/"
    },
    "executionInfo": {
     "elapsed": 156425,
     "status": "ok",
     "timestamp": 1622564163167,
     "user": {
      "displayName": "Moritz Waldleben",
      "photoUrl": "",
      "userId": "09098551526927023625"
     },
     "user_tz": -120
    },
    "id": "ByUY6HpjSpN1",
    "outputId": "7d838b62-fc25-43ec-b18d-b2c675185fae",
    "scrolled": true
   },
   "outputs": [
    {
     "name": "stdout",
     "output_type": "stream",
     "text": [
      "Epoch: 0\n",
      "Train Loss: 0.030225080205127597\n",
      "Val Loss: 0.045583974570035934\n",
      "Epoch: 1\n",
      "Train Loss: 0.025196765083819628\n",
      "Val Loss: 0.04077333211898804\n",
      "Epoch: 2\n",
      "Train Loss: 0.02290148800238967\n",
      "Val Loss: 0.04086088016629219\n",
      "Epoch: 3\n",
      "Train Loss: 0.019149568397551775\n",
      "Val Loss: 0.035892583429813385\n",
      "Epoch: 4\n",
      "Train Loss: 0.017064259853214025\n",
      "Val Loss: 0.03842694312334061\n",
      "Epoch: 5\n",
      "Train Loss: 0.014611436170525849\n",
      "Val Loss: 0.03318308666348457\n",
      "Epoch: 6\n",
      "Train Loss: 0.012947011273354292\n",
      "Val Loss: 0.03570898249745369\n",
      "Epoch: 7\n",
      "Train Loss: 0.01115629484411329\n",
      "Val Loss: 0.03192916139960289\n",
      "Epoch: 8\n",
      "Train Loss: 0.009921638062223792\n",
      "Val Loss: 0.03400696441531181\n",
      "Epoch: 9\n",
      "Train Loss: 0.00860888441093266\n",
      "Val Loss: 0.03263142332434654\n"
     ]
    }
   ],
   "source": [
    "# Train\n",
    "history = train(model, criterion, opt, torch.Tensor(x_train_r), torch.Tensor(y_train), torch.Tensor(x_val_r), torch.Tensor(y_val), num_epochs=10, mini_batch_size=x_train_r.shape[0] // 4)"
   ]
  },
  {
   "cell_type": "code",
   "execution_count": 58,
   "metadata": {
    "colab": {
     "base_uri": "https://localhost:8080/",
     "height": 296
    },
    "executionInfo": {
     "elapsed": 358,
     "status": "ok",
     "timestamp": 1622564183139,
     "user": {
      "displayName": "Moritz Waldleben",
      "photoUrl": "",
      "userId": "09098551526927023625"
     },
     "user_tz": -120
    },
    "id": "WynuMF65SpN2",
    "outputId": "22f6c405-ded0-4072-f1d9-d2fae18967fa"
   },
   "outputs": [
    {
     "data": {
      "text/plain": [
       "<matplotlib.legend.Legend at 0x18f926e0130>"
      ]
     },
     "execution_count": 58,
     "metadata": {},
     "output_type": "execute_result"
    },
    {
     "data": {
      "image/png": "[encoded data removed]",
      "text/plain": [
       "<Figure size 432x288 with 1 Axes>"
      ]
     },
     "metadata": {
      "needs_background": "light"
     },
     "output_type": "display_data"
    }
   ],
   "source": [
    "# Plot losses\n",
    "train_loss = history['train_loss']\n",
    "val_loss = history['val_loss']\n",
    "\n",
    "plt.figure()\n",
    "plt.clf()\n",
    "plt.xlabel('Epochs')\n",
    "plt.ylabel('Loss')\n",
    "plt.plot(np.arange(0, len(train_loss)), train_loss, color='r', label='training loss')\n",
    "plt.plot(np.arange(0, len(val_loss)), val_loss, color='g', label='validation loss')\n",
    "plt.legend()"
   ]
  },
  {
   "cell_type": "markdown",
   "metadata": {
    "id": "S4aIH6cDSpN3"
   },
   "source": [
    "### 3.3 Evaluate Accuracy\n",
    "Compare how the model performs on the test dataset:"
   ]
  },
  {
   "cell_type": "code",
   "execution_count": 55,
   "metadata": {},
   "outputs": [],
   "source": [
    "# Evaluate the model\n",
    "def evaluate(model, x_test, y_test):\n",
    "    y_pred = model(x_test).detach()\n",
    "    res = np.argmax(y_pred, axis = 1) \n",
    "    \n",
    "    target = np.argmax(y_test, axis = 1)\n",
    "    train_acc = torch.sum(res == target) / x_test.size(0)\n",
    "\n",
    "    return train_acc"
   ]
  },
  {
   "cell_type": "code",
   "execution_count": 62,
   "metadata": {
    "colab": {
     "base_uri": "https://localhost:8080/"
    },
    "executionInfo": {
     "elapsed": 2257,
     "status": "ok",
     "timestamp": 1622564195573,
     "user": {
      "displayName": "Moritz Waldleben",
      "photoUrl": "",
      "userId": "09098551526927023625"
     },
     "user_tz": -120
    },
    "id": "WXofm6U9SpN4",
    "outputId": "35b0cb35-0715-48fa-8933-f366f46837de"
   },
   "outputs": [
    {
     "name": "stdout",
     "output_type": "stream",
     "text": [
      "Evaluate model:\n",
      "Test accuracy: 32.89%\n"
     ]
    }
   ],
   "source": [
    "print('Evaluate model:')\n",
    "#results = model.evaluate(x_test_r, y_test)\n",
    "accuracy = evaluate(model, torch.Tensor(x_test_r), torch.Tensor(y_test))\n",
    "#print('Test loss: {:f}'.format(results[0]))\n",
    "print('Test accuracy: {:.2f}%'.format(accuracy * 100))"
   ]
  },
  {
   "cell_type": "code",
   "execution_count": 63,
   "metadata": {
    "colab": {
     "base_uri": "https://localhost:8080/",
     "height": 303
    },
    "executionInfo": {
     "elapsed": 1858,
     "status": "ok",
     "timestamp": 1622564203469,
     "user": {
      "displayName": "Moritz Waldleben",
      "photoUrl": "",
      "userId": "09098551526927023625"
     },
     "user_tz": -120
    },
    "id": "Joyq3LJmSpN5",
    "outputId": "571c9e34-a7bd-4ce3-cde4-b837282ba9dd"
   },
   "outputs": [
    {
     "data": {
      "text/plain": [
       "<matplotlib.image.AxesImage at 0x18f927361d0>"
      ]
     },
     "execution_count": 63,
     "metadata": {},
     "output_type": "execute_result"
    },
    {
     "data": {
      "image/png": "[encoded data removed]",
      "text/plain": [
       "<Figure size 432x288 with 1 Axes>"
      ]
     },
     "metadata": {
      "needs_background": "light"
     },
     "output_type": "display_data"
    }
   ],
   "source": [
    "# Plot a confusion matrix\n",
    "y_pred = model(torch.Tensor(x_test_r)).detach()\n",
    "\n",
    "y_pred_class_n = np.argmax(y_pred, axis=1)\n",
    "y_true_class_n = np.argmax(y_test, axis=1)\n",
    "\n",
    "#accuracy = accuracy_score(y_true_class_n, y_pred_class_n)\n",
    "#np.set_printoptions(precision=2)\n",
    "#print(\"Accuracy = {:.2f}%\".format(accuracy * 100))\n",
    "\n",
    "cm = confusion_matrix(y_true_class_n, y_pred_class_n, labels=[0,1,2])\n",
    "\n",
    "# Loop over data dimensions and create text annotations.\n",
    "thresh = cm.max() / 2.\n",
    "for i in range(cm.shape[0]):\n",
    "    for j in range(cm.shape[1]):\n",
    "        plt.text(j, i, format(cm[i, j], 'd'),\n",
    "                ha=\"center\", va=\"center\",\n",
    "                color=\"white\" if cm[i, j] > thresh else \"black\")\n",
    "\n",
    "plt.imshow(cm, cmap=plt.cm.Blues)"
   ]
  },
  {
   "cell_type": "markdown",
   "metadata": {
    "id": "zLO4GMgiSpN6"
   },
   "source": [
    "### 3.4 Save the model"
   ]
  },
  {
   "cell_type": "code",
   "execution_count": 123,
   "metadata": {
    "id": "4yXQZ3m7SpN7"
   },
   "outputs": [],
   "source": [
    "# Save the model into an HDF5 file ‘model.h5’\n",
    "#model.save('wmc.h5')\n",
    "torch.save(model.state_dict(), 'wmc_new.pth')"
   ]
  }
 ],
 "metadata": {
  "colab": {
   "name": "acoustic_scene_classification512.ipynb",
   "provenance": [],
   "toc_visible": true
  },
  "file_extension": ".py",
  "kernelspec": {
   "display_name": "Python 3.10.4 64-bit",
   "language": "python",
   "name": "python3"
  },
  "language_info": {
   "codemirror_mode": {
    "name": "ipython",
    "version": 3
   },
   "file_extension": ".py",
   "mimetype": "text/x-python",
   "name": "python",
   "nbconvert_exporter": "python",
   "pygments_lexer": "ipython3",
   "version": "3.10.4"
  },
  "mimetype": "text/x-python",
  "name": "python",
  "npconvert_exporter": "python",
  "pygments_lexer": "ipython3",
  "version": 3,
  "vscode": {
   "interpreter": {
    "hash": "156834c5d1080ff0c02c47ca6eec2f6edc8c4c7adce294369f0a57723b7397e9"
   }
  }
 },
 "nbformat": 4,
 "nbformat_minor": 1
}
