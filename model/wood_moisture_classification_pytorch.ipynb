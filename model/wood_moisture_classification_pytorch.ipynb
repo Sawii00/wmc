{
 "cells": [
  {
   "cell_type": "markdown",
   "metadata": {},
   "source": [
    "# Wood moisture classification (wmc) model creation pipeline"
   ]
  },
  {
   "cell_type": "markdown",
   "metadata": {},
   "source": [
    "The following code is adapted from the FP-AI-SENSING1 application of ST microelectronics"
   ]
  },
  {
   "cell_type": "code",
   "execution_count": 1,
   "metadata": {
    "executionInfo": {
     "elapsed": 4406,
     "status": "ok",
     "timestamp": 1622629793582,
     "user": {
      "displayName": "Moritz Waldleben",
      "photoUrl": "",
      "userId": "09098551526927023625"
     },
     "user_tz": -120
    },
    "id": "swA6t4wgSpNa"
   },
   "outputs": [],
   "source": [
    "import numpy as np\n",
    "import os\n",
    "from tqdm import tqdm\n",
    "import librosa\n",
    "import librosa.display\n",
    "import librosa.util\n",
    "#from IPython.display import Audio\n",
    "import matplotlib.pyplot as plt\n",
    "from sklearn import preprocessing\n",
    "from sklearn.metrics import confusion_matrix\n",
    "from sklearn.metrics import accuracy_score\n",
    "from sklearn.model_selection import train_test_split\n",
    "#import tensorflow as tf\n",
    "#import keras.utils\n",
    "#from keras import layers\n",
    "#from keras import models\n",
    "#from keras import optimizers\n",
    "from pickle import dump\n",
    "import random\n",
    "\n",
    "\n",
    "import torch\n",
    "import torch.utils"
   ]
  },
  {
   "cell_type": "code",
   "execution_count": 76,
   "metadata": {
    "colab": {
     "base_uri": "https://localhost:8080/"
    },
    "executionInfo": {
     "elapsed": 295,
     "status": "ok",
     "timestamp": 1622629798189,
     "user": {
      "displayName": "Moritz Waldleben",
      "photoUrl": "",
      "userId": "09098551526927023625"
     },
     "user_tz": -120
    },
    "id": "hJV-tuxQSpNd",
    "outputId": "21734d6b-14ca-46dc-fac1-2fe806b72d1f",
    "scrolled": true
   },
   "outputs": [
    {
     "name": "stdout",
     "output_type": "stream",
     "text": [
      "Librosa: 0.9.2\n"
     ]
    }
   ],
   "source": [
    "# Current version (for reproduction)\n",
    "#print(\"TensorFlow:\", tf.__version__)\n",
    "#print(\"Keras:\", keras.__version__)\n",
    "print(\"Librosa:\", librosa.__version__)"
   ]
  },
  {
   "cell_type": "markdown",
   "metadata": {},
   "source": [
    "## Global settings\n",
    "__Important:__ These settings have to match the ones in the STM32 application."
   ]
  },
  {
   "cell_type": "code",
   "execution_count": 77,
   "metadata": {},
   "outputs": [],
   "source": [
    "AUDIO_SAMPLING_FREQUENCY = 48000 # kHz \n",
    "NB_FRAMES = 32 # How many columns for the short time fourier transformation\n",
    "NB_BINS = 30 # Resolution (bins) of one STFT column\n",
    "HOP_LENGTH = 512 # Jumps between FFT frames\n",
    "WINDOW_SIZE = HOP_LENGTH*NB_FRAMES + HOP_LENGTH # For one spectrogram column 1024 samples are needed\n",
    "NB_WINDOWS = 100 # Total number of windwo recorded in one WAV file\n",
    "FRAME_SIZE = 1024 # Size for one FFT\n",
    "FREQ_MIN = 5000 # Lowest bin for the columns\n",
    "TOP_DB = 80 # Cut off of DBs"
   ]
  },
  {
   "cell_type": "markdown",
   "metadata": {
    "id": "NbcriJ54SpNe"
   },
   "source": [
    "## 1. Import and convert the data\n",
    "Load the files from the data directory. The labels for the files are specified in model/dataset/labels.txt."
   ]
  },
  {
   "cell_type": "code",
   "execution_count": 78,
   "metadata": {
    "colab": {
     "base_uri": "https://localhost:8080/"
    },
    "executionInfo": {
     "elapsed": 8263,
     "status": "ok",
     "timestamp": 1622629865632,
     "user": {
      "displayName": "Moritz Waldleben",
      "photoUrl": "",
      "userId": "09098551526927023625"
     },
     "user_tz": -120
    },
    "id": "MavxVlcfSpNf",
    "outputId": "e41d3511-2053-4e9c-bec1-5dd0dc2b2263",
    "scrolled": true
   },
   "outputs": [
    {
     "name": "stderr",
     "output_type": "stream",
     "text": [
      "100%|██████████| 18/18 [00:01<00:00, 15.64it/s]\n"
     ]
    }
   ],
   "source": [
    "dataset_dir = './dataset'\n",
    "fileset_path = path = os.path.join(dataset_dir, 'labels.txt')\n",
    "fileset = np.loadtxt(fileset_path, dtype=str)\n",
    "\n",
    "# 3 classes : 0 dry, 1 semiwet, 2 wet\n",
    "class_names = ['dry', 'semiwet', 'wet']\n",
    "labels = {\n",
    "    'dry' : 0,\n",
    "    'semiwet' : 1,\n",
    "    'wet' : 2,\n",
    "}\n",
    "\n",
    "\n",
    "# x is a list of the recordings and y is a list of the respective labels (targets)\n",
    "x = []\n",
    "y = []\n",
    "\n",
    "# Iteratate over all recordings defined in labels.txt\n",
    "for file in tqdm(fileset):\n",
    "    file_path, file_label = file\n",
    "    file_path = os.path.join(dataset_dir, file_path)\n",
    "    \n",
    "    signal, _ = librosa.load(file_path, sr=AUDIO_SAMPLING_FREQUENCY, mono=True, dtype=np.float32)   \n",
    "    # Cut off total samples because recording takes a bit more samples\n",
    "    signal = signal[0:NB_WINDOWS*WINDOW_SIZE]\n",
    "    \n",
    "    label = labels[file_label]\n",
    "    \n",
    "    x.append(signal)\n",
    "    y.append(label)"
   ]
  },
  {
   "cell_type": "code",
   "execution_count": 79,
   "metadata": {
    "colab": {
     "base_uri": "https://localhost:8080/",
     "height": 244
    },
    "executionInfo": {
     "elapsed": 24,
     "status": "ok",
     "timestamp": 1622629865634,
     "user": {
      "displayName": "Moritz Waldleben",
      "photoUrl": "",
      "userId": "09098551526927023625"
     },
     "user_tz": -120
    },
    "id": "hFdOVcrrSpNg",
    "outputId": "c9c54745-a65d-4f8c-e36b-7348866fcfd1"
   },
   "outputs": [
    {
     "ename": "AttributeError",
     "evalue": "module 'librosa.display' has no attribute 'waveplot'",
     "output_type": "error",
     "traceback": [
      "\u001b[1;31m---------------------------------------------------------------------------\u001b[0m",
      "\u001b[1;31mAttributeError\u001b[0m                            Traceback (most recent call last)",
      "\u001b[1;32md:\\EPFL\\wmc\\model\\wood_moisture_classification_pytorch.ipynb Cell 9\u001b[0m in \u001b[0;36m<cell line: 8>\u001b[1;34m()\u001b[0m\n\u001b[0;32m      <a href='vscode-notebook-cell:/d%3A/EPFL/wmc/model/wood_moisture_classification_pytorch.ipynb#ch0000008?line=5'>6</a>\u001b[0m plt\u001b[39m.\u001b[39mfigure(figsize\u001b[39m=\u001b[39m(\u001b[39m12\u001b[39m, \u001b[39m2\u001b[39m))\n\u001b[0;32m      <a href='vscode-notebook-cell:/d%3A/EPFL/wmc/model/wood_moisture_classification_pytorch.ipynb#ch0000008?line=6'>7</a>\u001b[0m plt\u001b[39m.\u001b[39mtitle(class_names[y[\u001b[39m1\u001b[39m]])\n\u001b[1;32m----> <a href='vscode-notebook-cell:/d%3A/EPFL/wmc/model/wood_moisture_classification_pytorch.ipynb#ch0000008?line=7'>8</a>\u001b[0m librosa\u001b[39m.\u001b[39;49mdisplay\u001b[39m.\u001b[39;49mwaveplot(window, sr\u001b[39m=\u001b[39mAUDIO_SAMPLING_FREQUENCY)\n\u001b[0;32m      <a href='vscode-notebook-cell:/d%3A/EPFL/wmc/model/wood_moisture_classification_pytorch.ipynb#ch0000008?line=8'>9</a>\u001b[0m Audio(window, rate\u001b[39m=\u001b[39mAUDIO_SAMPLING_FREQUENCY)\n",
      "\u001b[1;31mAttributeError\u001b[0m: module 'librosa.display' has no attribute 'waveplot'"
     ]
    },
    {
     "data": {
      "image/png": "[encoded data removed]",
      "text/plain": [
       "<Figure size 864x144 with 1 Axes>"
      ]
     },
     "metadata": {
      "needs_background": "light"
     },
     "output_type": "display_data"
    }
   ],
   "source": [
    "# Check a random sample of first recording\n",
    "rand = random.randint(0, NB_FRAMES)\n",
    "recording1 = x[1]\n",
    "window = recording1[WINDOW_SIZE*rand:WINDOW_SIZE*(rand+1)]\n",
    "\n",
    "plt.figure(figsize=(12, 2))\n",
    "plt.title(class_names[y[1]])\n",
    "librosa.display.waveplot(window, sr=AUDIO_SAMPLING_FREQUENCY)\n",
    "Audio(window, rate=AUDIO_SAMPLING_FREQUENCY)"
   ]
  },
  {
   "cell_type": "markdown",
   "metadata": {
    "id": "zDf566vISpNi"
   },
   "source": [
    "## 2. Prepare the data"
   ]
  },
  {
   "cell_type": "markdown",
   "metadata": {
    "id": "aNYSxUQmSpNj"
   },
   "source": [
    "### 2.1 Slice data into windows\n",
    "Each audio recording (WAV file) contains the specified number of windows (NB_WINDOWS).\n",
    "\n",
    "Each window will contain 16,896 samples (32 * 512 + 512) to create a 32 column spectrogram with FRAME_SIZE=1024 and HOP_LENGTH=512."
   ]
  },
  {
   "cell_type": "code",
   "execution_count": 80,
   "metadata": {
    "colab": {
     "base_uri": "https://localhost:8080/"
    },
    "executionInfo": {
     "elapsed": 433,
     "status": "ok",
     "timestamp": 1622629866056,
     "user": {
      "displayName": "Moritz Waldleben",
      "photoUrl": "",
      "userId": "09098551526927023625"
     },
     "user_tz": -120
    },
    "id": "S6P_OY1_SpNj",
    "outputId": "e64ca577-9a3a-4181-edaf-b6399fd1a521"
   },
   "outputs": [
    {
     "name": "stdout",
     "output_type": "stream",
     "text": [
      "x_windows shape:  (1800, 16896)\n",
      "y_windows shape:  (1800,)\n"
     ]
    }
   ],
   "source": [
    "# Each window will now be an entry in the list\n",
    "x_windows = []\n",
    "y_windows = []\n",
    "\n",
    "# Iteratate over all recordings and create windows\n",
    "for i in range(len(x)):\n",
    "    x_tmp = np.asarray(x[i])    \n",
    "    for k  in range(NB_WINDOWS):\n",
    "        window = x_tmp[k*WINDOW_SIZE:(k+1)*WINDOW_SIZE]\n",
    "        x_windows.append(np.transpose(window)) \n",
    "    y_windows.append(np.full(NB_WINDOWS, y[i]))\n",
    "    \n",
    "# Convert into numpy arrays\n",
    "x_windows = np.asarray(x_windows)\n",
    "y_windows = np.asarray(y_windows)\n",
    "\n",
    "# Reshape labels \n",
    "y_windows = y_windows.reshape(y_windows.shape[0]*y_windows.shape[1], )\n",
    "\n",
    "print(\"x_windows shape: \", x_windows.shape) # Each window of 16,896 samples can be used to create a spectrogram \n",
    "print(\"y_windows shape: \", y_windows.shape) # Corresponding label for each window\n"
   ]
  },
  {
   "cell_type": "markdown",
   "metadata": {
    "id": "97HnRxBwSpNl"
   },
   "source": [
    "### 2.2 Preprocess the data into STFT spectrograms\n",
    "Windows are transformed into the spectrograms of size NB_BINS*NB_FRAMES. A filter bank is created for the FFT columns. The filter bank has to match the one used in the microcontroller."
   ]
  },
  {
   "cell_type": "code",
   "execution_count": 81,
   "metadata": {},
   "outputs": [
    {
     "name": "stdout",
     "output_type": "stream",
     "text": [
      "[107, 120, 133, 146, 158, 171, 184, 197, 210, 222, 235, 248, 261, 274, 286, 299, 312, 325, 338, 350, 363, 376, 389, 402, 414, 427, 440, 453, 466, 478]\n",
      "[120, 133, 146, 158, 171, 184, 197, 210, 222, 235, 248, 261, 274, 286, 299, 312, 325, 338, 350, 363, 376, 389, 402, 414, 427, 440, 453, 466, 478, 491]\n"
     ]
    }
   ],
   "source": [
    "# Initalize FilterBank for the linear FFT bins\n",
    "FilterStartIndices = []\n",
    "FilterStopIndices = []\n",
    "\n",
    "def FilterBankInit():\n",
    "    start_idx = 107;\n",
    "    \n",
    "    for i in range(NB_BINS):\n",
    "        FilterStartIndices.append(start_idx);\n",
    "     \n",
    "        freq_bin = 5300 + i * 600;\n",
    "\n",
    "        for j in range(start_idx,int(FRAME_SIZE/2+1)):\n",
    "            fft_freq = 48000 / 1024 * j;\n",
    "\n",
    "            if (abs(freq_bin-fft_freq) > 300):\n",
    "                start_idx = j;\n",
    "                FilterStopIndices.append(j)\n",
    "                break;\n",
    "\n",
    "FilterBankInit()\n",
    "print(FilterStartIndices)\n",
    "print(FilterStopIndices)\n",
    "\n",
    "def FilterBank(STFT):\n",
    "    S = np.zeros((NB_BINS, 32))\n",
    "    for i in range(NB_BINS):\n",
    "        start_idx = FilterStartIndices[i]\n",
    "        stop_idx = FilterStopIndices[i]\n",
    "\n",
    "        for k in range(32):\n",
    "            sum = 0\n",
    "            for j in range(start_idx, stop_idx):\n",
    "                sum += STFT[j,k];\n",
    "\n",
    "            S[i, k] = sum;\n",
    "    return S"
   ]
  },
  {
   "cell_type": "code",
   "execution_count": 82,
   "metadata": {
    "colab": {
     "base_uri": "https://localhost:8080/"
    },
    "executionInfo": {
     "elapsed": 52162,
     "status": "ok",
     "timestamp": 1622629918204,
     "user": {
      "displayName": "Moritz Waldleben",
      "photoUrl": "",
      "userId": "09098551526927023625"
     },
     "user_tz": -120
    },
    "id": "tbUYwmTBSpNm",
    "outputId": "1bf6c8b3-3ac8-4916-8e42-5291899da0ae"
   },
   "outputs": [
    {
     "name": "stderr",
     "output_type": "stream",
     "text": [
      "100%|██████████| 1800/1800 [00:14<00:00, 122.35it/s]"
     ]
    },
    {
     "name": "stdout",
     "output_type": "stream",
     "text": [
      "x_features shape:  (1800, 30, 32)\n"
     ]
    },
    {
     "name": "stderr",
     "output_type": "stream",
     "text": [
      "\n"
     ]
    }
   ],
   "source": [
    "# Spectograms of windows which will be the feautures for the neural network\n",
    "x_features = []\n",
    "y_features = y_windows\n",
    "\n",
    "for frame in tqdm(x_windows):\n",
    "    # Create a STFT spectrogram\n",
    "    STFT = np.abs(librosa.stft(y=frame, n_fft=FRAME_SIZE, hop_length=HOP_LENGTH, window='hann', center=False, dtype=None))\n",
    "    S = FilterBank(STFT) # Why 513 values????\n",
    "\n",
    "    \n",
    "    # Scale according to reference power\n",
    "    S = S / S.max()\n",
    "    # Convert to dB\n",
    "    S_log = librosa.power_to_db(S, top_db=TOP_DB)\n",
    "    x_features.append(S_log)\n",
    "\n",
    "\n",
    "# Convert into numpy array\n",
    "x_features = np.asarray(x_features)\n",
    "\n",
    "print(\"x_features shape: \", x_features.shape)"
   ]
  },
  {
   "cell_type": "code",
   "execution_count": 83,
   "metadata": {
    "colab": {
     "base_uri": "https://localhost:8080/",
     "height": 585
    },
    "executionInfo": {
     "elapsed": 707,
     "status": "ok",
     "timestamp": 1622629918903,
     "user": {
      "displayName": "Moritz Waldleben",
      "photoUrl": "",
      "userId": "09098551526927023625"
     },
     "user_tz": -120
    },
    "id": "WwARqhRRSpNs",
    "outputId": "46ad240f-38b2-4afc-f068-a79dd19bb82d"
   },
   "outputs": [
    {
     "data": {
      "image/png": "[encoded data removed]",
      "text/plain": [
       "<Figure size 720x720 with 3 Axes>"
      ]
     },
     "metadata": {
      "needs_background": "light"
     },
     "output_type": "display_data"
    }
   ],
   "source": [
    "# Plot spectrogram generated for each feature class\n",
    "\n",
    "# Create grid\n",
    "grid_x, grid_y = np.mgrid[:32, :30]\n",
    "\n",
    "plt.figure(figsize=(10, 10))\n",
    "\n",
    "plt.subplot(311)\n",
    "first_index = np.argmax(y_windows == 0)\n",
    "z = x_features[first_index, :, :]\n",
    "z = z.transpose()\n",
    "plt.pcolormesh(grid_x, grid_y, z)\n",
    "plt.title('STFT spectrogram for a ' + class_names[y_features[first_index]] + ' sample')\n",
    "\n",
    "plt.subplot(312)\n",
    "second_index = np.argmax(y_windows == 1)\n",
    "z = x_features[first_index, :, :]\n",
    "z = z.transpose()\n",
    "plt.pcolormesh(grid_x, grid_y, z)\n",
    "plt.title('STFT spectrogram for a ' + class_names[y_features[second_index]] + ' sample')\n",
    "\n",
    "plt.subplot(313)\n",
    "third_index = np.argmax(y_windows == 2)\n",
    "z = x_features[first_index, :, :]\n",
    "z = z.transpose()\n",
    "plt.pcolormesh(grid_x, grid_y, z)\n",
    "plt.title('STFT spectrogram for a ' + class_names[y_features[third_index]] + ' sample')\n",
    "\n",
    "plt.tight_layout()\n",
    "plt.show()"
   ]
  },
  {
   "cell_type": "markdown",
   "metadata": {
    "id": "BIltb4zKSpNt"
   },
   "source": [
    "### 2.3 Standardize features\n",
    "Standardize features by removing the mean and scaling to unit variance. Save the feature scalers to model/standardize."
   ]
  },
  {
   "cell_type": "code",
   "execution_count": 84,
   "metadata": {
    "colab": {
     "base_uri": "https://localhost:8080/"
    },
    "executionInfo": {
     "elapsed": 335,
     "status": "ok",
     "timestamp": 1622629919232,
     "user": {
      "displayName": "Moritz Waldleben",
      "photoUrl": "",
      "userId": "09098551526927023625"
     },
     "user_tz": -120
    },
    "id": "6ErZd1-9SpNu",
    "outputId": "6f9f92a8-b462-4145-9663-584396bb74f9"
   },
   "outputs": [
    {
     "name": "stdout",
     "output_type": "stream",
     "text": [
      "x_features_s shape:  (1800, 960)\n"
     ]
    }
   ],
   "source": [
    "# Flatten features for scaling\n",
    "x_features_r = np.reshape(x_features, (len(x_features), NB_BINS * NB_FRAMES))\n",
    "\n",
    "# Create a feature scaler\n",
    "scaler = preprocessing.StandardScaler().fit(x_features_r)\n",
    "mean = scaler.mean_\n",
    "std = scaler.scale_\n",
    "\n",
    "#  Save feature scaler\n",
    "standardize_dir = './standardize/'\n",
    "np.savetxt(standardize_dir + 'mean.csv', mean.reshape(240, 4),  fmt='%.10e', delimiter=\",\", newline=\",\\n\")\n",
    "np.savetxt(standardize_dir + 'std.csv', std.reshape(240, 4),  fmt='%.10e', delimiter=\",\", newline=\",\\n\")\n",
    "dump(scaler, open(standardize_dir + 'scaler.pkl', 'wb'))\n",
    "\n",
    "# Apply the feature scaler \n",
    "x_features_s = scaler.transform(x_features_r)\n",
    "\n",
    "print(\"x_features_s shape: \", x_features_s.shape)"
   ]
  },
  {
   "cell_type": "markdown",
   "metadata": {
    "id": "EmknsxPHSpNu"
   },
   "source": [
    "### 2.4 One hot encoding of labels\n",
    "Keras requires one hot encoded labels."
   ]
  },
  {
   "cell_type": "code",
   "execution_count": 85,
   "metadata": {},
   "outputs": [],
   "source": [
    "def to_categorical(x, n_classes):\n",
    "    return np.eye(n_classes, dtype='uint8')[x] "
   ]
  },
  {
   "cell_type": "code",
   "execution_count": 86,
   "metadata": {
    "colab": {
     "base_uri": "https://localhost:8080/"
    },
    "executionInfo": {
     "elapsed": 15,
     "status": "ok",
     "timestamp": 1622629919233,
     "user": {
      "displayName": "Moritz Waldleben",
      "photoUrl": "",
      "userId": "09098551526927023625"
     },
     "user_tz": -120
    },
    "id": "kKRdZqVkSpNv",
    "outputId": "974a2d8b-4087-49c3-8de8-5cf4b0a84c57"
   },
   "outputs": [
    {
     "name": "stdout",
     "output_type": "stream",
     "text": [
      "The shape of the one-hot encoded labels np array is:  (1800, 3)\n"
     ]
    }
   ],
   "source": [
    "# Convert labels to categorical one-hot encoding\n",
    "y_features_hot = to_categorical(y_features, n_classes=len(class_names))\n",
    "\n",
    "print('The shape of the one-hot encoded labels np array is: ' , y_features_hot.shape)"
   ]
  },
  {
   "cell_type": "markdown",
   "metadata": {},
   "source": [
    "### 2.5 Split data into training, validation and test\n",
    "Use 25% for testing. The remaining 75% of the features are split in 25% for validation and 75% for training."
   ]
  },
  {
   "cell_type": "code",
   "execution_count": 87,
   "metadata": {
    "colab": {
     "base_uri": "https://localhost:8080/"
    },
    "executionInfo": {
     "elapsed": 12,
     "status": "ok",
     "timestamp": 1622629919234,
     "user": {
      "displayName": "Moritz Waldleben",
      "photoUrl": "",
      "userId": "09098551526927023625"
     },
     "user_tz": -120
    },
    "id": "PAMVbvRQSpNw",
    "outputId": "b145e5de-845c-4807-c8c0-bcfb6763fdce"
   },
   "outputs": [
    {
     "name": "stdout",
     "output_type": "stream",
     "text": [
      "Training samples: (1012, 960)\n",
      "Validation samples: (338, 960)\n",
      "Test samples: (450, 960)\n"
     ]
    }
   ],
   "source": [
    "#x_train, x_test, y_train, y_test = torch.utils.data.random_split(full_dataset, [train_size, test_size])\n",
    "x_train, x_test, y_train, y_test = train_test_split(x_features_s,\n",
    "                                                    y_features_hot,\n",
    "                                                    test_size=0.25,\n",
    "                                                    random_state=1)\n",
    "x_train, x_val, y_train, y_val = train_test_split(x_train,\n",
    "                                                  y_train,\n",
    "                                                  test_size=0.25,\n",
    "                                                  random_state=1)\n",
    "\n",
    "print('Training samples:', x_train.shape)\n",
    "print('Validation samples:', x_val.shape)\n",
    "print('Test samples:', x_test.shape)"
   ]
  },
  {
   "cell_type": "markdown",
   "metadata": {
    "id": "nnT3zHH5SpNw"
   },
   "source": [
    "### 2.6 (Optional) Save the features\n",
    "Save the features to a csv file in a format X-CUBE-AI can understand, that is, for each tensor, the values are in a flattened vector."
   ]
  },
  {
   "cell_type": "code",
   "execution_count": null,
   "metadata": {
    "colab": {
     "base_uri": "https://localhost:8080/",
     "height": 389
    },
    "executionInfo": {
     "elapsed": 208,
     "status": "error",
     "timestamp": 1622584291876,
     "user": {
      "displayName": "Moritz Waldleben",
      "photoUrl": "",
      "userId": "09098551526927023625"
     },
     "user_tz": -120
    },
    "id": "K6u0gusVSpNx",
    "outputId": "153eb835-a2e9-49bd-9b0d-33369a50d905"
   },
   "outputs": [],
   "source": [
    "#val_dir = './validation/'\n",
    "#np.savetxt(val_dir + 'x_train.csv', x_train.reshape(len(x_train), n_mels*n_stft_columns), delimiter=\",\")\n",
    "#np.savetxt(val_dir + 'y_train.csv', y_train, delimiter=\",\")\n",
    "#np.savetxt(val_dir + 'x_val.csv', x_val.reshape(len(x_val), n_mels*n_stft_columns), delimiter=\",\")\n",
    "#np.savetxt(val_dir + 'y_val.csv', y_val, delimiter=\",\")\n",
    "#np.savetxt(val_dir + 'x_test.csv', x_test.reshape(len(x_test), n_mels*n_stft_columns), delimiter=\",\")\n",
    "#np.savetxt(val_dir + 'y_test.csv', y_test, delimiter=\",\")"
   ]
  },
  {
   "cell_type": "markdown",
   "metadata": {
    "id": "1JXA_9ioSpNx"
   },
   "source": [
    "## 3 Model"
   ]
  },
  {
   "cell_type": "markdown",
   "metadata": {},
   "source": [
    "### 3.1 Create and compile model\n",
    "Build a sequential convolutional network classifier model"
   ]
  },
  {
   "cell_type": "code",
   "execution_count": 8,
   "metadata": {},
   "outputs": [],
   "source": [
    "def count_parameters(model): return sum(p.numel() for p in model.parameters() if p.requires_grad)"
   ]
  },
  {
   "cell_type": "code",
   "execution_count": 9,
   "metadata": {
    "colab": {
     "base_uri": "https://localhost:8080/"
    },
    "executionInfo": {
     "elapsed": 230,
     "status": "ok",
     "timestamp": 1622584300588,
     "user": {
      "displayName": "Moritz Waldleben",
      "photoUrl": "",
      "userId": "09098551526927023625"
     },
     "user_tz": -120
    },
    "id": "QTrT-JYcSpNy",
    "outputId": "95c4395a-4b2a-46fe-d99b-0b17569df70c"
   },
   "outputs": [
    {
     "ename": "IndentationError",
     "evalue": "unexpected indent (4029546089.py, line 16)",
     "output_type": "error",
     "traceback": [
      "\u001b[1;36m  Input \u001b[1;32mIn [9]\u001b[1;36m\u001b[0m\n\u001b[1;33m    print(count_parameters(model))\u001b[0m\n\u001b[1;37m    ^\u001b[0m\n\u001b[1;31mIndentationError\u001b[0m\u001b[1;31m:\u001b[0m unexpected indent\n"
     ]
    }
   ],
   "source": [
    "model = torch.nn.Sequential() #30x32x1\n",
    "model.append(torch.nn.Conv2d(in_channels = 1, out_channels = 16, kernel_size = (3, 3))) #28x30x16\n",
    "model.append(torch.nn.ReLU()) \n",
    "model.append(torch.nn.MaxPool2d((2, 2))) #14x15x16\n",
    "model.append(torch.nn.Conv2d(in_channels = 16, out_channels=16, kernel_size=(3, 3))) #12x13x16\n",
    "model.append(torch.nn.ReLU())\n",
    "model.append(torch.nn.MaxPool2d((2, 2))) #6x6x16\n",
    "model.append(torch.nn.Flatten())\n",
    "model.append(torch.nn.Linear(in_features = 6*6*16,out_features = 9))\n",
    "model.append(torch.nn.ReLU())\n",
    "model.append(torch.nn.Linear(in_features = 9, out_features = 3))\n",
    "#model.append(torch.nn.Softmax(-1))\n",
    "\n",
    "# Print model summary\n",
    "#model.summary()\n",
    "print(count_parameters(model))"
   ]
  },
  {
   "cell_type": "code",
   "execution_count": 95,
   "metadata": {
    "colab": {
     "base_uri": "https://localhost:8080/"
    },
    "executionInfo": {
     "elapsed": 191,
     "status": "ok",
     "timestamp": 1622584303019,
     "user": {
      "displayName": "Moritz Waldleben",
      "photoUrl": "",
      "userId": "09098551526927023625"
     },
     "user_tz": -120
    },
    "id": "bcAEaGEZSpNz",
    "outputId": "0c002540-5bbc-46c1-9adb-837433b46573"
   },
   "outputs": [],
   "source": [
    "# Compile model with choosing a loss and an omptimizer\n",
    "opt = torch.optim.Adam(params=model.parameters(), lr=0.01)\n",
    "criterion = torch.nn.CrossEntropyLoss()"
   ]
  },
  {
   "cell_type": "markdown",
   "metadata": {
    "id": "utFml4PCSpN0"
   },
   "source": [
    "###  3.2 Train the model"
   ]
  },
  {
   "cell_type": "code",
   "execution_count": 96,
   "metadata": {
    "executionInfo": {
     "elapsed": 298,
     "status": "ok",
     "timestamp": 1622629970642,
     "user": {
      "displayName": "Moritz Waldleben",
      "photoUrl": "",
      "userId": "09098551526927023625"
     },
     "user_tz": -120
    },
    "id": "6SKCOk-sSpN0"
   },
   "outputs": [],
   "source": [
    "# NOTE: pytorch expects channel as second dimension\n",
    "x_train_r = x_train.reshape(x_train.shape[0], 1, 30, 32)\n",
    "x_val_r = x_val.reshape(x_val.shape[0], 1, 30, 32)\n",
    "x_test_r = x_test.reshape(x_test.shape[0], 1, 30, 32)"
   ]
  },
  {
   "cell_type": "code",
   "execution_count": 97,
   "metadata": {},
   "outputs": [],
   "source": [
    "def validate(model, criterion, val_input, val_target, device=\"cpu\"):\n",
    "    output = model(val_input.float().to(device))\n",
    "    loss = criterion(output, val_target.float().to(device))\n",
    "    return loss.item()\n",
    "\n",
    "\n",
    "def train(model, criterion, optimizer, train_input, train_target, val_input, val_target, num_epochs, mini_batch_size, device=\"cpu\"):\n",
    "    train_input, train_target = train_input.float().to(device), train_target.float().to(device)\n",
    "    loss_history = {\"train_loss\":[], \"val_loss\":[]}\n",
    "    for e in range(num_epochs):\n",
    "        print(f\"Epoch: {e}\")\n",
    "        avg_loss = 0\n",
    "        for b in range(0, train_input.size(0), mini_batch_size):\n",
    "            output = model(train_input.narrow(0, b, mini_batch_size).float().to(device))\n",
    "            loss = criterion(output, train_target.narrow(0, b, mini_batch_size).float().to(device))\n",
    "            avg_loss += loss.item()\n",
    "            optimizer.zero_grad()\n",
    "            loss.backward()\n",
    "            optimizer.step()\n",
    "        with torch.no_grad():\n",
    "            validate_loss = validate(model, criterion, val_input, val_target)\n",
    "        avg_loss /= (train_input.size(0) // mini_batch_size)\n",
    "        loss_history[\"train_loss\"].append(avg_loss)\n",
    "        loss_history[\"val_loss\"].append(validate_loss)\n",
    "        print(\"Train Loss:\", avg_loss)\n",
    "        print(\"Val Loss:\", validate_loss)\n",
    "    return loss_history"
   ]
  },
  {
   "cell_type": "code",
   "execution_count": 98,
   "metadata": {
    "colab": {
     "base_uri": "https://localhost:8080/"
    },
    "executionInfo": {
     "elapsed": 156425,
     "status": "ok",
     "timestamp": 1622564163167,
     "user": {
      "displayName": "Moritz Waldleben",
      "photoUrl": "",
      "userId": "09098551526927023625"
     },
     "user_tz": -120
    },
    "id": "ByUY6HpjSpN1",
    "outputId": "7d838b62-fc25-43ec-b18d-b2c675185fae",
    "scrolled": true
   },
   "outputs": [
    {
     "name": "stdout",
     "output_type": "stream",
     "text": [
      "Epoch: 0\n",
      "Train Loss: 1.0444421917200089\n",
      "Val Loss: 0.7818726301193237\n",
      "Epoch: 1\n",
      "Train Loss: 0.7039919644594193\n",
      "Val Loss: 0.6467592716217041\n",
      "Epoch: 2\n",
      "Train Loss: 0.6690189093351364\n",
      "Val Loss: 0.6420948505401611\n",
      "Epoch: 3\n",
      "Train Loss: 0.6486980766057968\n",
      "Val Loss: 0.6281218528747559\n",
      "Epoch: 4\n",
      "Train Loss: 0.6375310570001602\n",
      "Val Loss: 0.6391260027885437\n",
      "Epoch: 5\n",
      "Train Loss: 0.6010661423206329\n",
      "Val Loss: 0.5935619473457336\n",
      "Epoch: 6\n",
      "Train Loss: 0.5803546458482742\n",
      "Val Loss: 0.593377947807312\n",
      "Epoch: 7\n",
      "Train Loss: 0.5816204026341438\n",
      "Val Loss: 0.5753865242004395\n",
      "Epoch: 8\n",
      "Train Loss: 0.552899107336998\n",
      "Val Loss: 0.5523172616958618\n",
      "Epoch: 9\n",
      "Train Loss: 0.5427396073937416\n",
      "Val Loss: 0.5505658388137817\n",
      "Epoch: 10\n",
      "Train Loss: 0.5310455933213234\n",
      "Val Loss: 0.5274636745452881\n",
      "Epoch: 11\n",
      "Train Loss: 0.5128506794571877\n",
      "Val Loss: 0.5173777937889099\n",
      "Epoch: 12\n",
      "Train Loss: 0.4972594231367111\n",
      "Val Loss: 0.5048328042030334\n",
      "Epoch: 13\n",
      "Train Loss: 0.4774666056036949\n",
      "Val Loss: 0.48740139603614807\n",
      "Epoch: 14\n",
      "Train Loss: 0.45318156480789185\n",
      "Val Loss: 0.47113358974456787\n",
      "Epoch: 15\n",
      "Train Loss: 0.4313502535223961\n",
      "Val Loss: 0.4586739242076874\n",
      "Epoch: 16\n",
      "Train Loss: 0.4079723507165909\n",
      "Val Loss: 0.43274495005607605\n",
      "Epoch: 17\n",
      "Train Loss: 0.3740198016166687\n",
      "Val Loss: 0.4242854714393616\n",
      "Epoch: 18\n",
      "Train Loss: 0.3449992164969444\n",
      "Val Loss: 0.40601858496665955\n",
      "Epoch: 19\n",
      "Train Loss: 0.31515850126743317\n",
      "Val Loss: 0.3842335641384125\n",
      "Epoch: 20\n",
      "Train Loss: 0.3098338767886162\n",
      "Val Loss: 0.417904794216156\n",
      "Epoch: 21\n",
      "Train Loss: 0.34280455857515335\n",
      "Val Loss: 0.3868720531463623\n",
      "Epoch: 22\n",
      "Train Loss: 0.2964206337928772\n",
      "Val Loss: 0.35682106018066406\n",
      "Epoch: 23\n",
      "Train Loss: 0.2620032876729965\n",
      "Val Loss: 0.3309045135974884\n",
      "Epoch: 24\n",
      "Train Loss: 0.236905749887228\n",
      "Val Loss: 0.30177339911460876\n",
      "Epoch: 25\n",
      "Train Loss: 0.2137598916888237\n",
      "Val Loss: 0.30017104744911194\n",
      "Epoch: 26\n",
      "Train Loss: 0.1944989711046219\n",
      "Val Loss: 0.29568278789520264\n",
      "Epoch: 27\n",
      "Train Loss: 0.1837373524904251\n",
      "Val Loss: 0.31645020842552185\n",
      "Epoch: 28\n",
      "Train Loss: 0.17690416797995567\n",
      "Val Loss: 0.3101828098297119\n",
      "Epoch: 29\n",
      "Train Loss: 0.16220734640955925\n",
      "Val Loss: 0.32354870438575745\n",
      "Epoch: 30\n",
      "Train Loss: 0.1573850568383932\n",
      "Val Loss: 0.3890196979045868\n",
      "Epoch: 31\n",
      "Train Loss: 0.1769597064703703\n",
      "Val Loss: 0.3756367266178131\n",
      "Epoch: 32\n",
      "Train Loss: 0.23158249258995056\n",
      "Val Loss: 0.20890478789806366\n",
      "Epoch: 33\n",
      "Train Loss: 0.1819092370569706\n",
      "Val Loss: 0.3205166459083557\n",
      "Epoch: 34\n",
      "Train Loss: 0.16727258451282978\n",
      "Val Loss: 0.3123346269130707\n",
      "Epoch: 35\n",
      "Train Loss: 0.1401234157383442\n",
      "Val Loss: 0.22031861543655396\n",
      "Epoch: 36\n",
      "Train Loss: 0.10803118906915188\n",
      "Val Loss: 0.1708572953939438\n",
      "Epoch: 37\n",
      "Train Loss: 0.08083475939929485\n",
      "Val Loss: 0.1487581878900528\n",
      "Epoch: 38\n",
      "Train Loss: 0.06871995329856873\n",
      "Val Loss: 0.12309113144874573\n",
      "Epoch: 39\n",
      "Train Loss: 0.05545209348201752\n",
      "Val Loss: 0.1246693879365921\n",
      "Epoch: 40\n",
      "Train Loss: 0.045393367763608694\n",
      "Val Loss: 0.10282102227210999\n",
      "Epoch: 41\n",
      "Train Loss: 0.03869247063994408\n",
      "Val Loss: 0.10817833989858627\n",
      "Epoch: 42\n",
      "Train Loss: 0.03284364566206932\n",
      "Val Loss: 0.09512032568454742\n",
      "Epoch: 43\n",
      "Train Loss: 0.028555157594382763\n",
      "Val Loss: 0.11415079981088638\n",
      "Epoch: 44\n",
      "Train Loss: 0.02686949074268341\n",
      "Val Loss: 0.08960585296154022\n",
      "Epoch: 45\n",
      "Train Loss: 0.023505539866164327\n",
      "Val Loss: 0.13463714718818665\n",
      "Epoch: 46\n",
      "Train Loss: 0.03010966908186674\n",
      "Val Loss: 0.08529316633939743\n",
      "Epoch: 47\n",
      "Train Loss: 0.022284579696133733\n",
      "Val Loss: 0.09634070098400116\n",
      "Epoch: 48\n",
      "Train Loss: 0.03255509119480848\n",
      "Val Loss: 0.16952286660671234\n",
      "Epoch: 49\n",
      "Train Loss: 0.027388048823922873\n",
      "Val Loss: 0.08553136140108109\n",
      "Epoch: 50\n",
      "Train Loss: 0.018774732248857617\n",
      "Val Loss: 0.1092706248164177\n",
      "Epoch: 51\n",
      "Train Loss: 0.014227177016437054\n",
      "Val Loss: 0.0890563502907753\n",
      "Epoch: 52\n",
      "Train Loss: 0.01165992603637278\n",
      "Val Loss: 0.09486737847328186\n",
      "Epoch: 53\n",
      "Train Loss: 0.00972909526899457\n",
      "Val Loss: 0.0917075127363205\n",
      "Epoch: 54\n",
      "Train Loss: 0.007432500831782818\n",
      "Val Loss: 0.07912853360176086\n",
      "Epoch: 55\n",
      "Train Loss: 0.007347498321905732\n",
      "Val Loss: 0.08882135897874832\n",
      "Epoch: 56\n",
      "Train Loss: 0.007111231447197497\n",
      "Val Loss: 0.08407925814390182\n",
      "Epoch: 57\n",
      "Train Loss: 0.0064332818146795034\n",
      "Val Loss: 0.08611562848091125\n",
      "Epoch: 58\n",
      "Train Loss: 0.005626088299322873\n",
      "Val Loss: 0.07498519122600555\n",
      "Epoch: 59\n",
      "Train Loss: 0.005083558848127723\n",
      "Val Loss: 0.07560156285762787\n",
      "Epoch: 60\n",
      "Train Loss: 0.004429572261869907\n",
      "Val Loss: 0.06982788443565369\n",
      "Epoch: 61\n",
      "Train Loss: 0.0033801159588620067\n",
      "Val Loss: 0.06961509585380554\n",
      "Epoch: 62\n",
      "Train Loss: 0.0028298088582232594\n",
      "Val Loss: 0.07619695365428925\n",
      "Epoch: 63\n",
      "Train Loss: 0.0026485559646971524\n",
      "Val Loss: 0.06935957819223404\n",
      "Epoch: 64\n",
      "Train Loss: 0.002445337420795113\n",
      "Val Loss: 0.06899397820234299\n",
      "Epoch: 65\n",
      "Train Loss: 0.002197986643295735\n",
      "Val Loss: 0.07152863591909409\n",
      "Epoch: 66\n",
      "Train Loss: 0.002029384719207883\n",
      "Val Loss: 0.06816156953573227\n",
      "Epoch: 67\n",
      "Train Loss: 0.001933163934154436\n",
      "Val Loss: 0.06857071816921234\n",
      "Epoch: 68\n",
      "Train Loss: 0.0018099209992215037\n",
      "Val Loss: 0.07002175599336624\n",
      "Epoch: 69\n",
      "Train Loss: 0.0017137666291091591\n",
      "Val Loss: 0.06790854036808014\n",
      "Epoch: 70\n",
      "Train Loss: 0.0016345727781299502\n",
      "Val Loss: 0.06793740391731262\n",
      "Epoch: 71\n",
      "Train Loss: 0.0015562738699372858\n",
      "Val Loss: 0.06921174377202988\n",
      "Epoch: 72\n",
      "Train Loss: 0.0014851809246465564\n",
      "Val Loss: 0.068507120013237\n",
      "Epoch: 73\n",
      "Train Loss: 0.0014211512170732021\n",
      "Val Loss: 0.06827748566865921\n",
      "Epoch: 74\n",
      "Train Loss: 0.0013666232698597014\n",
      "Val Loss: 0.06892038136720657\n",
      "Epoch: 75\n",
      "Train Loss: 0.001313726301304996\n",
      "Val Loss: 0.06860416382551193\n",
      "Epoch: 76\n",
      "Train Loss: 0.0012608843971975148\n",
      "Val Loss: 0.06834030896425247\n",
      "Epoch: 77\n",
      "Train Loss: 0.00121570925693959\n",
      "Val Loss: 0.06877005845308304\n",
      "Epoch: 78\n",
      "Train Loss: 0.0011727929377229884\n",
      "Val Loss: 0.06870413571596146\n",
      "Epoch: 79\n",
      "Train Loss: 0.0011310564877931029\n",
      "Val Loss: 0.06832724064588547\n",
      "Epoch: 80\n",
      "Train Loss: 0.001093237238819711\n",
      "Val Loss: 0.06839975714683533\n",
      "Epoch: 81\n",
      "Train Loss: 0.0010564112308202311\n",
      "Val Loss: 0.06850193440914154\n",
      "Epoch: 82\n",
      "Train Loss: 0.001021085845422931\n",
      "Val Loss: 0.06834617257118225\n",
      "Epoch: 83\n",
      "Train Loss: 0.0009884613536996767\n",
      "Val Loss: 0.06829274445772171\n",
      "Epoch: 84\n",
      "Train Loss: 0.0009581718040863052\n",
      "Val Loss: 0.06826518476009369\n",
      "Epoch: 85\n",
      "Train Loss: 0.0009282320097554475\n",
      "Val Loss: 0.06825117766857147\n",
      "Epoch: 86\n",
      "Train Loss: 0.0008997278055176139\n",
      "Val Loss: 0.06812742352485657\n",
      "Epoch: 87\n",
      "Train Loss: 0.0008728357788641006\n",
      "Val Loss: 0.0681198313832283\n",
      "Epoch: 88\n",
      "Train Loss: 0.0008473390043945983\n",
      "Val Loss: 0.06817079335451126\n",
      "Epoch: 89\n",
      "Train Loss: 0.0008232031686929986\n",
      "Val Loss: 0.06804384291172028\n",
      "Epoch: 90\n",
      "Train Loss: 0.0008000159868970513\n",
      "Val Loss: 0.0679994747042656\n",
      "Epoch: 91\n",
      "Train Loss: 0.000777731605921872\n",
      "Val Loss: 0.06805844604969025\n",
      "Epoch: 92\n",
      "Train Loss: 0.0007562781975138932\n",
      "Val Loss: 0.0680689662694931\n",
      "Epoch: 93\n",
      "Train Loss: 0.0007358446309808642\n",
      "Val Loss: 0.06803855299949646\n",
      "Epoch: 94\n",
      "Train Loss: 0.0007166674040490761\n",
      "Val Loss: 0.06796898692846298\n",
      "Epoch: 95\n",
      "Train Loss: 0.0006979344761930406\n",
      "Val Loss: 0.06801062822341919\n",
      "Epoch: 96\n",
      "Train Loss: 0.0006797496607759967\n",
      "Val Loss: 0.06803498417139053\n",
      "Epoch: 97\n",
      "Train Loss: 0.0006625723326578736\n",
      "Val Loss: 0.067912757396698\n",
      "Epoch: 98\n",
      "Train Loss: 0.0006461041339207441\n",
      "Val Loss: 0.06792353093624115\n",
      "Epoch: 99\n",
      "Train Loss: 0.0006303030968410894\n",
      "Val Loss: 0.06798487156629562\n"
     ]
    }
   ],
   "source": [
    "# Train\n",
    "history = train(model, criterion, opt, torch.Tensor(x_train_r), torch.Tensor(y_train), torch.Tensor(x_val_r), torch.Tensor(y_val), num_epochs=100, mini_batch_size=x_train_r.shape[0] // 4)"
   ]
  },
  {
   "cell_type": "code",
   "execution_count": 99,
   "metadata": {
    "colab": {
     "base_uri": "https://localhost:8080/",
     "height": 296
    },
    "executionInfo": {
     "elapsed": 358,
     "status": "ok",
     "timestamp": 1622564183139,
     "user": {
      "displayName": "Moritz Waldleben",
      "photoUrl": "",
      "userId": "09098551526927023625"
     },
     "user_tz": -120
    },
    "id": "WynuMF65SpN2",
    "outputId": "22f6c405-ded0-4072-f1d9-d2fae18967fa"
   },
   "outputs": [
    {
     "data": {
      "text/plain": [
       "<matplotlib.legend.Legend at 0x20725dc6a10>"
      ]
     },
     "execution_count": 99,
     "metadata": {},
     "output_type": "execute_result"
    },
    {
     "data": {
      "image/png": "[encoded data removed]",
      "text/plain": [
       "<Figure size 432x288 with 1 Axes>"
      ]
     },
     "metadata": {
      "needs_background": "light"
     },
     "output_type": "display_data"
    }
   ],
   "source": [
    "# Plot losses\n",
    "train_loss = history['train_loss']\n",
    "val_loss = history['val_loss']\n",
    "\n",
    "plt.figure()\n",
    "plt.clf()\n",
    "plt.xlabel('Epochs')\n",
    "plt.ylabel('Loss')\n",
    "plt.plot(np.arange(0, len(train_loss)), train_loss, color='r', label='training loss')\n",
    "plt.plot(np.arange(0, len(val_loss)), val_loss, color='g', label='validation loss')\n",
    "plt.legend()"
   ]
  },
  {
   "cell_type": "markdown",
   "metadata": {
    "id": "S4aIH6cDSpN3"
   },
   "source": [
    "### 3.3 Evaluate Accuracy\n",
    "Compare how the model performs on the test dataset:"
   ]
  },
  {
   "cell_type": "code",
   "execution_count": 100,
   "metadata": {},
   "outputs": [],
   "source": [
    "# Evaluate the model\n",
    "def evaluate(model, x_test, y_test):\n",
    "    y_pred = model(x_test).detach()\n",
    "    res = np.argmax(y_pred, axis = 1) \n",
    "    \n",
    "    target = np.argmax(y_test, axis = 1)\n",
    "    train_acc = torch.sum(res == target) / x_test.size(0)\n",
    "\n",
    "    return train_acc"
   ]
  },
  {
   "cell_type": "code",
   "execution_count": 101,
   "metadata": {
    "colab": {
     "base_uri": "https://localhost:8080/"
    },
    "executionInfo": {
     "elapsed": 2257,
     "status": "ok",
     "timestamp": 1622564195573,
     "user": {
      "displayName": "Moritz Waldleben",
      "photoUrl": "",
      "userId": "09098551526927023625"
     },
     "user_tz": -120
    },
    "id": "WXofm6U9SpN4",
    "outputId": "35b0cb35-0715-48fa-8933-f366f46837de"
   },
   "outputs": [
    {
     "name": "stdout",
     "output_type": "stream",
     "text": [
      "Evaluate model:\n",
      "Test accuracy: 96.44%\n"
     ]
    }
   ],
   "source": [
    "print('Evaluate model:')\n",
    "#results = model.evaluate(x_test_r, y_test)\n",
    "accuracy = evaluate(model, torch.Tensor(x_test_r), torch.Tensor(y_test))\n",
    "#print('Test loss: {:f}'.format(results[0]))\n",
    "print('Test accuracy: {:.2f}%'.format(accuracy * 100))"
   ]
  },
  {
   "cell_type": "code",
   "execution_count": 104,
   "metadata": {
    "colab": {
     "base_uri": "https://localhost:8080/",
     "height": 303
    },
    "executionInfo": {
     "elapsed": 1858,
     "status": "ok",
     "timestamp": 1622564203469,
     "user": {
      "displayName": "Moritz Waldleben",
      "photoUrl": "",
      "userId": "09098551526927023625"
     },
     "user_tz": -120
    },
    "id": "Joyq3LJmSpN5",
    "outputId": "571c9e34-a7bd-4ce3-cde4-b837282ba9dd"
   },
   "outputs": [
    {
     "data": {
      "text/plain": [
       "<matplotlib.image.AxesImage at 0x20725f14400>"
      ]
     },
     "execution_count": 104,
     "metadata": {},
     "output_type": "execute_result"
    },
    {
     "data": {
      "image/png": "[encoded data removed]",
      "text/plain": [
       "<Figure size 432x288 with 1 Axes>"
      ]
     },
     "metadata": {
      "needs_background": "light"
     },
     "output_type": "display_data"
    }
   ],
   "source": [
    "# Plot a confusion matrix\n",
    "y_pred = model(torch.Tensor(x_test_r)).detach()\n",
    "\n",
    "y_pred_class_n = np.argmax(y_pred, axis=1)\n",
    "y_true_class_n = np.argmax(y_test, axis=1)\n",
    "\n",
    "#accuracy = accuracy_score(y_true_class_n, y_pred_class_n)\n",
    "#np.set_printoptions(precision=2)\n",
    "#print(\"Accuracy = {:.2f}%\".format(accuracy * 100))\n",
    "\n",
    "cm = confusion_matrix(y_true_class_n, y_pred_class_n, labels=[0,1,2])\n",
    "\n",
    "# Loop over data dimensions and create text annotations.\n",
    "thresh = cm.max() / 2.\n",
    "for i in range(cm.shape[0]):\n",
    "    for j in range(cm.shape[1]):\n",
    "        plt.text(j, i, format(cm[i, j], 'd'),\n",
    "                ha=\"center\", va=\"center\",\n",
    "                color=\"white\" if cm[i, j] > thresh else \"black\")\n",
    "\n",
    "plt.imshow(cm, cmap=plt.cm.Blues)"
   ]
  },
  {
   "cell_type": "markdown",
   "metadata": {
    "id": "zLO4GMgiSpN6"
   },
   "source": [
    "### 3.4 Save the model"
   ]
  },
  {
   "cell_type": "code",
   "execution_count": 106,
   "metadata": {
    "id": "4yXQZ3m7SpN7"
   },
   "outputs": [],
   "source": [
    "# Save the model into an HDF5 file ‘model.h5’\n",
    "#model.save('wmc.h5')\n",
    "torch.save(model.state_dict(), 'wmc_new.pth')"
   ]
  }
 ],
 "metadata": {
  "colab": {
   "name": "acoustic_scene_classification512.ipynb",
   "provenance": [],
   "toc_visible": true
  },
  "file_extension": ".py",
  "kernelspec": {
   "display_name": "Python 3.10.4 64-bit",
   "language": "python",
   "name": "python3"
  },
  "language_info": {
   "codemirror_mode": {
    "name": "ipython",
    "version": 3
   },
   "file_extension": ".py",
   "mimetype": "text/x-python",
   "name": "python",
   "nbconvert_exporter": "python",
   "pygments_lexer": "ipython3",
   "version": "3.10.4"
  },
  "mimetype": "text/x-python",
  "name": "python",
  "npconvert_exporter": "python",
  "pygments_lexer": "ipython3",
  "version": 3,
  "vscode": {
   "interpreter": {
    "hash": "156834c5d1080ff0c02c47ca6eec2f6edc8c4c7adce294369f0a57723b7397e9"
   }
  }
 },
 "nbformat": 4,
 "nbformat_minor": 1
}
