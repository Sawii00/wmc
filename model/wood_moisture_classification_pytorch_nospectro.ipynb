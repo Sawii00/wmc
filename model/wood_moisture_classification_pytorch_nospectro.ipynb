{
 "cells": [
  {
   "cell_type": "markdown",
   "metadata": {},
   "source": [
    "# Wood moisture classification (wmc) model creation pipeline"
   ]
  },
  {
   "cell_type": "markdown",
   "metadata": {},
   "source": [
    "The following code is adapted from the FP-AI-SENSING1 application of ST microelectronics"
   ]
  },
  {
   "cell_type": "code",
   "execution_count": 1,
   "metadata": {
    "executionInfo": {
     "elapsed": 4406,
     "status": "ok",
     "timestamp": 1622629793582,
     "user": {
      "displayName": "Moritz Waldleben",
      "photoUrl": "",
      "userId": "09098551526927023625"
     },
     "user_tz": -120
    },
    "id": "swA6t4wgSpNa"
   },
   "outputs": [],
   "source": [
    "import numpy as np\n",
    "import os\n",
    "from tqdm import tqdm\n",
    "import librosa\n",
    "import librosa.display\n",
    "import librosa.util\n",
    "#from IPython.display import Audio\n",
    "import matplotlib.pyplot as plt\n",
    "from sklearn import preprocessing\n",
    "from sklearn.metrics import confusion_matrix\n",
    "from sklearn.metrics import accuracy_score\n",
    "from sklearn.model_selection import train_test_split\n",
    "#import tensorflow as tf\n",
    "#import keras.utils\n",
    "#from keras import layers\n",
    "#from keras import models\n",
    "#from keras import optimizers\n",
    "from pickle import dump\n",
    "import random\n",
    "\n",
    "\n",
    "import torch\n",
    "import torch.utils"
   ]
  },
  {
   "cell_type": "code",
   "execution_count": 76,
   "metadata": {
    "colab": {
     "base_uri": "https://localhost:8080/"
    },
    "executionInfo": {
     "elapsed": 295,
     "status": "ok",
     "timestamp": 1622629798189,
     "user": {
      "displayName": "Moritz Waldleben",
      "photoUrl": "",
      "userId": "09098551526927023625"
     },
     "user_tz": -120
    },
    "id": "hJV-tuxQSpNd",
    "outputId": "21734d6b-14ca-46dc-fac1-2fe806b72d1f",
    "scrolled": true
   },
   "outputs": [
    {
     "name": "stdout",
     "output_type": "stream",
     "text": [
      "Librosa: 0.9.2\n"
     ]
    }
   ],
   "source": [
    "# Current version (for reproduction)\n",
    "#print(\"TensorFlow:\", tf.__version__)\n",
    "#print(\"Keras:\", keras.__version__)\n",
    "print(\"Librosa:\", librosa.__version__)"
   ]
  },
  {
   "cell_type": "markdown",
   "metadata": {},
   "source": [
    "## Global settings\n",
    "__Important:__ These settings have to match the ones in the STM32 application."
   ]
  },
  {
   "cell_type": "code",
   "execution_count": 2,
   "metadata": {},
   "outputs": [],
   "source": [
    "AUDIO_SAMPLING_FREQUENCY = 48000 # kHz \n",
    "NB_FRAMES = 32 # How many columns for the short time fourier transformation\n",
    "NB_BINS = 30 # Resolution (bins) of one STFT column\n",
    "HOP_LENGTH = 512 # Jumps between FFT frames\n",
    "WINDOW_SIZE = HOP_LENGTH*NB_FRAMES + HOP_LENGTH # For one spectrogram column 1024 samples are needed\n",
    "NB_WINDOWS = 100 # Total number of windwo recorded in one WAV file\n",
    "FRAME_SIZE = 1024 # Size for one FFT\n",
    "FREQ_MIN = 5000 # Lowest bin for the columns\n",
    "TOP_DB = 80 # Cut off of DBs"
   ]
  },
  {
   "cell_type": "markdown",
   "metadata": {
    "id": "NbcriJ54SpNe"
   },
   "source": [
    "## 1. Import and convert the data\n",
    "Load the files from the data directory. The labels for the files are specified in model/dataset/labels.txt."
   ]
  },
  {
   "cell_type": "code",
   "execution_count": 3,
   "metadata": {
    "colab": {
     "base_uri": "https://localhost:8080/"
    },
    "executionInfo": {
     "elapsed": 8263,
     "status": "ok",
     "timestamp": 1622629865632,
     "user": {
      "displayName": "Moritz Waldleben",
      "photoUrl": "",
      "userId": "09098551526927023625"
     },
     "user_tz": -120
    },
    "id": "MavxVlcfSpNf",
    "outputId": "e41d3511-2053-4e9c-bec1-5dd0dc2b2263",
    "scrolled": true
   },
   "outputs": [
    {
     "name": "stderr",
     "output_type": "stream",
     "text": [
      "100%|██████████| 18/18 [00:01<00:00, 13.47it/s]\n"
     ]
    }
   ],
   "source": [
    "dataset_dir = './dataset'\n",
    "fileset_path = path = os.path.join(dataset_dir, 'labels.txt')\n",
    "fileset = np.loadtxt(fileset_path, dtype=str)\n",
    "\n",
    "# 3 classes : 0 dry, 1 semiwet, 2 wet\n",
    "class_names = ['dry', 'semiwet', 'wet']\n",
    "labels = {\n",
    "    'dry' : 0,\n",
    "    'semiwet' : 1,\n",
    "    'wet' : 2,\n",
    "}\n",
    "\n",
    "\n",
    "# x is a list of the recordings and y is a list of the respective labels (targets)\n",
    "x = []\n",
    "y = []\n",
    "\n",
    "# Iteratate over all recordings defined in labels.txt\n",
    "for file in tqdm(fileset):\n",
    "    file_path, file_label = file\n",
    "    file_path = os.path.join(dataset_dir, file_path)\n",
    "    \n",
    "    signal, _ = librosa.load(file_path, sr=AUDIO_SAMPLING_FREQUENCY, mono=True, dtype=np.float32)   \n",
    "    # Cut off total samples because recording takes a bit more samples\n",
    "    signal = signal[0:NB_WINDOWS*WINDOW_SIZE]\n",
    "    \n",
    "    label = labels[file_label]\n",
    "    \n",
    "    x.append(signal)\n",
    "    y.append(label)"
   ]
  },
  {
   "cell_type": "code",
   "execution_count": 79,
   "metadata": {
    "colab": {
     "base_uri": "https://localhost:8080/",
     "height": 244
    },
    "executionInfo": {
     "elapsed": 24,
     "status": "ok",
     "timestamp": 1622629865634,
     "user": {
      "displayName": "Moritz Waldleben",
      "photoUrl": "",
      "userId": "09098551526927023625"
     },
     "user_tz": -120
    },
    "id": "hFdOVcrrSpNg",
    "outputId": "c9c54745-a65d-4f8c-e36b-7348866fcfd1"
   },
   "outputs": [
    {
     "ename": "AttributeError",
     "evalue": "module 'librosa.display' has no attribute 'waveplot'",
     "output_type": "error",
     "traceback": [
      "\u001b[1;31m---------------------------------------------------------------------------\u001b[0m",
      "\u001b[1;31mAttributeError\u001b[0m                            Traceback (most recent call last)",
      "\u001b[1;32md:\\EPFL\\wmc\\model\\wood_moisture_classification_pytorch.ipynb Cell 9\u001b[0m in \u001b[0;36m<cell line: 8>\u001b[1;34m()\u001b[0m\n\u001b[0;32m      <a href='vscode-notebook-cell:/d%3A/EPFL/wmc/model/wood_moisture_classification_pytorch.ipynb#ch0000008?line=5'>6</a>\u001b[0m plt\u001b[39m.\u001b[39mfigure(figsize\u001b[39m=\u001b[39m(\u001b[39m12\u001b[39m, \u001b[39m2\u001b[39m))\n\u001b[0;32m      <a href='vscode-notebook-cell:/d%3A/EPFL/wmc/model/wood_moisture_classification_pytorch.ipynb#ch0000008?line=6'>7</a>\u001b[0m plt\u001b[39m.\u001b[39mtitle(class_names[y[\u001b[39m1\u001b[39m]])\n\u001b[1;32m----> <a href='vscode-notebook-cell:/d%3A/EPFL/wmc/model/wood_moisture_classification_pytorch.ipynb#ch0000008?line=7'>8</a>\u001b[0m librosa\u001b[39m.\u001b[39;49mdisplay\u001b[39m.\u001b[39;49mwaveplot(window, sr\u001b[39m=\u001b[39mAUDIO_SAMPLING_FREQUENCY)\n\u001b[0;32m      <a href='vscode-notebook-cell:/d%3A/EPFL/wmc/model/wood_moisture_classification_pytorch.ipynb#ch0000008?line=8'>9</a>\u001b[0m Audio(window, rate\u001b[39m=\u001b[39mAUDIO_SAMPLING_FREQUENCY)\n",
      "\u001b[1;31mAttributeError\u001b[0m: module 'librosa.display' has no attribute 'waveplot'"
     ]
    },
    {
     "data": {
      "image/png": "[encoded data removed]",
      "text/plain": [
       "<Figure size 864x144 with 1 Axes>"
      ]
     },
     "metadata": {
      "needs_background": "light"
     },
     "output_type": "display_data"
    }
   ],
   "source": [
    "# Check a random sample of first recording\n",
    "rand = random.randint(0, NB_FRAMES)\n",
    "recording1 = x[1]\n",
    "window = recording1[WINDOW_SIZE*rand:WINDOW_SIZE*(rand+1)]\n",
    "\n",
    "plt.figure(figsize=(12, 2))\n",
    "plt.title(class_names[y[1]])\n",
    "librosa.display.waveplot(window, sr=AUDIO_SAMPLING_FREQUENCY)\n",
    "Audio(window, rate=AUDIO_SAMPLING_FREQUENCY)"
   ]
  },
  {
   "cell_type": "markdown",
   "metadata": {
    "id": "zDf566vISpNi"
   },
   "source": [
    "## 2. Prepare the data"
   ]
  },
  {
   "cell_type": "markdown",
   "metadata": {
    "id": "aNYSxUQmSpNj"
   },
   "source": [
    "### 2.1 Slice data into windows\n",
    "Each audio recording (WAV file) contains the specified number of windows (NB_WINDOWS).\n",
    "\n",
    "Each window will contain 16,896 samples (32 * 512 + 512) to create a 32 column spectrogram with FRAME_SIZE=1024 and HOP_LENGTH=512."
   ]
  },
  {
   "cell_type": "code",
   "execution_count": 4,
   "metadata": {
    "colab": {
     "base_uri": "https://localhost:8080/"
    },
    "executionInfo": {
     "elapsed": 433,
     "status": "ok",
     "timestamp": 1622629866056,
     "user": {
      "displayName": "Moritz Waldleben",
      "photoUrl": "",
      "userId": "09098551526927023625"
     },
     "user_tz": -120
    },
    "id": "S6P_OY1_SpNj",
    "outputId": "e64ca577-9a3a-4181-edaf-b6399fd1a521"
   },
   "outputs": [
    {
     "name": "stdout",
     "output_type": "stream",
     "text": [
      "x_windows shape:  (1800, 16896)\n",
      "y_windows shape:  (1800,)\n"
     ]
    }
   ],
   "source": [
    "# Each window will now be an entry in the list\n",
    "x_windows = []\n",
    "y_windows = []\n",
    "\n",
    "# Iteratate over all recordings and create windows\n",
    "for i in range(len(x)):\n",
    "    x_tmp = np.asarray(x[i])    \n",
    "    for k  in range(NB_WINDOWS):\n",
    "        window = x_tmp[k*WINDOW_SIZE:(k+1)*WINDOW_SIZE]\n",
    "        x_windows.append(np.transpose(window)) \n",
    "    y_windows.append(np.full(NB_WINDOWS, y[i]))\n",
    "    \n",
    "# Convert into numpy arrays\n",
    "x_windows = np.asarray(x_windows)\n",
    "y_windows = np.asarray(y_windows)\n",
    "\n",
    "# Reshape labels \n",
    "y_windows = y_windows.reshape(y_windows.shape[0]*y_windows.shape[1], )\n",
    "\n",
    "print(\"x_windows shape: \", x_windows.shape) # Each window of 16,896 samples can be used to create a spectrogram \n",
    "print(\"y_windows shape: \", y_windows.shape) # Corresponding label for each window\n"
   ]
  },
  {
   "cell_type": "code",
   "execution_count": null,
   "metadata": {},
   "outputs": [],
   "source": []
  },
  {
   "cell_type": "markdown",
   "metadata": {
    "id": "BIltb4zKSpNt"
   },
   "source": [
    "### 2.3 Standardize features\n",
    "Standardize features by removing the mean and scaling to unit variance. Save the feature scalers to model/standardize."
   ]
  },
  {
   "cell_type": "code",
   "execution_count": 5,
   "metadata": {
    "colab": {
     "base_uri": "https://localhost:8080/"
    },
    "executionInfo": {
     "elapsed": 335,
     "status": "ok",
     "timestamp": 1622629919232,
     "user": {
      "displayName": "Moritz Waldleben",
      "photoUrl": "",
      "userId": "09098551526927023625"
     },
     "user_tz": -120
    },
    "id": "6ErZd1-9SpNu",
    "outputId": "6f9f92a8-b462-4145-9663-584396bb74f9"
   },
   "outputs": [],
   "source": [
    "'''# Flatten features for scaling\n",
    "x_features_r = np.reshape(x_features, (len(x_features), NB_BINS * NB_FRAMES))\n",
    "\n",
    "# Create a feature scaler\n",
    "scaler = preprocessing.StandardScaler().fit(x_features_r)\n",
    "mean = scaler.mean_\n",
    "std = scaler.scale_\n",
    "\n",
    "#  Save feature scaler\n",
    "standardize_dir = './standardize/'\n",
    "np.savetxt(standardize_dir + 'mean.csv', mean.reshape(240, 4),  fmt='%.10e', delimiter=\",\", newline=\",\\n\")\n",
    "np.savetxt(standardize_dir + 'std.csv', std.reshape(240, 4),  fmt='%.10e', delimiter=\",\", newline=\",\\n\")\n",
    "dump(scaler, open(standardize_dir + 'scaler.pkl', 'wb'))\n",
    "\n",
    "# Apply the feature scaler \n",
    "x_features_s = scaler.transform(x_features_r)\n",
    "\n",
    "print(\"x_features_s shape: \", x_features_s.shape)\n",
    "'''\n",
    "x_features_s = x_windows\n",
    "y_features = y_windows"
   ]
  },
  {
   "cell_type": "markdown",
   "metadata": {
    "id": "EmknsxPHSpNu"
   },
   "source": [
    "### 2.4 One hot encoding of labels\n",
    "Keras requires one hot encoded labels."
   ]
  },
  {
   "cell_type": "code",
   "execution_count": 6,
   "metadata": {},
   "outputs": [],
   "source": [
    "def to_categorical(x, n_classes):\n",
    "    return np.eye(n_classes, dtype='uint8')[x] "
   ]
  },
  {
   "cell_type": "code",
   "execution_count": 7,
   "metadata": {
    "colab": {
     "base_uri": "https://localhost:8080/"
    },
    "executionInfo": {
     "elapsed": 15,
     "status": "ok",
     "timestamp": 1622629919233,
     "user": {
      "displayName": "Moritz Waldleben",
      "photoUrl": "",
      "userId": "09098551526927023625"
     },
     "user_tz": -120
    },
    "id": "kKRdZqVkSpNv",
    "outputId": "974a2d8b-4087-49c3-8de8-5cf4b0a84c57"
   },
   "outputs": [
    {
     "name": "stdout",
     "output_type": "stream",
     "text": [
      "The shape of the one-hot encoded labels np array is:  (1800, 3)\n"
     ]
    }
   ],
   "source": [
    "# Convert labels to categorical one-hot encoding\n",
    "y_features_hot = to_categorical(y_features, n_classes=len(class_names))\n",
    "\n",
    "print('The shape of the one-hot encoded labels np array is: ' , y_features_hot.shape)"
   ]
  },
  {
   "cell_type": "markdown",
   "metadata": {},
   "source": [
    "### 2.5 Split data into training, validation and test\n",
    "Use 25% for testing. The remaining 75% of the features are split in 25% for validation and 75% for training."
   ]
  },
  {
   "cell_type": "code",
   "execution_count": 8,
   "metadata": {
    "colab": {
     "base_uri": "https://localhost:8080/"
    },
    "executionInfo": {
     "elapsed": 12,
     "status": "ok",
     "timestamp": 1622629919234,
     "user": {
      "displayName": "Moritz Waldleben",
      "photoUrl": "",
      "userId": "09098551526927023625"
     },
     "user_tz": -120
    },
    "id": "PAMVbvRQSpNw",
    "outputId": "b145e5de-845c-4807-c8c0-bcfb6763fdce"
   },
   "outputs": [
    {
     "name": "stdout",
     "output_type": "stream",
     "text": [
      "Training samples: (1012, 16896)\n",
      "Validation samples: (338, 16896)\n",
      "Test samples: (450, 16896)\n"
     ]
    }
   ],
   "source": [
    "#x_train, x_test, y_train, y_test = torch.utils.data.random_split(full_dataset, [train_size, test_size])\n",
    "x_train, x_test, y_train, y_test = train_test_split(x_features_s,\n",
    "                                                    y_features_hot,\n",
    "                                                    test_size=0.25,\n",
    "                                                    random_state=1)\n",
    "x_train, x_val, y_train, y_val = train_test_split(x_train,\n",
    "                                                  y_train,\n",
    "                                                  test_size=0.25,\n",
    "                                                  random_state=1)\n",
    "\n",
    "print('Training samples:', x_train.shape)\n",
    "print('Validation samples:', x_val.shape)\n",
    "print('Test samples:', x_test.shape)"
   ]
  },
  {
   "cell_type": "markdown",
   "metadata": {
    "id": "nnT3zHH5SpNw"
   },
   "source": [
    "### 2.6 (Optional) Save the features\n",
    "Save the features to a csv file in a format X-CUBE-AI can understand, that is, for each tensor, the values are in a flattened vector."
   ]
  },
  {
   "cell_type": "code",
   "execution_count": null,
   "metadata": {
    "colab": {
     "base_uri": "https://localhost:8080/",
     "height": 389
    },
    "executionInfo": {
     "elapsed": 208,
     "status": "error",
     "timestamp": 1622584291876,
     "user": {
      "displayName": "Moritz Waldleben",
      "photoUrl": "",
      "userId": "09098551526927023625"
     },
     "user_tz": -120
    },
    "id": "K6u0gusVSpNx",
    "outputId": "153eb835-a2e9-49bd-9b0d-33369a50d905"
   },
   "outputs": [],
   "source": [
    "#val_dir = './validation/'\n",
    "#np.savetxt(val_dir + 'x_train.csv', x_train.reshape(len(x_train), n_mels*n_stft_columns), delimiter=\",\")\n",
    "#np.savetxt(val_dir + 'y_train.csv', y_train, delimiter=\",\")\n",
    "#np.savetxt(val_dir + 'x_val.csv', x_val.reshape(len(x_val), n_mels*n_stft_columns), delimiter=\",\")\n",
    "#np.savetxt(val_dir + 'y_val.csv', y_val, delimiter=\",\")\n",
    "#np.savetxt(val_dir + 'x_test.csv', x_test.reshape(len(x_test), n_mels*n_stft_columns), delimiter=\",\")\n",
    "#np.savetxt(val_dir + 'y_test.csv', y_test, delimiter=\",\")"
   ]
  },
  {
   "cell_type": "markdown",
   "metadata": {
    "id": "1JXA_9ioSpNx"
   },
   "source": [
    "## 3 Model"
   ]
  },
  {
   "cell_type": "markdown",
   "metadata": {},
   "source": [
    "### 3.1 Create and compile model\n",
    "Build a sequential convolutional network classifier model"
   ]
  },
  {
   "cell_type": "code",
   "execution_count": 41,
   "metadata": {
    "colab": {
     "base_uri": "https://localhost:8080/"
    },
    "executionInfo": {
     "elapsed": 230,
     "status": "ok",
     "timestamp": 1622584300588,
     "user": {
      "displayName": "Moritz Waldleben",
      "photoUrl": "",
      "userId": "09098551526927023625"
     },
     "user_tz": -120
    },
    "id": "QTrT-JYcSpNy",
    "outputId": "95c4395a-4b2a-46fe-d99b-0b17569df70c"
   },
   "outputs": [
    {
     "data": {
      "text/plain": [
       "Sequential(\n",
       "  (0): Conv1d(1, 16, kernel_size=(32,), stride=(16,))\n",
       "  (1): ReLU()\n",
       "  (2): MaxPool1d(kernel_size=2, stride=2, padding=0, dilation=1, ceil_mode=False)\n",
       "  (3): Conv1d(16, 16, kernel_size=(16,), stride=(8,))\n",
       "  (4): ReLU()\n",
       "  (5): MaxPool1d(kernel_size=2, stride=2, padding=0, dilation=1, ceil_mode=False)\n",
       "  (6): Flatten(start_dim=1, end_dim=-1)\n",
       "  (7): Linear(in_features=512, out_features=9, bias=True)\n",
       "  (8): ReLU()\n",
       "  (9): Linear(in_features=9, out_features=3, bias=True)\n",
       ")"
      ]
     },
     "execution_count": 41,
     "metadata": {},
     "output_type": "execute_result"
    }
   ],
   "source": [
    "KERNEL_SIZE = 32\n",
    "MAXPOOL_FACT = 2\n",
    "STRIDE_FACT = KERNEL_SIZE // 2\n",
    "model = torch.nn.Sequential() #1x16896\n",
    "output_dim = 16896\n",
    "model.append(torch.nn.Conv1d(in_channels = 1, out_channels = 16, kernel_size = KERNEL_SIZE, stride=STRIDE_FACT)) #16x16896 - 512 + 1 \n",
    "output_dim = (output_dim - KERNEL_SIZE) // STRIDE_FACT + 1\n",
    "model.append(torch.nn.ReLU()) \n",
    "model.append(torch.nn.MaxPool1d(MAXPOOL_FACT)) #16x8192\n",
    "output_dim /= MAXPOOL_FACT\n",
    "model.append(torch.nn.Conv1d(in_channels = 16, out_channels=16, kernel_size=KERNEL_SIZE // 2, stride=STRIDE_FACT // 2)) #16x7681\n",
    "output_dim = (output_dim - KERNEL_SIZE // 2) // (STRIDE_FACT // 2)+ 1\n",
    "model.append(torch.nn.ReLU())\n",
    "model.append(torch.nn.MaxPool1d(MAXPOOL_FACT)) \n",
    "output_dim /= MAXPOOL_FACT\n",
    "model.append(torch.nn.Flatten())\n",
    "model.append(torch.nn.Linear(in_features = int(output_dim) * 16, out_features = 9))\n",
    "model.append(torch.nn.ReLU())\n",
    "model.append(torch.nn.Linear(in_features = 9, out_features = 3))\n",
    "#model.append(torch.nn.Softmax(-1))\n",
    "\n",
    "# Print model summary\n",
    "#model.summary()"
   ]
  },
  {
   "cell_type": "code",
   "execution_count": 42,
   "metadata": {
    "colab": {
     "base_uri": "https://localhost:8080/"
    },
    "executionInfo": {
     "elapsed": 191,
     "status": "ok",
     "timestamp": 1622584303019,
     "user": {
      "displayName": "Moritz Waldleben",
      "photoUrl": "",
      "userId": "09098551526927023625"
     },
     "user_tz": -120
    },
    "id": "bcAEaGEZSpNz",
    "outputId": "0c002540-5bbc-46c1-9adb-837433b46573"
   },
   "outputs": [],
   "source": [
    "# Compile model with choosing a loss and an omptimizer\n",
    "opt = torch.optim.Adam(params=model.parameters(), lr=0.01)\n",
    "criterion = torch.nn.CrossEntropyLoss()"
   ]
  },
  {
   "cell_type": "markdown",
   "metadata": {
    "id": "utFml4PCSpN0"
   },
   "source": [
    "###  3.2 Train the model"
   ]
  },
  {
   "cell_type": "code",
   "execution_count": 31,
   "metadata": {
    "executionInfo": {
     "elapsed": 298,
     "status": "ok",
     "timestamp": 1622629970642,
     "user": {
      "displayName": "Moritz Waldleben",
      "photoUrl": "",
      "userId": "09098551526927023625"
     },
     "user_tz": -120
    },
    "id": "6SKCOk-sSpN0"
   },
   "outputs": [
    {
     "name": "stdout",
     "output_type": "stream",
     "text": [
      "(1012, 1, 16896)\n",
      "(338, 1, 16896)\n",
      "(450, 1, 16896)\n"
     ]
    }
   ],
   "source": [
    "# NOTE: pytorch expects channel as second dimension\n",
    "x_train_r = x_train.reshape(x_train.shape[0], 1, -1)\n",
    "print(x_train_r.shape)\n",
    "x_val_r = x_val.reshape(x_val.shape[0], 1, -1)\n",
    "print(x_val_r.shape)\n",
    "x_test_r = x_test.reshape(x_test.shape[0], 1, -1)\n",
    "print(x_test_r.shape)"
   ]
  },
  {
   "cell_type": "code",
   "execution_count": 14,
   "metadata": {},
   "outputs": [],
   "source": [
    "def validate(model, criterion, val_input, val_target, device=\"cpu\"):\n",
    "    output = model(val_input.float().to(device))\n",
    "    loss = criterion(output, val_target.float().to(device))\n",
    "    return loss.item()\n",
    "\n",
    "\n",
    "def train(model, criterion, optimizer, train_input, train_target, val_input, val_target, num_epochs, mini_batch_size, device=\"cpu\"):\n",
    "    train_input, train_target = train_input.float().to(device), train_target.float().to(device)\n",
    "    loss_history = {\"train_loss\":[], \"val_loss\":[]}\n",
    "    for e in range(num_epochs):\n",
    "        print(f\"Epoch: {e}\")\n",
    "        avg_loss = 0\n",
    "        for b in range(0, train_input.size(0), mini_batch_size):\n",
    "            output = model(train_input.narrow(0, b, mini_batch_size).float().to(device))\n",
    "            loss = criterion(output, train_target.narrow(0, b, mini_batch_size).float().to(device))\n",
    "            avg_loss += loss.item()\n",
    "            optimizer.zero_grad()\n",
    "            loss.backward()\n",
    "            optimizer.step()\n",
    "        with torch.no_grad():\n",
    "            validate_loss = validate(model, criterion, val_input, val_target)\n",
    "        avg_loss /= (train_input.size(0) // mini_batch_size)\n",
    "        loss_history[\"train_loss\"].append(avg_loss)\n",
    "        loss_history[\"val_loss\"].append(validate_loss)\n",
    "        print(\"Train Loss:\", avg_loss)\n",
    "        print(\"Val Loss:\", validate_loss)\n",
    "    return loss_history"
   ]
  },
  {
   "cell_type": "code",
   "execution_count": 43,
   "metadata": {
    "colab": {
     "base_uri": "https://localhost:8080/"
    },
    "executionInfo": {
     "elapsed": 156425,
     "status": "ok",
     "timestamp": 1622564163167,
     "user": {
      "displayName": "Moritz Waldleben",
      "photoUrl": "",
      "userId": "09098551526927023625"
     },
     "user_tz": -120
    },
    "id": "ByUY6HpjSpN1",
    "outputId": "7d838b62-fc25-43ec-b18d-b2c675185fae",
    "scrolled": true
   },
   "outputs": [
    {
     "name": "stdout",
     "output_type": "stream",
     "text": [
      "Epoch: 0\n",
      "Train Loss: 1.1162858307361603\n",
      "Val Loss: 1.1010805368423462\n",
      "Epoch: 1\n",
      "Train Loss: 1.111158937215805\n",
      "Val Loss: 1.107470989227295\n",
      "Epoch: 2\n",
      "Train Loss: 1.1000036597251892\n",
      "Val Loss: 1.0966533422470093\n",
      "Epoch: 3\n",
      "Train Loss: 1.0972637236118317\n",
      "Val Loss: 1.094862937927246\n",
      "Epoch: 4\n",
      "Train Loss: 1.091703176498413\n",
      "Val Loss: 1.0905295610427856\n",
      "Epoch: 5\n",
      "Train Loss: 1.0840784907341003\n",
      "Val Loss: 1.079120397567749\n",
      "Epoch: 6\n",
      "Train Loss: 1.0668209791183472\n",
      "Val Loss: 1.0548334121704102\n",
      "Epoch: 7\n",
      "Train Loss: 1.03217813372612\n",
      "Val Loss: 0.9983969926834106\n",
      "Epoch: 8\n",
      "Train Loss: 0.9657645970582962\n",
      "Val Loss: 0.9213586449623108\n",
      "Epoch: 9\n",
      "Train Loss: 0.8871572613716125\n",
      "Val Loss: 0.8349977135658264\n",
      "Epoch: 10\n",
      "Train Loss: 0.8068578094244003\n",
      "Val Loss: 0.7660733461380005\n",
      "Epoch: 11\n",
      "Train Loss: 0.7496301829814911\n",
      "Val Loss: 0.7199703454971313\n",
      "Epoch: 12\n",
      "Train Loss: 0.7124340236186981\n",
      "Val Loss: 0.6892486810684204\n",
      "Epoch: 13\n",
      "Train Loss: 0.6866734623908997\n",
      "Val Loss: 0.6674550771713257\n",
      "Epoch: 14\n",
      "Train Loss: 0.6643679141998291\n",
      "Val Loss: 0.6459066867828369\n",
      "Epoch: 15\n",
      "Train Loss: 0.6401185989379883\n",
      "Val Loss: 0.6256922483444214\n",
      "Epoch: 16\n",
      "Train Loss: 0.6196846961975098\n",
      "Val Loss: 0.6093876957893372\n",
      "Epoch: 17\n",
      "Train Loss: 0.602772980928421\n",
      "Val Loss: 0.5958341956138611\n",
      "Epoch: 18\n",
      "Train Loss: 0.5869081765413284\n",
      "Val Loss: 0.5833232402801514\n",
      "Epoch: 19\n",
      "Train Loss: 0.5733457058668137\n",
      "Val Loss: 0.5701711177825928\n",
      "Epoch: 20\n",
      "Train Loss: 0.5600985139608383\n",
      "Val Loss: 0.5587477087974548\n",
      "Epoch: 21\n",
      "Train Loss: 0.5479959100484848\n",
      "Val Loss: 0.5483676791191101\n",
      "Epoch: 22\n",
      "Train Loss: 0.5365469753742218\n",
      "Val Loss: 0.5378108024597168\n",
      "Epoch: 23\n",
      "Train Loss: 0.5234420225024223\n",
      "Val Loss: 0.5276445746421814\n",
      "Epoch: 24\n",
      "Train Loss: 0.50985037535429\n",
      "Val Loss: 0.5130785703659058\n",
      "Epoch: 25\n",
      "Train Loss: 0.49347715824842453\n",
      "Val Loss: 0.49556952714920044\n",
      "Epoch: 26\n",
      "Train Loss: 0.47187257558107376\n",
      "Val Loss: 0.47496917843818665\n",
      "Epoch: 27\n",
      "Train Loss: 0.4496854990720749\n",
      "Val Loss: 0.45712876319885254\n",
      "Epoch: 28\n",
      "Train Loss: 0.43266409635543823\n",
      "Val Loss: 0.4395506680011749\n",
      "Epoch: 29\n",
      "Train Loss: 0.4166691228747368\n",
      "Val Loss: 0.4263013005256653\n",
      "Epoch: 30\n",
      "Train Loss: 0.4001983106136322\n",
      "Val Loss: 0.41374266147613525\n",
      "Epoch: 31\n",
      "Train Loss: 0.38463831692934036\n",
      "Val Loss: 0.4054630994796753\n",
      "Epoch: 32\n",
      "Train Loss: 0.37233130633831024\n",
      "Val Loss: 0.3934011459350586\n",
      "Epoch: 33\n",
      "Train Loss: 0.362405464053154\n",
      "Val Loss: 0.3768099844455719\n",
      "Epoch: 34\n",
      "Train Loss: 0.35040944814682007\n",
      "Val Loss: 0.3665072023868561\n",
      "Epoch: 35\n",
      "Train Loss: 0.3391144797205925\n",
      "Val Loss: 0.35797032713890076\n",
      "Epoch: 36\n",
      "Train Loss: 0.3300228416919708\n",
      "Val Loss: 0.3514084815979004\n",
      "Epoch: 37\n",
      "Train Loss: 0.32254708558321\n",
      "Val Loss: 0.34564200043678284\n",
      "Epoch: 38\n",
      "Train Loss: 0.3161776289343834\n",
      "Val Loss: 0.33742207288742065\n",
      "Epoch: 39\n",
      "Train Loss: 0.3096252381801605\n",
      "Val Loss: 0.32924139499664307\n",
      "Epoch: 40\n",
      "Train Loss: 0.30229779332876205\n",
      "Val Loss: 0.32354041934013367\n",
      "Epoch: 41\n",
      "Train Loss: 0.2963264286518097\n",
      "Val Loss: 0.32079648971557617\n",
      "Epoch: 42\n",
      "Train Loss: 0.29161399602890015\n",
      "Val Loss: 0.31919559836387634\n",
      "Epoch: 43\n",
      "Train Loss: 0.2876412868499756\n",
      "Val Loss: 0.3117177486419678\n",
      "Epoch: 44\n",
      "Train Loss: 0.283175740391016\n",
      "Val Loss: 0.3052038550376892\n",
      "Epoch: 45\n",
      "Train Loss: 0.277307465672493\n",
      "Val Loss: 0.30184122920036316\n",
      "Epoch: 46\n",
      "Train Loss: 0.27288419008255005\n",
      "Val Loss: 0.3017778992652893\n",
      "Epoch: 47\n",
      "Train Loss: 0.26999273151159286\n",
      "Val Loss: 0.3035486340522766\n",
      "Epoch: 48\n",
      "Train Loss: 0.2681584879755974\n",
      "Val Loss: 0.29396364092826843\n",
      "Epoch: 49\n",
      "Train Loss: 0.26356349140405655\n",
      "Val Loss: 0.28946417570114136\n",
      "Epoch: 50\n",
      "Train Loss: 0.2582218125462532\n",
      "Val Loss: 0.28873857855796814\n",
      "Epoch: 51\n",
      "Train Loss: 0.25440312176942825\n",
      "Val Loss: 0.2920917868614197\n",
      "Epoch: 52\n",
      "Train Loss: 0.2524879090487957\n",
      "Val Loss: 0.2901846170425415\n",
      "Epoch: 53\n",
      "Train Loss: 0.2501317039132118\n",
      "Val Loss: 0.2832697033882141\n",
      "Epoch: 54\n",
      "Train Loss: 0.24542058631777763\n",
      "Val Loss: 0.28087425231933594\n",
      "Epoch: 55\n",
      "Train Loss: 0.24137376621365547\n",
      "Val Loss: 0.28018122911453247\n",
      "Epoch: 56\n",
      "Train Loss: 0.23891228437423706\n",
      "Val Loss: 0.2866823673248291\n",
      "Epoch: 57\n",
      "Train Loss: 0.2372204214334488\n",
      "Val Loss: 0.283414751291275\n",
      "Epoch: 58\n",
      "Train Loss: 0.2346840761601925\n",
      "Val Loss: 0.27669474482536316\n",
      "Epoch: 59\n",
      "Train Loss: 0.230673149228096\n",
      "Val Loss: 0.27373138070106506\n",
      "Epoch: 60\n",
      "Train Loss: 0.22807304933667183\n",
      "Val Loss: 0.2829858064651489\n",
      "Epoch: 61\n",
      "Train Loss: 0.22637048363685608\n",
      "Val Loss: 0.28355318307876587\n",
      "Epoch: 62\n",
      "Train Loss: 0.22474964708089828\n",
      "Val Loss: 0.274610698223114\n",
      "Epoch: 63\n",
      "Train Loss: 0.22114958241581917\n",
      "Val Loss: 0.2711610198020935\n",
      "Epoch: 64\n",
      "Train Loss: 0.21918227523565292\n",
      "Val Loss: 0.2790597677230835\n",
      "Epoch: 65\n",
      "Train Loss: 0.21758122369647026\n",
      "Val Loss: 0.2831518352031708\n",
      "Epoch: 66\n",
      "Train Loss: 0.21590762957930565\n",
      "Val Loss: 0.27504390478134155\n",
      "Epoch: 67\n",
      "Train Loss: 0.21358242258429527\n",
      "Val Loss: 0.2706112861633301\n",
      "Epoch: 68\n",
      "Train Loss: 0.21232913807034492\n",
      "Val Loss: 0.27857616543769836\n",
      "Epoch: 69\n",
      "Train Loss: 0.2103634737432003\n",
      "Val Loss: 0.2813054919242859\n",
      "Epoch: 70\n",
      "Train Loss: 0.20858058705925941\n",
      "Val Loss: 0.27261683344841003\n",
      "Epoch: 71\n",
      "Train Loss: 0.20654777437448502\n",
      "Val Loss: 0.27029693126678467\n",
      "Epoch: 72\n",
      "Train Loss: 0.2052926942706108\n",
      "Val Loss: 0.27912986278533936\n",
      "Epoch: 73\n",
      "Train Loss: 0.20388247445225716\n",
      "Val Loss: 0.2785113751888275\n",
      "Epoch: 74\n",
      "Train Loss: 0.202455535531044\n",
      "Val Loss: 0.27386602759361267\n",
      "Epoch: 75\n",
      "Train Loss: 0.20128247514367104\n",
      "Val Loss: 0.27023059129714966\n",
      "Epoch: 76\n",
      "Train Loss: 0.20054099336266518\n",
      "Val Loss: 0.2802274227142334\n",
      "Epoch: 77\n",
      "Train Loss: 0.19929013773798943\n",
      "Val Loss: 0.2786247730255127\n",
      "Epoch: 78\n",
      "Train Loss: 0.1982560083270073\n",
      "Val Loss: 0.2735702097415924\n",
      "Epoch: 79\n",
      "Train Loss: 0.1971755363047123\n",
      "Val Loss: 0.2739609181880951\n",
      "Epoch: 80\n",
      "Train Loss: 0.1962738074362278\n",
      "Val Loss: 0.27921321988105774\n",
      "Epoch: 81\n",
      "Train Loss: 0.19547590240836143\n",
      "Val Loss: 0.27777954936027527\n",
      "Epoch: 82\n",
      "Train Loss: 0.19475610181689262\n",
      "Val Loss: 0.27730536460876465\n",
      "Epoch: 83\n",
      "Train Loss: 0.19406910240650177\n",
      "Val Loss: 0.27477598190307617\n",
      "Epoch: 84\n",
      "Train Loss: 0.19361619278788567\n",
      "Val Loss: 0.2793075740337372\n",
      "Epoch: 85\n",
      "Train Loss: 0.19289536029100418\n",
      "Val Loss: 0.2789126932621002\n",
      "Epoch: 86\n",
      "Train Loss: 0.1923656351864338\n",
      "Val Loss: 0.2844219207763672\n",
      "Epoch: 87\n",
      "Train Loss: 0.1919836513698101\n",
      "Val Loss: 0.2800665497779846\n",
      "Epoch: 88\n",
      "Train Loss: 0.19147447124123573\n",
      "Val Loss: 0.27656295895576477\n",
      "Epoch: 89\n",
      "Train Loss: 0.1910703219473362\n",
      "Val Loss: 0.28085917234420776\n",
      "Epoch: 90\n",
      "Train Loss: 0.19049536436796188\n",
      "Val Loss: 0.2850698232650757\n",
      "Epoch: 91\n",
      "Train Loss: 0.1901378594338894\n",
      "Val Loss: 0.2784491777420044\n",
      "Epoch: 92\n",
      "Train Loss: 0.18977712839841843\n",
      "Val Loss: 0.2839379906654358\n",
      "Epoch: 93\n",
      "Train Loss: 0.18926849216222763\n",
      "Val Loss: 0.28082075715065\n",
      "Epoch: 94\n",
      "Train Loss: 0.1890011876821518\n",
      "Val Loss: 0.2800871431827545\n",
      "Epoch: 95\n",
      "Train Loss: 0.18880510702729225\n",
      "Val Loss: 0.2808636724948883\n",
      "Epoch: 96\n",
      "Train Loss: 0.18873325735330582\n",
      "Val Loss: 0.28321442008018494\n",
      "Epoch: 97\n",
      "Train Loss: 0.1884874403476715\n",
      "Val Loss: 0.27822938561439514\n",
      "Epoch: 98\n",
      "Train Loss: 0.18972356989979744\n",
      "Val Loss: 0.3053741455078125\n",
      "Epoch: 99\n",
      "Train Loss: 0.18884044513106346\n",
      "Val Loss: 0.2870551645755768\n"
     ]
    }
   ],
   "source": [
    "# Train\n",
    "history = train(model, criterion, opt, torch.Tensor(x_train_r), torch.Tensor(y_train), torch.Tensor(x_val_r), torch.Tensor(y_val), num_epochs=100, mini_batch_size=x_train_r.shape[0] // 4)"
   ]
  },
  {
   "cell_type": "code",
   "execution_count": 44,
   "metadata": {
    "colab": {
     "base_uri": "https://localhost:8080/",
     "height": 296
    },
    "executionInfo": {
     "elapsed": 358,
     "status": "ok",
     "timestamp": 1622564183139,
     "user": {
      "displayName": "Moritz Waldleben",
      "photoUrl": "",
      "userId": "09098551526927023625"
     },
     "user_tz": -120
    },
    "id": "WynuMF65SpN2",
    "outputId": "22f6c405-ded0-4072-f1d9-d2fae18967fa"
   },
   "outputs": [
    {
     "data": {
      "text/plain": [
       "<matplotlib.legend.Legend at 0x228154dd7e0>"
      ]
     },
     "execution_count": 44,
     "metadata": {},
     "output_type": "execute_result"
    },
    {
     "data": {
      "image/png": "[encoded data removed]",
      "text/plain": [
       "<Figure size 432x288 with 1 Axes>"
      ]
     },
     "metadata": {
      "needs_background": "light"
     },
     "output_type": "display_data"
    }
   ],
   "source": [
    "# Plot losses\n",
    "train_loss = history['train_loss']\n",
    "val_loss = history['val_loss']\n",
    "\n",
    "plt.figure()\n",
    "plt.clf()\n",
    "plt.xlabel('Epochs')\n",
    "plt.ylabel('Loss')\n",
    "plt.plot(np.arange(0, len(train_loss)), train_loss, color='r', label='training loss')\n",
    "plt.plot(np.arange(0, len(val_loss)), val_loss, color='g', label='validation loss')\n",
    "plt.legend()"
   ]
  },
  {
   "cell_type": "markdown",
   "metadata": {
    "id": "S4aIH6cDSpN3"
   },
   "source": [
    "### 3.3 Evaluate Accuracy\n",
    "Compare how the model performs on the test dataset:"
   ]
  },
  {
   "cell_type": "code",
   "execution_count": 34,
   "metadata": {},
   "outputs": [],
   "source": [
    "# Evaluate the model\n",
    "def evaluate(model, x_test, y_test):\n",
    "    y_pred = model(x_test).detach()\n",
    "    res = np.argmax(y_pred, axis = 1) \n",
    "    \n",
    "    target = np.argmax(y_test, axis = 1)\n",
    "    train_acc = torch.sum(res == target) / x_test.size(0)\n",
    "\n",
    "    return train_acc"
   ]
  },
  {
   "cell_type": "code",
   "execution_count": 45,
   "metadata": {
    "colab": {
     "base_uri": "https://localhost:8080/"
    },
    "executionInfo": {
     "elapsed": 2257,
     "status": "ok",
     "timestamp": 1622564195573,
     "user": {
      "displayName": "Moritz Waldleben",
      "photoUrl": "",
      "userId": "09098551526927023625"
     },
     "user_tz": -120
    },
    "id": "WXofm6U9SpN4",
    "outputId": "35b0cb35-0715-48fa-8933-f366f46837de"
   },
   "outputs": [
    {
     "name": "stdout",
     "output_type": "stream",
     "text": [
      "Evaluate model:\n",
      "Test accuracy: 88.00%\n"
     ]
    }
   ],
   "source": [
    "print('Evaluate model:')\n",
    "#results = model.evaluate(x_test_r, y_test)\n",
    "accuracy = evaluate(model, torch.Tensor(x_test_r), torch.Tensor(y_test))\n",
    "#print('Test loss: {:f}'.format(results[0]))\n",
    "print('Test accuracy: {:.2f}%'.format(accuracy * 100))"
   ]
  },
  {
   "cell_type": "code",
   "execution_count": 104,
   "metadata": {
    "colab": {
     "base_uri": "https://localhost:8080/",
     "height": 303
    },
    "executionInfo": {
     "elapsed": 1858,
     "status": "ok",
     "timestamp": 1622564203469,
     "user": {
      "displayName": "Moritz Waldleben",
      "photoUrl": "",
      "userId": "09098551526927023625"
     },
     "user_tz": -120
    },
    "id": "Joyq3LJmSpN5",
    "outputId": "571c9e34-a7bd-4ce3-cde4-b837282ba9dd"
   },
   "outputs": [
    {
     "data": {
      "text/plain": [
       "<matplotlib.image.AxesImage at 0x20725f14400>"
      ]
     },
     "execution_count": 104,
     "metadata": {},
     "output_type": "execute_result"
    },
    {
     "data": {
      "image/png": "[encoded data removed]",
      "text/plain": [
       "<Figure size 432x288 with 1 Axes>"
      ]
     },
     "metadata": {
      "needs_background": "light"
     },
     "output_type": "display_data"
    }
   ],
   "source": [
    "# Plot a confusion matrix\n",
    "y_pred = model(torch.Tensor(x_test_r)).detach()\n",
    "\n",
    "y_pred_class_n = np.argmax(y_pred, axis=1)\n",
    "y_true_class_n = np.argmax(y_test, axis=1)\n",
    "\n",
    "#accuracy = accuracy_score(y_true_class_n, y_pred_class_n)\n",
    "#np.set_printoptions(precision=2)\n",
    "#print(\"Accuracy = {:.2f}%\".format(accuracy * 100))\n",
    "\n",
    "cm = confusion_matrix(y_true_class_n, y_pred_class_n, labels=[0,1,2])\n",
    "\n",
    "# Loop over data dimensions and create text annotations.\n",
    "thresh = cm.max() / 2.\n",
    "for i in range(cm.shape[0]):\n",
    "    for j in range(cm.shape[1]):\n",
    "        plt.text(j, i, format(cm[i, j], 'd'),\n",
    "                ha=\"center\", va=\"center\",\n",
    "                color=\"white\" if cm[i, j] > thresh else \"black\")\n",
    "\n",
    "plt.imshow(cm, cmap=plt.cm.Blues)"
   ]
  },
  {
   "cell_type": "markdown",
   "metadata": {
    "id": "zLO4GMgiSpN6"
   },
   "source": [
    "### 3.4 Save the model"
   ]
  },
  {
   "cell_type": "code",
   "execution_count": 106,
   "metadata": {
    "id": "4yXQZ3m7SpN7"
   },
   "outputs": [],
   "source": [
    "# Save the model into an HDF5 file ‘model.h5’\n",
    "#model.save('wmc.h5')\n",
    "torch.save(model.state_dict(), 'wmc_new.pth')"
   ]
  }
 ],
 "metadata": {
  "colab": {
   "name": "acoustic_scene_classification512.ipynb",
   "provenance": [],
   "toc_visible": true
  },
  "file_extension": ".py",
  "kernelspec": {
   "display_name": "Python 3.10.4 64-bit",
   "language": "python",
   "name": "python3"
  },
  "language_info": {
   "codemirror_mode": {
    "name": "ipython",
    "version": 3
   },
   "file_extension": ".py",
   "mimetype": "text/x-python",
   "name": "python",
   "nbconvert_exporter": "python",
   "pygments_lexer": "ipython3",
   "version": "3.10.4"
  },
  "mimetype": "text/x-python",
  "name": "python",
  "npconvert_exporter": "python",
  "pygments_lexer": "ipython3",
  "version": 3,
  "vscode": {
   "interpreter": {
    "hash": "156834c5d1080ff0c02c47ca6eec2f6edc8c4c7adce294369f0a57723b7397e9"
   }
  }
 },
 "nbformat": 4,
 "nbformat_minor": 1
}
